{
 "cells": [
  {
   "cell_type": "code",
   "execution_count": 1,
   "metadata": {},
   "outputs": [],
   "source": [
    "import pandas as pd\n",
    "import numpy as np\n",
    "import matplotlib.pyplot as plt\n",
    "import seaborn as sns\n",
    "%matplotlib inline"
   ]
  },
  {
   "cell_type": "code",
   "execution_count": 2,
   "metadata": {},
   "outputs": [],
   "source": [
    "data = pd.read_csv(r\"C:\\Users\\Admin\\Downloads\\train_set.csv\")"
   ]
  },
  {
   "cell_type": "code",
   "execution_count": 3,
   "metadata": {},
   "outputs": [
    {
     "data": {
      "text/html": [
       "<div>\n",
       "<style scoped>\n",
       "    .dataframe tbody tr th:only-of-type {\n",
       "        vertical-align: middle;\n",
       "    }\n",
       "\n",
       "    .dataframe tbody tr th {\n",
       "        vertical-align: top;\n",
       "    }\n",
       "\n",
       "    .dataframe thead th {\n",
       "        text-align: right;\n",
       "    }\n",
       "</style>\n",
       "<table border=\"1\" class=\"dataframe\">\n",
       "  <thead>\n",
       "    <tr style=\"text-align: right;\">\n",
       "      <th></th>\n",
       "      <th>ID</th>\n",
       "      <th>Gender</th>\n",
       "      <th>Age</th>\n",
       "      <th>Region_Code</th>\n",
       "      <th>Occupation</th>\n",
       "      <th>Channel_Code</th>\n",
       "      <th>Vintage</th>\n",
       "      <th>Credit_Product</th>\n",
       "      <th>Avg_Account_Balance</th>\n",
       "      <th>Is_Active</th>\n",
       "      <th>Is_Lead</th>\n",
       "    </tr>\n",
       "  </thead>\n",
       "  <tbody>\n",
       "    <tr>\n",
       "      <th>0</th>\n",
       "      <td>NNVBBKZB</td>\n",
       "      <td>Female</td>\n",
       "      <td>73</td>\n",
       "      <td>RG268</td>\n",
       "      <td>Other</td>\n",
       "      <td>X3</td>\n",
       "      <td>43</td>\n",
       "      <td>No</td>\n",
       "      <td>1045696</td>\n",
       "      <td>No</td>\n",
       "      <td>0</td>\n",
       "    </tr>\n",
       "    <tr>\n",
       "      <th>1</th>\n",
       "      <td>IDD62UNG</td>\n",
       "      <td>Female</td>\n",
       "      <td>30</td>\n",
       "      <td>RG277</td>\n",
       "      <td>Salaried</td>\n",
       "      <td>X1</td>\n",
       "      <td>32</td>\n",
       "      <td>No</td>\n",
       "      <td>581988</td>\n",
       "      <td>No</td>\n",
       "      <td>0</td>\n",
       "    </tr>\n",
       "    <tr>\n",
       "      <th>2</th>\n",
       "      <td>HD3DSEMC</td>\n",
       "      <td>Female</td>\n",
       "      <td>56</td>\n",
       "      <td>RG268</td>\n",
       "      <td>Self_Employed</td>\n",
       "      <td>X3</td>\n",
       "      <td>26</td>\n",
       "      <td>No</td>\n",
       "      <td>1484315</td>\n",
       "      <td>Yes</td>\n",
       "      <td>0</td>\n",
       "    </tr>\n",
       "    <tr>\n",
       "      <th>3</th>\n",
       "      <td>BF3NC7KV</td>\n",
       "      <td>Male</td>\n",
       "      <td>34</td>\n",
       "      <td>RG270</td>\n",
       "      <td>Salaried</td>\n",
       "      <td>X1</td>\n",
       "      <td>19</td>\n",
       "      <td>No</td>\n",
       "      <td>470454</td>\n",
       "      <td>No</td>\n",
       "      <td>0</td>\n",
       "    </tr>\n",
       "    <tr>\n",
       "      <th>4</th>\n",
       "      <td>TEASRWXV</td>\n",
       "      <td>Female</td>\n",
       "      <td>30</td>\n",
       "      <td>RG282</td>\n",
       "      <td>Salaried</td>\n",
       "      <td>X1</td>\n",
       "      <td>33</td>\n",
       "      <td>No</td>\n",
       "      <td>886787</td>\n",
       "      <td>No</td>\n",
       "      <td>0</td>\n",
       "    </tr>\n",
       "  </tbody>\n",
       "</table>\n",
       "</div>"
      ],
      "text/plain": [
       "         ID  Gender  Age Region_Code     Occupation Channel_Code  Vintage  \\\n",
       "0  NNVBBKZB  Female   73       RG268          Other           X3       43   \n",
       "1  IDD62UNG  Female   30       RG277       Salaried           X1       32   \n",
       "2  HD3DSEMC  Female   56       RG268  Self_Employed           X3       26   \n",
       "3  BF3NC7KV    Male   34       RG270       Salaried           X1       19   \n",
       "4  TEASRWXV  Female   30       RG282       Salaried           X1       33   \n",
       "\n",
       "  Credit_Product  Avg_Account_Balance Is_Active  Is_Lead  \n",
       "0             No              1045696        No        0  \n",
       "1             No               581988        No        0  \n",
       "2             No              1484315       Yes        0  \n",
       "3             No               470454        No        0  \n",
       "4             No               886787        No        0  "
      ]
     },
     "execution_count": 3,
     "metadata": {},
     "output_type": "execute_result"
    }
   ],
   "source": [
    "data.head()"
   ]
  },
  {
   "cell_type": "code",
   "execution_count": 4,
   "metadata": {},
   "outputs": [
    {
     "data": {
      "text/plain": [
       "(245725, 11)"
      ]
     },
     "execution_count": 4,
     "metadata": {},
     "output_type": "execute_result"
    }
   ],
   "source": [
    "data.shape"
   ]
  },
  {
   "cell_type": "code",
   "execution_count": 5,
   "metadata": {
    "scrolled": true
   },
   "outputs": [
    {
     "data": {
      "text/html": [
       "<div>\n",
       "<style scoped>\n",
       "    .dataframe tbody tr th:only-of-type {\n",
       "        vertical-align: middle;\n",
       "    }\n",
       "\n",
       "    .dataframe tbody tr th {\n",
       "        vertical-align: top;\n",
       "    }\n",
       "\n",
       "    .dataframe thead th {\n",
       "        text-align: right;\n",
       "    }\n",
       "</style>\n",
       "<table border=\"1\" class=\"dataframe\">\n",
       "  <thead>\n",
       "    <tr style=\"text-align: right;\">\n",
       "      <th></th>\n",
       "      <th>Age</th>\n",
       "      <th>Vintage</th>\n",
       "      <th>Avg_Account_Balance</th>\n",
       "      <th>Is_Lead</th>\n",
       "    </tr>\n",
       "  </thead>\n",
       "  <tbody>\n",
       "    <tr>\n",
       "      <th>count</th>\n",
       "      <td>245725.000000</td>\n",
       "      <td>245725.000000</td>\n",
       "      <td>2.457250e+05</td>\n",
       "      <td>245725.000000</td>\n",
       "    </tr>\n",
       "    <tr>\n",
       "      <th>mean</th>\n",
       "      <td>43.856307</td>\n",
       "      <td>46.959141</td>\n",
       "      <td>1.128403e+06</td>\n",
       "      <td>0.237208</td>\n",
       "    </tr>\n",
       "    <tr>\n",
       "      <th>std</th>\n",
       "      <td>14.828672</td>\n",
       "      <td>32.353136</td>\n",
       "      <td>8.529364e+05</td>\n",
       "      <td>0.425372</td>\n",
       "    </tr>\n",
       "    <tr>\n",
       "      <th>min</th>\n",
       "      <td>23.000000</td>\n",
       "      <td>7.000000</td>\n",
       "      <td>2.079000e+04</td>\n",
       "      <td>0.000000</td>\n",
       "    </tr>\n",
       "    <tr>\n",
       "      <th>25%</th>\n",
       "      <td>30.000000</td>\n",
       "      <td>20.000000</td>\n",
       "      <td>6.043100e+05</td>\n",
       "      <td>0.000000</td>\n",
       "    </tr>\n",
       "    <tr>\n",
       "      <th>50%</th>\n",
       "      <td>43.000000</td>\n",
       "      <td>32.000000</td>\n",
       "      <td>8.946010e+05</td>\n",
       "      <td>0.000000</td>\n",
       "    </tr>\n",
       "    <tr>\n",
       "      <th>75%</th>\n",
       "      <td>54.000000</td>\n",
       "      <td>73.000000</td>\n",
       "      <td>1.366666e+06</td>\n",
       "      <td>0.000000</td>\n",
       "    </tr>\n",
       "    <tr>\n",
       "      <th>max</th>\n",
       "      <td>85.000000</td>\n",
       "      <td>135.000000</td>\n",
       "      <td>1.035201e+07</td>\n",
       "      <td>1.000000</td>\n",
       "    </tr>\n",
       "  </tbody>\n",
       "</table>\n",
       "</div>"
      ],
      "text/plain": [
       "                 Age        Vintage  Avg_Account_Balance        Is_Lead\n",
       "count  245725.000000  245725.000000         2.457250e+05  245725.000000\n",
       "mean       43.856307      46.959141         1.128403e+06       0.237208\n",
       "std        14.828672      32.353136         8.529364e+05       0.425372\n",
       "min        23.000000       7.000000         2.079000e+04       0.000000\n",
       "25%        30.000000      20.000000         6.043100e+05       0.000000\n",
       "50%        43.000000      32.000000         8.946010e+05       0.000000\n",
       "75%        54.000000      73.000000         1.366666e+06       0.000000\n",
       "max        85.000000     135.000000         1.035201e+07       1.000000"
      ]
     },
     "execution_count": 5,
     "metadata": {},
     "output_type": "execute_result"
    }
   ],
   "source": [
    "data.describe()"
   ]
  },
  {
   "cell_type": "code",
   "execution_count": 6,
   "metadata": {},
   "outputs": [
    {
     "name": "stdout",
     "output_type": "stream",
     "text": [
      "<class 'pandas.core.frame.DataFrame'>\n",
      "RangeIndex: 245725 entries, 0 to 245724\n",
      "Data columns (total 11 columns):\n",
      " #   Column               Non-Null Count   Dtype \n",
      "---  ------               --------------   ----- \n",
      " 0   ID                   245725 non-null  object\n",
      " 1   Gender               245725 non-null  object\n",
      " 2   Age                  245725 non-null  int64 \n",
      " 3   Region_Code          245725 non-null  object\n",
      " 4   Occupation           245725 non-null  object\n",
      " 5   Channel_Code         245725 non-null  object\n",
      " 6   Vintage              245725 non-null  int64 \n",
      " 7   Credit_Product       216400 non-null  object\n",
      " 8   Avg_Account_Balance  245725 non-null  int64 \n",
      " 9   Is_Active            245725 non-null  object\n",
      " 10  Is_Lead              245725 non-null  int64 \n",
      "dtypes: int64(4), object(7)\n",
      "memory usage: 20.6+ MB\n"
     ]
    }
   ],
   "source": [
    "data.info()"
   ]
  },
  {
   "cell_type": "code",
   "execution_count": 7,
   "metadata": {},
   "outputs": [],
   "source": [
    "# Dropping the \"ID\" column as it is not useful in the analysis"
   ]
  },
  {
   "cell_type": "code",
   "execution_count": 8,
   "metadata": {},
   "outputs": [
    {
     "data": {
      "text/html": [
       "<div>\n",
       "<style scoped>\n",
       "    .dataframe tbody tr th:only-of-type {\n",
       "        vertical-align: middle;\n",
       "    }\n",
       "\n",
       "    .dataframe tbody tr th {\n",
       "        vertical-align: top;\n",
       "    }\n",
       "\n",
       "    .dataframe thead th {\n",
       "        text-align: right;\n",
       "    }\n",
       "</style>\n",
       "<table border=\"1\" class=\"dataframe\">\n",
       "  <thead>\n",
       "    <tr style=\"text-align: right;\">\n",
       "      <th></th>\n",
       "      <th>Gender</th>\n",
       "      <th>Age</th>\n",
       "      <th>Region_Code</th>\n",
       "      <th>Occupation</th>\n",
       "      <th>Channel_Code</th>\n",
       "      <th>Vintage</th>\n",
       "      <th>Credit_Product</th>\n",
       "      <th>Avg_Account_Balance</th>\n",
       "      <th>Is_Active</th>\n",
       "      <th>Is_Lead</th>\n",
       "    </tr>\n",
       "  </thead>\n",
       "  <tbody>\n",
       "    <tr>\n",
       "      <th>0</th>\n",
       "      <td>Female</td>\n",
       "      <td>73</td>\n",
       "      <td>RG268</td>\n",
       "      <td>Other</td>\n",
       "      <td>X3</td>\n",
       "      <td>43</td>\n",
       "      <td>No</td>\n",
       "      <td>1045696</td>\n",
       "      <td>No</td>\n",
       "      <td>0</td>\n",
       "    </tr>\n",
       "    <tr>\n",
       "      <th>1</th>\n",
       "      <td>Female</td>\n",
       "      <td>30</td>\n",
       "      <td>RG277</td>\n",
       "      <td>Salaried</td>\n",
       "      <td>X1</td>\n",
       "      <td>32</td>\n",
       "      <td>No</td>\n",
       "      <td>581988</td>\n",
       "      <td>No</td>\n",
       "      <td>0</td>\n",
       "    </tr>\n",
       "    <tr>\n",
       "      <th>2</th>\n",
       "      <td>Female</td>\n",
       "      <td>56</td>\n",
       "      <td>RG268</td>\n",
       "      <td>Self_Employed</td>\n",
       "      <td>X3</td>\n",
       "      <td>26</td>\n",
       "      <td>No</td>\n",
       "      <td>1484315</td>\n",
       "      <td>Yes</td>\n",
       "      <td>0</td>\n",
       "    </tr>\n",
       "    <tr>\n",
       "      <th>3</th>\n",
       "      <td>Male</td>\n",
       "      <td>34</td>\n",
       "      <td>RG270</td>\n",
       "      <td>Salaried</td>\n",
       "      <td>X1</td>\n",
       "      <td>19</td>\n",
       "      <td>No</td>\n",
       "      <td>470454</td>\n",
       "      <td>No</td>\n",
       "      <td>0</td>\n",
       "    </tr>\n",
       "    <tr>\n",
       "      <th>4</th>\n",
       "      <td>Female</td>\n",
       "      <td>30</td>\n",
       "      <td>RG282</td>\n",
       "      <td>Salaried</td>\n",
       "      <td>X1</td>\n",
       "      <td>33</td>\n",
       "      <td>No</td>\n",
       "      <td>886787</td>\n",
       "      <td>No</td>\n",
       "      <td>0</td>\n",
       "    </tr>\n",
       "  </tbody>\n",
       "</table>\n",
       "</div>"
      ],
      "text/plain": [
       "   Gender  Age Region_Code     Occupation Channel_Code  Vintage  \\\n",
       "0  Female   73       RG268          Other           X3       43   \n",
       "1  Female   30       RG277       Salaried           X1       32   \n",
       "2  Female   56       RG268  Self_Employed           X3       26   \n",
       "3    Male   34       RG270       Salaried           X1       19   \n",
       "4  Female   30       RG282       Salaried           X1       33   \n",
       "\n",
       "  Credit_Product  Avg_Account_Balance Is_Active  Is_Lead  \n",
       "0             No              1045696        No        0  \n",
       "1             No               581988        No        0  \n",
       "2             No              1484315       Yes        0  \n",
       "3             No               470454        No        0  \n",
       "4             No               886787        No        0  "
      ]
     },
     "execution_count": 8,
     "metadata": {},
     "output_type": "execute_result"
    }
   ],
   "source": [
    "data = data.drop(columns=\"ID\", axis=1)\n",
    "data.head()"
   ]
  },
  {
   "cell_type": "markdown",
   "metadata": {},
   "source": [
    "## Exploratory Data Analysis"
   ]
  },
  {
   "cell_type": "code",
   "execution_count": 9,
   "metadata": {},
   "outputs": [],
   "source": [
    "# Checking the NA values in the dataset"
   ]
  },
  {
   "cell_type": "code",
   "execution_count": 10,
   "metadata": {},
   "outputs": [
    {
     "data": {
      "text/plain": [
       "Gender                     0\n",
       "Age                        0\n",
       "Region_Code                0\n",
       "Occupation                 0\n",
       "Channel_Code               0\n",
       "Vintage                    0\n",
       "Credit_Product         29325\n",
       "Avg_Account_Balance        0\n",
       "Is_Active                  0\n",
       "Is_Lead                    0\n",
       "dtype: int64"
      ]
     },
     "execution_count": 10,
     "metadata": {},
     "output_type": "execute_result"
    }
   ],
   "source": [
    "data.isna().sum()"
   ]
  },
  {
   "cell_type": "markdown",
   "metadata": {},
   "source": [
    "#### Only \"Credit_Product\" has missing values"
   ]
  },
  {
   "cell_type": "code",
   "execution_count": 11,
   "metadata": {},
   "outputs": [
    {
     "name": "stdout",
     "output_type": "stream",
     "text": [
      "Missing values in the Credit_Product -  11.93 %\n"
     ]
    }
   ],
   "source": [
    "percentage =(data[\"Credit_Product\"].isna().sum()/len(data[\"Credit_Product\"])) * 100\n",
    "print(\"Missing values in the Credit_Product - \",\"%.2f\" %percentage, \"%\")"
   ]
  },
  {
   "cell_type": "markdown",
   "metadata": {},
   "source": [
    "### Numerical Variables in the data"
   ]
  },
  {
   "cell_type": "code",
   "execution_count": 12,
   "metadata": {},
   "outputs": [],
   "source": [
    "numerical_variables = [feature for feature in data.columns if data[feature].dtype != \"O\"]"
   ]
  },
  {
   "cell_type": "code",
   "execution_count": 13,
   "metadata": {},
   "outputs": [
    {
     "data": {
      "text/plain": [
       "['Age', 'Vintage', 'Avg_Account_Balance', 'Is_Lead']"
      ]
     },
     "execution_count": 13,
     "metadata": {},
     "output_type": "execute_result"
    }
   ],
   "source": [
    "numerical_variables"
   ]
  },
  {
   "cell_type": "code",
   "execution_count": 14,
   "metadata": {},
   "outputs": [],
   "source": [
    "del numerical_variables[3]"
   ]
  },
  {
   "cell_type": "code",
   "execution_count": 15,
   "metadata": {},
   "outputs": [
    {
     "data": {
      "text/plain": [
       "['Age', 'Vintage', 'Avg_Account_Balance']"
      ]
     },
     "execution_count": 15,
     "metadata": {},
     "output_type": "execute_result"
    }
   ],
   "source": [
    "numerical_variables"
   ]
  },
  {
   "cell_type": "code",
   "execution_count": 16,
   "metadata": {
    "scrolled": true
   },
   "outputs": [
    {
     "data": {
      "text/html": [
       "<div>\n",
       "<style scoped>\n",
       "    .dataframe tbody tr th:only-of-type {\n",
       "        vertical-align: middle;\n",
       "    }\n",
       "\n",
       "    .dataframe tbody tr th {\n",
       "        vertical-align: top;\n",
       "    }\n",
       "\n",
       "    .dataframe thead th {\n",
       "        text-align: right;\n",
       "    }\n",
       "</style>\n",
       "<table border=\"1\" class=\"dataframe\">\n",
       "  <thead>\n",
       "    <tr style=\"text-align: right;\">\n",
       "      <th></th>\n",
       "      <th>Age</th>\n",
       "      <th>Vintage</th>\n",
       "      <th>Avg_Account_Balance</th>\n",
       "    </tr>\n",
       "  </thead>\n",
       "  <tbody>\n",
       "    <tr>\n",
       "      <th>0</th>\n",
       "      <td>73</td>\n",
       "      <td>43</td>\n",
       "      <td>1045696</td>\n",
       "    </tr>\n",
       "    <tr>\n",
       "      <th>1</th>\n",
       "      <td>30</td>\n",
       "      <td>32</td>\n",
       "      <td>581988</td>\n",
       "    </tr>\n",
       "    <tr>\n",
       "      <th>2</th>\n",
       "      <td>56</td>\n",
       "      <td>26</td>\n",
       "      <td>1484315</td>\n",
       "    </tr>\n",
       "    <tr>\n",
       "      <th>3</th>\n",
       "      <td>34</td>\n",
       "      <td>19</td>\n",
       "      <td>470454</td>\n",
       "    </tr>\n",
       "    <tr>\n",
       "      <th>4</th>\n",
       "      <td>30</td>\n",
       "      <td>33</td>\n",
       "      <td>886787</td>\n",
       "    </tr>\n",
       "  </tbody>\n",
       "</table>\n",
       "</div>"
      ],
      "text/plain": [
       "   Age  Vintage  Avg_Account_Balance\n",
       "0   73       43              1045696\n",
       "1   30       32               581988\n",
       "2   56       26              1484315\n",
       "3   34       19               470454\n",
       "4   30       33               886787"
      ]
     },
     "execution_count": 16,
     "metadata": {},
     "output_type": "execute_result"
    }
   ],
   "source": [
    "data[numerical_variables].head()"
   ]
  },
  {
   "cell_type": "code",
   "execution_count": 17,
   "metadata": {},
   "outputs": [
    {
     "data": {
      "text/plain": [
       "Gender                      2\n",
       "Age                        63\n",
       "Region_Code                35\n",
       "Occupation                  4\n",
       "Channel_Code                4\n",
       "Vintage                    66\n",
       "Credit_Product              2\n",
       "Avg_Account_Balance    135292\n",
       "Is_Active                   2\n",
       "Is_Lead                     2\n",
       "dtype: int64"
      ]
     },
     "execution_count": 17,
     "metadata": {},
     "output_type": "execute_result"
    }
   ],
   "source": [
    "data.nunique()"
   ]
  },
  {
   "cell_type": "code",
   "execution_count": 18,
   "metadata": {},
   "outputs": [
    {
     "data": {
      "text/plain": [
       "array([0, 1], dtype=int64)"
      ]
     },
     "execution_count": 18,
     "metadata": {},
     "output_type": "execute_result"
    }
   ],
   "source": [
    "data[\"Is_Lead\"].unique()"
   ]
  },
  {
   "cell_type": "markdown",
   "metadata": {},
   "source": [
    "### Univariate Analysis"
   ]
  },
  {
   "cell_type": "code",
   "execution_count": 19,
   "metadata": {},
   "outputs": [],
   "source": [
    "# Using histograms to analyze the distributions of the data"
   ]
  },
  {
   "cell_type": "code",
   "execution_count": 20,
   "metadata": {
    "scrolled": true
   },
   "outputs": [
    {
     "data": {
      "image/png": "[encoded data removed]",
      "text/plain": [
       "<Figure size 432x288 with 1 Axes>"
      ]
     },
     "metadata": {
      "needs_background": "light"
     },
     "output_type": "display_data"
    },
    {
     "data": {
      "image/png": "[encoded data removed]",
      "text/plain": [
       "<Figure size 432x288 with 1 Axes>"
      ]
     },
     "metadata": {
      "needs_background": "light"
     },
     "output_type": "display_data"
    },
    {
     "data": {
      "image/png": "[encoded data removed]",
      "text/plain": [
       "<Figure size 432x288 with 1 Axes>"
      ]
     },
     "metadata": {
      "needs_background": "light"
     },
     "output_type": "display_data"
    }
   ],
   "source": [
    "for feature in numerical_variables:\n",
    "    data[feature].hist(bins=20)\n",
    "    plt.title(\"Histogram of \"+ feature)\n",
    "    plt.xlabel(feature)\n",
    "    plt.ylabel(\"Count\")\n",
    "    plt.show()"
   ]
  },
  {
   "cell_type": "markdown",
   "metadata": {},
   "source": [
    "####  'Age', 'Vintage', 'Avg_Account_Balance' are not normally distributed but they right skewwed"
   ]
  },
  {
   "cell_type": "code",
   "execution_count": 21,
   "metadata": {},
   "outputs": [],
   "source": [
    "# Boxplots to identify the outlier values"
   ]
  },
  {
   "cell_type": "code",
   "execution_count": 22,
   "metadata": {},
   "outputs": [
    {
     "data": {
      "image/png": "[encoded data removed]",
      "text/plain": [
       "<Figure size 432x288 with 1 Axes>"
      ]
     },
     "metadata": {
      "needs_background": "light"
     },
     "output_type": "display_data"
    },
    {
     "data": {
      "image/png": "[encoded data removed]",
      "text/plain": [
       "<Figure size 432x288 with 1 Axes>"
      ]
     },
     "metadata": {
      "needs_background": "light"
     },
     "output_type": "display_data"
    },
    {
     "data": {
      "image/png": "[encoded data removed]",
      "text/plain": [
       "<Figure size 432x288 with 1 Axes>"
      ]
     },
     "metadata": {
      "needs_background": "light"
     },
     "output_type": "display_data"
    }
   ],
   "source": [
    "for feature in numerical_variables:\n",
    "    data.boxplot(column = feature)\n",
    "    plt.title(\"Boxplot of \"+ feature)\n",
    "    plt.show()"
   ]
  },
  {
   "cell_type": "markdown",
   "metadata": {},
   "source": [
    "#### There are lot of outliers in the 'Avg_Account_Balance'"
   ]
  },
  {
   "cell_type": "code",
   "execution_count": 23,
   "metadata": {},
   "outputs": [],
   "source": [
    "dataset = data"
   ]
  },
  {
   "cell_type": "code",
   "execution_count": 24,
   "metadata": {},
   "outputs": [],
   "source": [
    "# Identifying the outliers using IQR method"
   ]
  },
  {
   "cell_type": "code",
   "execution_count": 25,
   "metadata": {},
   "outputs": [],
   "source": [
    "Q1 = dataset.quantile(0.25)\n",
    "Q3 = dataset.quantile(0.75)\n",
    "IQR = Q3 - Q1"
   ]
  },
  {
   "cell_type": "code",
   "execution_count": 26,
   "metadata": {},
   "outputs": [],
   "source": [
    "# Number of outliers in the variable"
   ]
  },
  {
   "cell_type": "code",
   "execution_count": 27,
   "metadata": {},
   "outputs": [
    {
     "data": {
      "text/plain": [
       "Age                        0\n",
       "Avg_Account_Balance     5028\n",
       "Channel_Code               0\n",
       "Credit_Product             0\n",
       "Gender                     0\n",
       "Is_Active                  0\n",
       "Is_Lead                58288\n",
       "Occupation                 0\n",
       "Region_Code                0\n",
       "Vintage                    0\n",
       "dtype: int64"
      ]
     },
     "execution_count": 27,
     "metadata": {},
     "output_type": "execute_result"
    }
   ],
   "source": [
    "((dataset < (Q1 - 3 * IQR)) | (dataset > (Q3 + 3 * IQR))).sum()"
   ]
  },
  {
   "cell_type": "markdown",
   "metadata": {},
   "source": [
    "#### There are many outliers in the \"Avg_Account_Balance\""
   ]
  },
  {
   "cell_type": "code",
   "execution_count": 28,
   "metadata": {
    "scrolled": false
   },
   "outputs": [
    {
     "name": "stdout",
     "output_type": "stream",
     "text": [
      "-1682758.0 \n",
      " 3653734.0\n"
     ]
    }
   ],
   "source": [
    "IQR_data = dataset[\"Avg_Account_Balance\"].quantile(0.75) - dataset[\"Avg_Account_Balance\"].quantile(0.25)\n",
    "lower_bridge = dataset[\"Avg_Account_Balance\"].quantile(0.25) - (IQR_data * 3)\n",
    "upper_bridge = dataset[\"Avg_Account_Balance\"].quantile(0.75) + (IQR_data * 3)\n",
    "print(lower_bridge,'\\n',upper_bridge)"
   ]
  },
  {
   "cell_type": "code",
   "execution_count": 29,
   "metadata": {
    "scrolled": true
   },
   "outputs": [
    {
     "data": {
      "text/plain": [
       "array([0, 1], dtype=int64)"
      ]
     },
     "execution_count": 29,
     "metadata": {},
     "output_type": "execute_result"
    }
   ],
   "source": [
    "dataset[\"Is_Lead\"].unique()"
   ]
  },
  {
   "cell_type": "code",
   "execution_count": 30,
   "metadata": {},
   "outputs": [],
   "source": [
    "dataset.loc[dataset[\"Avg_Account_Balance\"]> upper_bridge, \"Avg_Account_Balance\"] = upper_bridge"
   ]
  },
  {
   "cell_type": "code",
   "execution_count": 31,
   "metadata": {},
   "outputs": [
    {
     "data": {
      "text/plain": [
       "Age                        0\n",
       "Avg_Account_Balance        0\n",
       "Channel_Code               0\n",
       "Credit_Product             0\n",
       "Gender                     0\n",
       "Is_Active                  0\n",
       "Is_Lead                58288\n",
       "Occupation                 0\n",
       "Region_Code                0\n",
       "Vintage                    0\n",
       "dtype: int64"
      ]
     },
     "execution_count": 31,
     "metadata": {},
     "output_type": "execute_result"
    }
   ],
   "source": [
    "((dataset < (Q1 - 3 * IQR)) | (dataset > (Q3 + 3 * IQR))).sum()"
   ]
  },
  {
   "cell_type": "markdown",
   "metadata": {},
   "source": [
    "### Bivariate Analysis"
   ]
  },
  {
   "cell_type": "code",
   "execution_count": 32,
   "metadata": {},
   "outputs": [],
   "source": [
    "# Using boxplots to understand the relationship between the input numerical variables and output"
   ]
  },
  {
   "cell_type": "code",
   "execution_count": 33,
   "metadata": {},
   "outputs": [
    {
     "data": {
      "image/png": "[encoded data removed]",
      "text/plain": [
       "<Figure size 432x288 with 1 Axes>"
      ]
     },
     "metadata": {
      "needs_background": "light"
     },
     "output_type": "display_data"
    },
    {
     "data": {
      "image/png": "[encoded data removed]",
      "text/plain": [
       "<Figure size 432x288 with 1 Axes>"
      ]
     },
     "metadata": {
      "needs_background": "light"
     },
     "output_type": "display_data"
    },
    {
     "data": {
      "image/png": "[encoded data removed]",
      "text/plain": [
       "<Figure size 432x288 with 1 Axes>"
      ]
     },
     "metadata": {
      "needs_background": "light"
     },
     "output_type": "display_data"
    }
   ],
   "source": [
    "for feature in numerical_variables:\n",
    "    sns.boxplot(\"Is_Lead\", feature, data=dataset, palette=\"hls\")\n",
    "    plt.title(\"Boxplot\")\n",
    "    plt.show()"
   ]
  },
  {
   "cell_type": "code",
   "execution_count": 34,
   "metadata": {},
   "outputs": [],
   "source": [
    "# Countplot of dependent variable"
   ]
  },
  {
   "cell_type": "code",
   "execution_count": 35,
   "metadata": {},
   "outputs": [
    {
     "data": {
      "text/plain": [
       "<matplotlib.axes._subplots.AxesSubplot at 0x232a8c77088>"
      ]
     },
     "execution_count": 35,
     "metadata": {},
     "output_type": "execute_result"
    },
    {
     "data": {
      "image/png": "[encoded data removed]",
      "text/plain": [
       "<Figure size 432x288 with 1 Axes>"
      ]
     },
     "metadata": {
      "needs_background": "light"
     },
     "output_type": "display_data"
    }
   ],
   "source": [
    "sns.countplot(\"Is_Lead\", data= dataset, palette='hls')"
   ]
  },
  {
   "cell_type": "code",
   "execution_count": 36,
   "metadata": {},
   "outputs": [
    {
     "data": {
      "text/plain": [
       "0    187437\n",
       "1     58288\n",
       "Name: Is_Lead, dtype: int64"
      ]
     },
     "execution_count": 36,
     "metadata": {},
     "output_type": "execute_result"
    }
   ],
   "source": [
    "dataset[\"Is_Lead\"].value_counts()"
   ]
  },
  {
   "cell_type": "code",
   "execution_count": 37,
   "metadata": {},
   "outputs": [
    {
     "name": "stdout",
     "output_type": "stream",
     "text": [
      "Interested customers 31.10 %\n",
      "Not interested customers 68.90 %\n"
     ]
    }
   ],
   "source": [
    "inter = sum(dataset[\"Is_Lead\"] == 1)/sum(dataset[\"Is_Lead\"]==0) * 100\n",
    "non_inter = 100 - inter\n",
    "\n",
    "print(\"Interested customers\", \"%.2f\" %inter, \"%\")\n",
    "print(\"Not interested customers\",\"%.2f\" %non_inter, \"%\")"
   ]
  },
  {
   "cell_type": "markdown",
   "metadata": {},
   "source": [
    "### Categorical Variables"
   ]
  },
  {
   "cell_type": "code",
   "execution_count": 38,
   "metadata": {},
   "outputs": [],
   "source": [
    "categorical_features = [feature for feature in dataset.columns if dataset[feature].dtype == \"O\"]"
   ]
  },
  {
   "cell_type": "code",
   "execution_count": 39,
   "metadata": {},
   "outputs": [
    {
     "data": {
      "text/plain": [
       "['Gender',\n",
       " 'Region_Code',\n",
       " 'Occupation',\n",
       " 'Channel_Code',\n",
       " 'Credit_Product',\n",
       " 'Is_Active']"
      ]
     },
     "execution_count": 39,
     "metadata": {},
     "output_type": "execute_result"
    }
   ],
   "source": [
    "categorical_features"
   ]
  },
  {
   "cell_type": "code",
   "execution_count": 40,
   "metadata": {},
   "outputs": [
    {
     "data": {
      "text/plain": [
       "Gender             2\n",
       "Region_Code       35\n",
       "Occupation         4\n",
       "Channel_Code       4\n",
       "Credit_Product     2\n",
       "Is_Active          2\n",
       "dtype: int64"
      ]
     },
     "execution_count": 40,
     "metadata": {},
     "output_type": "execute_result"
    }
   ],
   "source": [
    "dataset[categorical_features].nunique()"
   ]
  },
  {
   "cell_type": "markdown",
   "metadata": {},
   "source": [
    "### Univariate Analysis"
   ]
  },
  {
   "cell_type": "code",
   "execution_count": 41,
   "metadata": {},
   "outputs": [],
   "source": [
    "# Using the countplots to observe the counts of each categorical variable"
   ]
  },
  {
   "cell_type": "code",
   "execution_count": 42,
   "metadata": {},
   "outputs": [
    {
     "data": {
      "image/png": "[encoded data removed]",
      "text/plain": [
       "<Figure size 432x288 with 1 Axes>"
      ]
     },
     "metadata": {
      "needs_background": "light"
     },
     "output_type": "display_data"
    },
    {
     "data": {
      "image/png": "[encoded data removed]",
      "text/plain": [
       "<Figure size 432x288 with 1 Axes>"
      ]
     },
     "metadata": {
      "needs_background": "light"
     },
     "output_type": "display_data"
    },
    {
     "data": {
      "image/png": "[encoded data removed]",
      "text/plain": [
       "<Figure size 432x288 with 1 Axes>"
      ]
     },
     "metadata": {
      "needs_background": "light"
     },
     "output_type": "display_data"
    },
    {
     "data": {
      "image/png": "[encoded data removed]",
      "text/plain": [
       "<Figure size 432x288 with 1 Axes>"
      ]
     },
     "metadata": {
      "needs_background": "light"
     },
     "output_type": "display_data"
    },
    {
     "data": {
      "image/png": "[encoded data removed]",
      "text/plain": [
       "<Figure size 432x288 with 1 Axes>"
      ]
     },
     "metadata": {
      "needs_background": "light"
     },
     "output_type": "display_data"
    },
    {
     "data": {
      "image/png": "[encoded data removed]",
      "text/plain": [
       "<Figure size 432x288 with 1 Axes>"
      ]
     },
     "metadata": {
      "needs_background": "light"
     },
     "output_type": "display_data"
    }
   ],
   "source": [
    "for feature in categorical_features:\n",
    "    sns.countplot(feature, data = dataset, palette = \"hls\")\n",
    "    plt.title(\"Countplot\")\n",
    "    plt.show()"
   ]
  },
  {
   "cell_type": "markdown",
   "metadata": {},
   "source": [
    "### Bivariate analysis"
   ]
  },
  {
   "cell_type": "code",
   "execution_count": 43,
   "metadata": {},
   "outputs": [],
   "source": [
    "# Cross-tabulation of independent varibales with respect to dependent variable"
   ]
  },
  {
   "cell_type": "code",
   "execution_count": 44,
   "metadata": {},
   "outputs": [
    {
     "data": {
      "image/png": "[encoded data removed]",
      "text/plain": [
       "<Figure size 432x288 with 1 Axes>"
      ]
     },
     "metadata": {
      "needs_background": "light"
     },
     "output_type": "display_data"
    },
    {
     "data": {
      "image/png": "[encoded data removed]",
      "text/plain": [
       "<Figure size 432x288 with 1 Axes>"
      ]
     },
     "metadata": {
      "needs_background": "light"
     },
     "output_type": "display_data"
    },
    {
     "data": {
      "image/png": "[encoded data removed]",
      "text/plain": [
       "<Figure size 432x288 with 1 Axes>"
      ]
     },
     "metadata": {
      "needs_background": "light"
     },
     "output_type": "display_data"
    },
    {
     "data": {
      "image/png": "[encoded data removed]",
      "text/plain": [
       "<Figure size 432x288 with 1 Axes>"
      ]
     },
     "metadata": {
      "needs_background": "light"
     },
     "output_type": "display_data"
    },
    {
     "data": {
      "image/png": "[encoded data removed]",
      "text/plain": [
       "<Figure size 432x288 with 1 Axes>"
      ]
     },
     "metadata": {
      "needs_background": "light"
     },
     "output_type": "display_data"
    },
    {
     "data": {
      "image/png": "[encoded data removed]",
      "text/plain": [
       "<Figure size 432x288 with 1 Axes>"
      ]
     },
     "metadata": {
      "needs_background": "light"
     },
     "output_type": "display_data"
    }
   ],
   "source": [
    "for feature in categorical_features:\n",
    "    pd.crosstab(dataset[feature], dataset[\"Is_Lead\"]).plot(kind=\"bar\")\n",
    "    plt.title(\"Crosstab plot\")\n",
    "    plt.show()"
   ]
  },
  {
   "cell_type": "markdown",
   "metadata": {},
   "source": [
    "### Correlation Matrix"
   ]
  },
  {
   "cell_type": "code",
   "execution_count": 45,
   "metadata": {},
   "outputs": [],
   "source": [
    "corr = dataset.corr()"
   ]
  },
  {
   "cell_type": "code",
   "execution_count": 46,
   "metadata": {},
   "outputs": [
    {
     "data": {
      "text/html": [
       "<div>\n",
       "<style scoped>\n",
       "    .dataframe tbody tr th:only-of-type {\n",
       "        vertical-align: middle;\n",
       "    }\n",
       "\n",
       "    .dataframe tbody tr th {\n",
       "        vertical-align: top;\n",
       "    }\n",
       "\n",
       "    .dataframe thead th {\n",
       "        text-align: right;\n",
       "    }\n",
       "</style>\n",
       "<table border=\"1\" class=\"dataframe\">\n",
       "  <thead>\n",
       "    <tr style=\"text-align: right;\">\n",
       "      <th></th>\n",
       "      <th>Age</th>\n",
       "      <th>Vintage</th>\n",
       "      <th>Avg_Account_Balance</th>\n",
       "      <th>Is_Lead</th>\n",
       "    </tr>\n",
       "  </thead>\n",
       "  <tbody>\n",
       "    <tr>\n",
       "      <th>Age</th>\n",
       "      <td>1.000000</td>\n",
       "      <td>0.631242</td>\n",
       "      <td>0.162095</td>\n",
       "      <td>0.230814</td>\n",
       "    </tr>\n",
       "    <tr>\n",
       "      <th>Vintage</th>\n",
       "      <td>0.631242</td>\n",
       "      <td>1.000000</td>\n",
       "      <td>0.186679</td>\n",
       "      <td>0.279642</td>\n",
       "    </tr>\n",
       "    <tr>\n",
       "      <th>Avg_Account_Balance</th>\n",
       "      <td>0.162095</td>\n",
       "      <td>0.186679</td>\n",
       "      <td>1.000000</td>\n",
       "      <td>0.062454</td>\n",
       "    </tr>\n",
       "    <tr>\n",
       "      <th>Is_Lead</th>\n",
       "      <td>0.230814</td>\n",
       "      <td>0.279642</td>\n",
       "      <td>0.062454</td>\n",
       "      <td>1.000000</td>\n",
       "    </tr>\n",
       "  </tbody>\n",
       "</table>\n",
       "</div>"
      ],
      "text/plain": [
       "                          Age   Vintage  Avg_Account_Balance   Is_Lead\n",
       "Age                  1.000000  0.631242             0.162095  0.230814\n",
       "Vintage              0.631242  1.000000             0.186679  0.279642\n",
       "Avg_Account_Balance  0.162095  0.186679             1.000000  0.062454\n",
       "Is_Lead              0.230814  0.279642             0.062454  1.000000"
      ]
     },
     "execution_count": 46,
     "metadata": {},
     "output_type": "execute_result"
    }
   ],
   "source": [
    "corr"
   ]
  },
  {
   "cell_type": "code",
   "execution_count": 47,
   "metadata": {},
   "outputs": [
    {
     "data": {
      "text/plain": [
       "<matplotlib.axes._subplots.AxesSubplot at 0x232aab6ab48>"
      ]
     },
     "execution_count": 47,
     "metadata": {},
     "output_type": "execute_result"
    },
    {
     "data": {
      "image/png": "[encoded data removed]",
      "text/plain": [
       "<Figure size 720x360 with 2 Axes>"
      ]
     },
     "metadata": {
      "needs_background": "light"
     },
     "output_type": "display_data"
    }
   ],
   "source": [
    "plt.figure(figsize=(10,5))\n",
    "sns.heatmap(corr, cbar = True, cmap ='viridis')"
   ]
  },
  {
   "cell_type": "markdown",
   "metadata": {},
   "source": [
    "#### There is 63% correlation between \"Age\" and \"Vintage\""
   ]
  },
  {
   "cell_type": "markdown",
   "metadata": {},
   "source": [
    "### Handling missing values"
   ]
  },
  {
   "cell_type": "code",
   "execution_count": 48,
   "metadata": {},
   "outputs": [
    {
     "data": {
      "text/plain": [
       "Gender                     0\n",
       "Age                        0\n",
       "Region_Code                0\n",
       "Occupation                 0\n",
       "Channel_Code               0\n",
       "Vintage                    0\n",
       "Credit_Product         29325\n",
       "Avg_Account_Balance        0\n",
       "Is_Active                  0\n",
       "Is_Lead                    0\n",
       "dtype: int64"
      ]
     },
     "execution_count": 48,
     "metadata": {},
     "output_type": "execute_result"
    }
   ],
   "source": [
    "dataset.isna().sum()"
   ]
  },
  {
   "cell_type": "code",
   "execution_count": 49,
   "metadata": {},
   "outputs": [
    {
     "data": {
      "text/plain": [
       "No     144357\n",
       "Yes     72043\n",
       "Name: Credit_Product, dtype: int64"
      ]
     },
     "execution_count": 49,
     "metadata": {},
     "output_type": "execute_result"
    }
   ],
   "source": [
    "dataset[\"Credit_Product\"].value_counts()"
   ]
  },
  {
   "cell_type": "code",
   "execution_count": 50,
   "metadata": {},
   "outputs": [
    {
     "data": {
      "text/plain": [
       "array(['No', nan, 'Yes'], dtype=object)"
      ]
     },
     "execution_count": 50,
     "metadata": {},
     "output_type": "execute_result"
    }
   ],
   "source": [
    "dataset[\"Credit_Product\"].unique()"
   ]
  },
  {
   "cell_type": "markdown",
   "metadata": {},
   "source": [
    "#### Since the most frequent category is \"No\", the missing values are filled with the same"
   ]
  },
  {
   "cell_type": "code",
   "execution_count": 51,
   "metadata": {},
   "outputs": [],
   "source": [
    "dataset[\"Credit_Product\"].fillna(\"No\", inplace= True)"
   ]
  },
  {
   "cell_type": "code",
   "execution_count": 52,
   "metadata": {},
   "outputs": [
    {
     "data": {
      "text/plain": [
       "Gender                 0\n",
       "Age                    0\n",
       "Region_Code            0\n",
       "Occupation             0\n",
       "Channel_Code           0\n",
       "Vintage                0\n",
       "Credit_Product         0\n",
       "Avg_Account_Balance    0\n",
       "Is_Active              0\n",
       "Is_Lead                0\n",
       "dtype: int64"
      ]
     },
     "execution_count": 52,
     "metadata": {},
     "output_type": "execute_result"
    }
   ],
   "source": [
    "dataset.isna().sum()"
   ]
  },
  {
   "cell_type": "markdown",
   "metadata": {},
   "source": [
    "### Encoding the categorical variables"
   ]
  },
  {
   "cell_type": "code",
   "execution_count": 53,
   "metadata": {
    "scrolled": true
   },
   "outputs": [
    {
     "data": {
      "text/plain": [
       "Gender             2\n",
       "Region_Code       35\n",
       "Occupation         4\n",
       "Channel_Code       4\n",
       "Credit_Product     2\n",
       "Is_Active          2\n",
       "dtype: int64"
      ]
     },
     "execution_count": 53,
     "metadata": {},
     "output_type": "execute_result"
    }
   ],
   "source": [
    "dataset[categorical_features].nunique()"
   ]
  },
  {
   "cell_type": "code",
   "execution_count": 54,
   "metadata": {},
   "outputs": [
    {
     "data": {
      "text/plain": [
       "['Gender',\n",
       " 'Region_Code',\n",
       " 'Occupation',\n",
       " 'Channel_Code',\n",
       " 'Credit_Product',\n",
       " 'Is_Active']"
      ]
     },
     "execution_count": 54,
     "metadata": {},
     "output_type": "execute_result"
    }
   ],
   "source": [
    "categorical_features"
   ]
  },
  {
   "cell_type": "code",
   "execution_count": 55,
   "metadata": {},
   "outputs": [],
   "source": [
    "# Label encoding 'Region_Code' and 'Channel_Code'"
   ]
  },
  {
   "cell_type": "code",
   "execution_count": 56,
   "metadata": {},
   "outputs": [],
   "source": [
    "from sklearn.preprocessing import LabelEncoder"
   ]
  },
  {
   "cell_type": "code",
   "execution_count": 57,
   "metadata": {},
   "outputs": [],
   "source": [
    "encoder = LabelEncoder()"
   ]
  },
  {
   "cell_type": "code",
   "execution_count": 58,
   "metadata": {},
   "outputs": [],
   "source": [
    "# Converting the tese two variables from object type to integer type by extracting numbers"
   ]
  },
  {
   "cell_type": "code",
   "execution_count": 59,
   "metadata": {},
   "outputs": [],
   "source": [
    "def split_num(my_str):\n",
    "    num = [x for x in my_str if x.isdigit()]\n",
    "    num = \"\".join(num)\n",
    "\n",
    "    if not num:\n",
    "        num = None\n",
    "\n",
    "    return num"
   ]
  },
  {
   "cell_type": "code",
   "execution_count": 60,
   "metadata": {},
   "outputs": [],
   "source": [
    "Rgn = []\n",
    "for i in dataset['Region_Code']:\n",
    "    rgn = split_num(i)\n",
    "    Rgn.append(rgn)\n",
    "Rgn = pd.to_numeric(Rgn)"
   ]
  },
  {
   "cell_type": "code",
   "execution_count": 61,
   "metadata": {},
   "outputs": [],
   "source": [
    "Chn = []\n",
    "for i in dataset['Channel_Code']:\n",
    "    chn = split_num(i)\n",
    "    Chn.append(chn)\n",
    "Chn = pd.to_numeric(Chn)"
   ]
  },
  {
   "cell_type": "code",
   "execution_count": 62,
   "metadata": {},
   "outputs": [],
   "source": [
    "dataset['Region_Code'] = Rgn\n",
    "dataset['Channel_Code'] = Chn"
   ]
  },
  {
   "cell_type": "code",
   "execution_count": 63,
   "metadata": {},
   "outputs": [],
   "source": [
    "# Encoding other categorical variables"
   ]
  },
  {
   "cell_type": "code",
   "execution_count": 64,
   "metadata": {},
   "outputs": [],
   "source": [
    "dataset = pd.get_dummies(dataset, columns=['Gender',\n",
    " 'Occupation',\n",
    " 'Credit_Product',\n",
    " 'Is_Active'], drop_first = True)"
   ]
  },
  {
   "cell_type": "code",
   "execution_count": 65,
   "metadata": {},
   "outputs": [
    {
     "name": "stdout",
     "output_type": "stream",
     "text": [
      "<class 'pandas.core.frame.DataFrame'>\n",
      "RangeIndex: 245725 entries, 0 to 245724\n",
      "Data columns (total 12 columns):\n",
      " #   Column                    Non-Null Count   Dtype  \n",
      "---  ------                    --------------   -----  \n",
      " 0   Age                       245725 non-null  int64  \n",
      " 1   Region_Code               245725 non-null  int64  \n",
      " 2   Channel_Code              245725 non-null  int64  \n",
      " 3   Vintage                   245725 non-null  int64  \n",
      " 4   Avg_Account_Balance       245725 non-null  float64\n",
      " 5   Is_Lead                   245725 non-null  int64  \n",
      " 6   Gender_Male               245725 non-null  uint8  \n",
      " 7   Occupation_Other          245725 non-null  uint8  \n",
      " 8   Occupation_Salaried       245725 non-null  uint8  \n",
      " 9   Occupation_Self_Employed  245725 non-null  uint8  \n",
      " 10  Credit_Product_Yes        245725 non-null  uint8  \n",
      " 11  Is_Active_Yes             245725 non-null  uint8  \n",
      "dtypes: float64(1), int64(5), uint8(6)\n",
      "memory usage: 12.7 MB\n"
     ]
    }
   ],
   "source": [
    "dataset.info()"
   ]
  },
  {
   "cell_type": "markdown",
   "metadata": {},
   "source": [
    "### Importing test dataset and applying same transformations"
   ]
  },
  {
   "cell_type": "code",
   "execution_count": 66,
   "metadata": {},
   "outputs": [
    {
     "data": {
      "text/html": [
       "<div>\n",
       "<style scoped>\n",
       "    .dataframe tbody tr th:only-of-type {\n",
       "        vertical-align: middle;\n",
       "    }\n",
       "\n",
       "    .dataframe tbody tr th {\n",
       "        vertical-align: top;\n",
       "    }\n",
       "\n",
       "    .dataframe thead th {\n",
       "        text-align: right;\n",
       "    }\n",
       "</style>\n",
       "<table border=\"1\" class=\"dataframe\">\n",
       "  <thead>\n",
       "    <tr style=\"text-align: right;\">\n",
       "      <th></th>\n",
       "      <th>ID</th>\n",
       "      <th>Gender</th>\n",
       "      <th>Age</th>\n",
       "      <th>Region_Code</th>\n",
       "      <th>Occupation</th>\n",
       "      <th>Channel_Code</th>\n",
       "      <th>Vintage</th>\n",
       "      <th>Credit_Product</th>\n",
       "      <th>Avg_Account_Balance</th>\n",
       "      <th>Is_Active</th>\n",
       "    </tr>\n",
       "  </thead>\n",
       "  <tbody>\n",
       "    <tr>\n",
       "      <th>0</th>\n",
       "      <td>VBENBARO</td>\n",
       "      <td>Male</td>\n",
       "      <td>29</td>\n",
       "      <td>RG254</td>\n",
       "      <td>Other</td>\n",
       "      <td>X1</td>\n",
       "      <td>25</td>\n",
       "      <td>Yes</td>\n",
       "      <td>742366</td>\n",
       "      <td>No</td>\n",
       "    </tr>\n",
       "    <tr>\n",
       "      <th>1</th>\n",
       "      <td>CCMEWNKY</td>\n",
       "      <td>Male</td>\n",
       "      <td>43</td>\n",
       "      <td>RG268</td>\n",
       "      <td>Other</td>\n",
       "      <td>X2</td>\n",
       "      <td>49</td>\n",
       "      <td>NaN</td>\n",
       "      <td>925537</td>\n",
       "      <td>No</td>\n",
       "    </tr>\n",
       "    <tr>\n",
       "      <th>2</th>\n",
       "      <td>VK3KGA9M</td>\n",
       "      <td>Male</td>\n",
       "      <td>31</td>\n",
       "      <td>RG270</td>\n",
       "      <td>Salaried</td>\n",
       "      <td>X1</td>\n",
       "      <td>14</td>\n",
       "      <td>No</td>\n",
       "      <td>215949</td>\n",
       "      <td>No</td>\n",
       "    </tr>\n",
       "    <tr>\n",
       "      <th>3</th>\n",
       "      <td>TT8RPZVC</td>\n",
       "      <td>Male</td>\n",
       "      <td>29</td>\n",
       "      <td>RG272</td>\n",
       "      <td>Other</td>\n",
       "      <td>X1</td>\n",
       "      <td>33</td>\n",
       "      <td>No</td>\n",
       "      <td>868070</td>\n",
       "      <td>No</td>\n",
       "    </tr>\n",
       "    <tr>\n",
       "      <th>4</th>\n",
       "      <td>SHQZEYTZ</td>\n",
       "      <td>Female</td>\n",
       "      <td>29</td>\n",
       "      <td>RG270</td>\n",
       "      <td>Other</td>\n",
       "      <td>X1</td>\n",
       "      <td>19</td>\n",
       "      <td>No</td>\n",
       "      <td>657087</td>\n",
       "      <td>No</td>\n",
       "    </tr>\n",
       "  </tbody>\n",
       "</table>\n",
       "</div>"
      ],
      "text/plain": [
       "         ID  Gender  Age Region_Code Occupation Channel_Code  Vintage  \\\n",
       "0  VBENBARO    Male   29       RG254      Other           X1       25   \n",
       "1  CCMEWNKY    Male   43       RG268      Other           X2       49   \n",
       "2  VK3KGA9M    Male   31       RG270   Salaried           X1       14   \n",
       "3  TT8RPZVC    Male   29       RG272      Other           X1       33   \n",
       "4  SHQZEYTZ  Female   29       RG270      Other           X1       19   \n",
       "\n",
       "  Credit_Product  Avg_Account_Balance Is_Active  \n",
       "0            Yes               742366        No  \n",
       "1            NaN               925537        No  \n",
       "2             No               215949        No  \n",
       "3             No               868070        No  \n",
       "4             No               657087        No  "
      ]
     },
     "execution_count": 66,
     "metadata": {},
     "output_type": "execute_result"
    }
   ],
   "source": [
    "data_test = pd.read_csv(r\"C:\\Users\\Admin\\Downloads\\test_set.csv\")\n",
    "data_test.head()"
   ]
  },
  {
   "cell_type": "code",
   "execution_count": 67,
   "metadata": {
    "scrolled": true
   },
   "outputs": [
    {
     "data": {
      "text/plain": [
       "(105312, 10)"
      ]
     },
     "execution_count": 67,
     "metadata": {},
     "output_type": "execute_result"
    }
   ],
   "source": [
    "data_test.shape"
   ]
  },
  {
   "cell_type": "markdown",
   "metadata": {},
   "source": [
    "### Handling outliers"
   ]
  },
  {
   "cell_type": "code",
   "execution_count": 68,
   "metadata": {
    "scrolled": false
   },
   "outputs": [
    {
     "name": "stdout",
     "output_type": "stream",
     "text": [
      "-1698865.75 \n",
      " 3674446.25\n"
     ]
    }
   ],
   "source": [
    "IQR_data = data_test[\"Avg_Account_Balance\"].quantile(0.75) - data_test[\"Avg_Account_Balance\"].quantile(0.25)\n",
    "lower_bridge = data_test[\"Avg_Account_Balance\"].quantile(0.25) - (IQR_data * 3)\n",
    "upper_bridge = data_test[\"Avg_Account_Balance\"].quantile(0.75) + (IQR_data * 3)\n",
    "print(lower_bridge,'\\n',upper_bridge)"
   ]
  },
  {
   "cell_type": "code",
   "execution_count": 69,
   "metadata": {},
   "outputs": [],
   "source": [
    "data_test.loc[data_test[\"Avg_Account_Balance\"]> upper_bridge, \"Avg_Account_Balance\"] = upper_bridge"
   ]
  },
  {
   "cell_type": "code",
   "execution_count": 70,
   "metadata": {
    "scrolled": false
   },
   "outputs": [
    {
     "data": {
      "text/plain": [
       "ID                         0\n",
       "Gender                     0\n",
       "Age                        0\n",
       "Region_Code                0\n",
       "Occupation                 0\n",
       "Channel_Code               0\n",
       "Vintage                    0\n",
       "Credit_Product         12522\n",
       "Avg_Account_Balance        0\n",
       "Is_Active                  0\n",
       "dtype: int64"
      ]
     },
     "execution_count": 70,
     "metadata": {},
     "output_type": "execute_result"
    }
   ],
   "source": [
    "data_test.isna().sum()"
   ]
  },
  {
   "cell_type": "code",
   "execution_count": 71,
   "metadata": {},
   "outputs": [],
   "source": [
    "data_test['Credit_Product'].fillna(\"No\", inplace = True)"
   ]
  },
  {
   "cell_type": "markdown",
   "metadata": {},
   "source": [
    "### Encoding the categorical variables"
   ]
  },
  {
   "cell_type": "code",
   "execution_count": 72,
   "metadata": {
    "scrolled": false
   },
   "outputs": [
    {
     "data": {
      "text/plain": [
       "Gender             2\n",
       "Region_Code       35\n",
       "Occupation         4\n",
       "Channel_Code       4\n",
       "Credit_Product     2\n",
       "Is_Active          2\n",
       "dtype: int64"
      ]
     },
     "execution_count": 72,
     "metadata": {},
     "output_type": "execute_result"
    }
   ],
   "source": [
    "data_test[categorical_features].nunique()"
   ]
  },
  {
   "cell_type": "code",
   "execution_count": 73,
   "metadata": {},
   "outputs": [],
   "source": [
    "# Label encoding 'Region_Code' and 'Channel_Code'"
   ]
  },
  {
   "cell_type": "code",
   "execution_count": 74,
   "metadata": {},
   "outputs": [],
   "source": [
    "encoder = LabelEncoder()"
   ]
  },
  {
   "cell_type": "code",
   "execution_count": 75,
   "metadata": {},
   "outputs": [],
   "source": [
    "# Converting the tese two variables from object type to integer type by extracting numbers"
   ]
  },
  {
   "cell_type": "code",
   "execution_count": 76,
   "metadata": {},
   "outputs": [],
   "source": [
    "Rgn = []\n",
    "for i in data_test['Region_Code']:\n",
    "    rgn = split_num(i)\n",
    "    Rgn.append(rgn)\n",
    "Rgn = pd.to_numeric(Rgn)"
   ]
  },
  {
   "cell_type": "code",
   "execution_count": 77,
   "metadata": {},
   "outputs": [],
   "source": [
    "Chn = []\n",
    "for i in data_test['Channel_Code']:\n",
    "    chn = split_num(i)\n",
    "    Chn.append(chn)\n",
    "Chn = pd.to_numeric(Chn)"
   ]
  },
  {
   "cell_type": "code",
   "execution_count": 78,
   "metadata": {},
   "outputs": [],
   "source": [
    "data_test['Region_Code'] = Rgn\n",
    "data_test['Channel_Code'] = Chn"
   ]
  },
  {
   "cell_type": "code",
   "execution_count": 79,
   "metadata": {},
   "outputs": [],
   "source": [
    "# Encoding other categorical variables"
   ]
  },
  {
   "cell_type": "code",
   "execution_count": 80,
   "metadata": {},
   "outputs": [],
   "source": [
    "data_test = pd.get_dummies(data_test, columns=['Gender',\n",
    " 'Occupation',\n",
    " 'Credit_Product',\n",
    " 'Is_Active'], drop_first = True)"
   ]
  },
  {
   "cell_type": "code",
   "execution_count": 81,
   "metadata": {},
   "outputs": [],
   "source": [
    "data_test = data_test.drop(columns=[\"ID\"])"
   ]
  },
  {
   "cell_type": "code",
   "execution_count": 82,
   "metadata": {},
   "outputs": [
    {
     "name": "stdout",
     "output_type": "stream",
     "text": [
      "<class 'pandas.core.frame.DataFrame'>\n",
      "RangeIndex: 105312 entries, 0 to 105311\n",
      "Data columns (total 11 columns):\n",
      " #   Column                    Non-Null Count   Dtype  \n",
      "---  ------                    --------------   -----  \n",
      " 0   Age                       105312 non-null  int64  \n",
      " 1   Region_Code               105312 non-null  int64  \n",
      " 2   Channel_Code              105312 non-null  int64  \n",
      " 3   Vintage                   105312 non-null  int64  \n",
      " 4   Avg_Account_Balance       105312 non-null  float64\n",
      " 5   Gender_Male               105312 non-null  uint8  \n",
      " 6   Occupation_Other          105312 non-null  uint8  \n",
      " 7   Occupation_Salaried       105312 non-null  uint8  \n",
      " 8   Occupation_Self_Employed  105312 non-null  uint8  \n",
      " 9   Credit_Product_Yes        105312 non-null  uint8  \n",
      " 10  Is_Active_Yes             105312 non-null  uint8  \n",
      "dtypes: float64(1), int64(4), uint8(6)\n",
      "memory usage: 4.6 MB\n"
     ]
    }
   ],
   "source": [
    "data_test.info()"
   ]
  },
  {
   "cell_type": "markdown",
   "metadata": {},
   "source": [
    "## Scaling"
   ]
  },
  {
   "cell_type": "code",
   "execution_count": 83,
   "metadata": {},
   "outputs": [],
   "source": [
    "from sklearn.preprocessing import MinMaxScaler"
   ]
  },
  {
   "cell_type": "code",
   "execution_count": 84,
   "metadata": {},
   "outputs": [],
   "source": [
    "scaler = MinMaxScaler()"
   ]
  },
  {
   "cell_type": "code",
   "execution_count": 85,
   "metadata": {},
   "outputs": [],
   "source": [
    "dataset_input = dataset.drop(columns= [\"Is_Lead\"], axis = 1)"
   ]
  },
  {
   "cell_type": "code",
   "execution_count": 86,
   "metadata": {},
   "outputs": [
    {
     "data": {
      "text/plain": [
       "MinMaxScaler()"
      ]
     },
     "execution_count": 86,
     "metadata": {},
     "output_type": "execute_result"
    }
   ],
   "source": [
    "scaler.fit(dataset_input)"
   ]
  },
  {
   "cell_type": "code",
   "execution_count": 87,
   "metadata": {},
   "outputs": [],
   "source": [
    "scaled_data = pd.DataFrame(scaler.transform(dataset_input), columns = dataset_input.columns)"
   ]
  },
  {
   "cell_type": "code",
   "execution_count": 88,
   "metadata": {},
   "outputs": [
    {
     "data": {
      "text/html": [
       "<div>\n",
       "<style scoped>\n",
       "    .dataframe tbody tr th:only-of-type {\n",
       "        vertical-align: middle;\n",
       "    }\n",
       "\n",
       "    .dataframe tbody tr th {\n",
       "        vertical-align: top;\n",
       "    }\n",
       "\n",
       "    .dataframe thead th {\n",
       "        text-align: right;\n",
       "    }\n",
       "</style>\n",
       "<table border=\"1\" class=\"dataframe\">\n",
       "  <thead>\n",
       "    <tr style=\"text-align: right;\">\n",
       "      <th></th>\n",
       "      <th>Age</th>\n",
       "      <th>Region_Code</th>\n",
       "      <th>Channel_Code</th>\n",
       "      <th>Vintage</th>\n",
       "      <th>Avg_Account_Balance</th>\n",
       "      <th>Gender_Male</th>\n",
       "      <th>Occupation_Other</th>\n",
       "      <th>Occupation_Salaried</th>\n",
       "      <th>Occupation_Self_Employed</th>\n",
       "      <th>Credit_Product_Yes</th>\n",
       "      <th>Is_Active_Yes</th>\n",
       "    </tr>\n",
       "  </thead>\n",
       "  <tbody>\n",
       "    <tr>\n",
       "      <th>0</th>\n",
       "      <td>0.806452</td>\n",
       "      <td>0.529412</td>\n",
       "      <td>0.666667</td>\n",
       "      <td>0.281250</td>\n",
       "      <td>0.282114</td>\n",
       "      <td>0.0</td>\n",
       "      <td>1.0</td>\n",
       "      <td>0.0</td>\n",
       "      <td>0.0</td>\n",
       "      <td>0.0</td>\n",
       "      <td>0.0</td>\n",
       "    </tr>\n",
       "    <tr>\n",
       "      <th>1</th>\n",
       "      <td>0.112903</td>\n",
       "      <td>0.794118</td>\n",
       "      <td>0.000000</td>\n",
       "      <td>0.195312</td>\n",
       "      <td>0.154475</td>\n",
       "      <td>0.0</td>\n",
       "      <td>0.0</td>\n",
       "      <td>1.0</td>\n",
       "      <td>0.0</td>\n",
       "      <td>0.0</td>\n",
       "      <td>0.0</td>\n",
       "    </tr>\n",
       "    <tr>\n",
       "      <th>2</th>\n",
       "      <td>0.532258</td>\n",
       "      <td>0.529412</td>\n",
       "      <td>0.666667</td>\n",
       "      <td>0.148438</td>\n",
       "      <td>0.402848</td>\n",
       "      <td>0.0</td>\n",
       "      <td>0.0</td>\n",
       "      <td>0.0</td>\n",
       "      <td>1.0</td>\n",
       "      <td>0.0</td>\n",
       "      <td>1.0</td>\n",
       "    </tr>\n",
       "    <tr>\n",
       "      <th>3</th>\n",
       "      <td>0.177419</td>\n",
       "      <td>0.588235</td>\n",
       "      <td>0.000000</td>\n",
       "      <td>0.093750</td>\n",
       "      <td>0.123774</td>\n",
       "      <td>1.0</td>\n",
       "      <td>0.0</td>\n",
       "      <td>1.0</td>\n",
       "      <td>0.0</td>\n",
       "      <td>0.0</td>\n",
       "      <td>0.0</td>\n",
       "    </tr>\n",
       "    <tr>\n",
       "      <th>4</th>\n",
       "      <td>0.112903</td>\n",
       "      <td>0.941176</td>\n",
       "      <td>0.000000</td>\n",
       "      <td>0.203125</td>\n",
       "      <td>0.238373</td>\n",
       "      <td>0.0</td>\n",
       "      <td>0.0</td>\n",
       "      <td>1.0</td>\n",
       "      <td>0.0</td>\n",
       "      <td>0.0</td>\n",
       "      <td>0.0</td>\n",
       "    </tr>\n",
       "  </tbody>\n",
       "</table>\n",
       "</div>"
      ],
      "text/plain": [
       "        Age  Region_Code  Channel_Code   Vintage  Avg_Account_Balance  \\\n",
       "0  0.806452     0.529412      0.666667  0.281250             0.282114   \n",
       "1  0.112903     0.794118      0.000000  0.195312             0.154475   \n",
       "2  0.532258     0.529412      0.666667  0.148438             0.402848   \n",
       "3  0.177419     0.588235      0.000000  0.093750             0.123774   \n",
       "4  0.112903     0.941176      0.000000  0.203125             0.238373   \n",
       "\n",
       "   Gender_Male  Occupation_Other  Occupation_Salaried  \\\n",
       "0          0.0               1.0                  0.0   \n",
       "1          0.0               0.0                  1.0   \n",
       "2          0.0               0.0                  0.0   \n",
       "3          1.0               0.0                  1.0   \n",
       "4          0.0               0.0                  1.0   \n",
       "\n",
       "   Occupation_Self_Employed  Credit_Product_Yes  Is_Active_Yes  \n",
       "0                       0.0                 0.0            0.0  \n",
       "1                       0.0                 0.0            0.0  \n",
       "2                       1.0                 0.0            1.0  \n",
       "3                       0.0                 0.0            0.0  \n",
       "4                       0.0                 0.0            0.0  "
      ]
     },
     "execution_count": 88,
     "metadata": {},
     "output_type": "execute_result"
    }
   ],
   "source": [
    "scaled_data.head()"
   ]
  },
  {
   "cell_type": "code",
   "execution_count": 89,
   "metadata": {},
   "outputs": [],
   "source": [
    "# Scaling test data"
   ]
  },
  {
   "cell_type": "code",
   "execution_count": 90,
   "metadata": {
    "scrolled": true
   },
   "outputs": [
    {
     "data": {
      "text/plain": [
       "MinMaxScaler()"
      ]
     },
     "execution_count": 90,
     "metadata": {},
     "output_type": "execute_result"
    }
   ],
   "source": [
    "scaler.fit(data_test)"
   ]
  },
  {
   "cell_type": "code",
   "execution_count": 91,
   "metadata": {},
   "outputs": [],
   "source": [
    "scaled_test = pd.DataFrame(scaler.transform(data_test), columns = data_test.columns)"
   ]
  },
  {
   "cell_type": "markdown",
   "metadata": {},
   "source": [
    "### Assigning Train and test"
   ]
  },
  {
   "cell_type": "code",
   "execution_count": 92,
   "metadata": {},
   "outputs": [],
   "source": [
    "X_train = scaled_data\n",
    "y_train = dataset[\"Is_Lead\"]"
   ]
  },
  {
   "cell_type": "code",
   "execution_count": 93,
   "metadata": {},
   "outputs": [],
   "source": [
    "X_test = scaled_test"
   ]
  },
  {
   "cell_type": "code",
   "execution_count": 94,
   "metadata": {},
   "outputs": [
    {
     "data": {
      "text/plain": [
       "((245725, 11), (105312, 11))"
      ]
     },
     "execution_count": 94,
     "metadata": {},
     "output_type": "execute_result"
    }
   ],
   "source": [
    "X_train.shape, X_test.shape"
   ]
  },
  {
   "cell_type": "markdown",
   "metadata": {},
   "source": [
    "## Model Building"
   ]
  },
  {
   "cell_type": "markdown",
   "metadata": {},
   "source": [
    "### Logisitic Regression"
   ]
  },
  {
   "cell_type": "code",
   "execution_count": 95,
   "metadata": {},
   "outputs": [],
   "source": [
    "from sklearn.linear_model import LogisticRegression"
   ]
  },
  {
   "cell_type": "code",
   "execution_count": 96,
   "metadata": {},
   "outputs": [],
   "source": [
    "classifier = LogisticRegression(max_iter = 200)"
   ]
  },
  {
   "cell_type": "code",
   "execution_count": 97,
   "metadata": {},
   "outputs": [
    {
     "data": {
      "text/plain": [
       "LogisticRegression(max_iter=200)"
      ]
     },
     "execution_count": 97,
     "metadata": {},
     "output_type": "execute_result"
    }
   ],
   "source": [
    "classifier.fit(X_train, y_train)"
   ]
  },
  {
   "cell_type": "code",
   "execution_count": 98,
   "metadata": {},
   "outputs": [
    {
     "data": {
      "text/plain": [
       "array([[ 1.06790870e+00,  1.75055349e-01,  1.21597430e+00,\n",
       "         1.42450370e+00, -1.18411649e-03,  1.15434742e-01,\n",
       "        -1.66364962e+00, -9.33533668e-01, -1.38304897e+00,\n",
       "         3.89703847e-01,  1.18904081e-01]])"
      ]
     },
     "execution_count": 98,
     "metadata": {},
     "output_type": "execute_result"
    }
   ],
   "source": [
    "classifier.coef_"
   ]
  },
  {
   "cell_type": "code",
   "execution_count": 99,
   "metadata": {},
   "outputs": [
    {
     "data": {
      "text/plain": [
       "array([[0.73312709, 0.26687291],\n",
       "       [0.87075552, 0.12924448],\n",
       "       [0.748982  , 0.251018  ],\n",
       "       ...,\n",
       "       [0.89728696, 0.10271304],\n",
       "       [0.87801557, 0.12198443],\n",
       "       [0.87795775, 0.12204225]])"
      ]
     },
     "execution_count": 99,
     "metadata": {},
     "output_type": "execute_result"
    }
   ],
   "source": [
    "classifier.predict_proba(X_train)"
   ]
  },
  {
   "cell_type": "code",
   "execution_count": 100,
   "metadata": {},
   "outputs": [
    {
     "data": {
      "text/plain": [
       "array([[0.91388668, 0.08611332],\n",
       "       [0.85348636, 0.14651364],\n",
       "       [0.88354996, 0.11645004],\n",
       "       ...,\n",
       "       [0.69258171, 0.30741829],\n",
       "       [0.6559421 , 0.3440579 ],\n",
       "       [0.89000706, 0.10999294]])"
      ]
     },
     "execution_count": 100,
     "metadata": {},
     "output_type": "execute_result"
    }
   ],
   "source": [
    "classifier.predict_proba(X_test)"
   ]
  },
  {
   "cell_type": "code",
   "execution_count": 101,
   "metadata": {},
   "outputs": [],
   "source": [
    "pred = classifier.predict_proba(X_test)[:,1]"
   ]
  },
  {
   "cell_type": "code",
   "execution_count": 102,
   "metadata": {},
   "outputs": [],
   "source": [
    "from sklearn import metrics"
   ]
  },
  {
   "cell_type": "code",
   "execution_count": 103,
   "metadata": {},
   "outputs": [],
   "source": [
    "# calculate the fpr and tpr for all thresholds of the classification\n",
    "probs = classifier.predict_proba(X_train)\n",
    "preds = probs[:,1]\n",
    "fpr, tpr, threshold = metrics.roc_curve(y_train, preds)\n",
    "roc_auc = metrics.auc(fpr, tpr)"
   ]
  },
  {
   "cell_type": "code",
   "execution_count": 104,
   "metadata": {},
   "outputs": [],
   "source": [
    "# ROC curve"
   ]
  },
  {
   "cell_type": "code",
   "execution_count": 105,
   "metadata": {},
   "outputs": [
    {
     "data": {
      "image/png": "[encoded data removed]",
      "text/plain": [
       "<Figure size 432x288 with 1 Axes>"
      ]
     },
     "metadata": {
      "needs_background": "light"
     },
     "output_type": "display_data"
    }
   ],
   "source": [
    "import matplotlib.pyplot as plt\n",
    "plt.title('Receiver Operating Characteristic')\n",
    "plt.plot(fpr, tpr, 'b', label = 'AUC = %0.2f' % roc_auc)\n",
    "plt.legend(loc = 'lower right')\n",
    "plt.plot([0, 1], [0, 1],'r--')\n",
    "plt.xlim([0, 1])\n",
    "plt.ylim([0, 1])\n",
    "plt.ylabel('True Positive Rate')\n",
    "plt.xlabel('False Positive Rate')\n",
    "plt.show()"
   ]
  },
  {
   "cell_type": "code",
   "execution_count": 106,
   "metadata": {},
   "outputs": [],
   "source": [
    "pred = classifier.predict_proba (X_test) [:,1]"
   ]
  },
  {
   "cell_type": "code",
   "execution_count": 107,
   "metadata": {},
   "outputs": [],
   "source": [
    "pred = pd.DataFrame(pred)"
   ]
  },
  {
   "cell_type": "code",
   "execution_count": 108,
   "metadata": {},
   "outputs": [
    {
     "data": {
      "text/html": [
       "<div>\n",
       "<style scoped>\n",
       "    .dataframe tbody tr th:only-of-type {\n",
       "        vertical-align: middle;\n",
       "    }\n",
       "\n",
       "    .dataframe tbody tr th {\n",
       "        vertical-align: top;\n",
       "    }\n",
       "\n",
       "    .dataframe thead th {\n",
       "        text-align: right;\n",
       "    }\n",
       "</style>\n",
       "<table border=\"1\" class=\"dataframe\">\n",
       "  <thead>\n",
       "    <tr style=\"text-align: right;\">\n",
       "      <th></th>\n",
       "      <th>0</th>\n",
       "    </tr>\n",
       "  </thead>\n",
       "  <tbody>\n",
       "    <tr>\n",
       "      <th>0</th>\n",
       "      <td>0.086113</td>\n",
       "    </tr>\n",
       "    <tr>\n",
       "      <th>1</th>\n",
       "      <td>0.146514</td>\n",
       "    </tr>\n",
       "    <tr>\n",
       "      <th>2</th>\n",
       "      <td>0.116450</td>\n",
       "    </tr>\n",
       "    <tr>\n",
       "      <th>3</th>\n",
       "      <td>0.071089</td>\n",
       "    </tr>\n",
       "    <tr>\n",
       "      <th>4</th>\n",
       "      <td>0.054601</td>\n",
       "    </tr>\n",
       "  </tbody>\n",
       "</table>\n",
       "</div>"
      ],
      "text/plain": [
       "          0\n",
       "0  0.086113\n",
       "1  0.146514\n",
       "2  0.116450\n",
       "3  0.071089\n",
       "4  0.054601"
      ]
     },
     "execution_count": 108,
     "metadata": {},
     "output_type": "execute_result"
    }
   ],
   "source": [
    "pred.head()"
   ]
  },
  {
   "cell_type": "markdown",
   "metadata": {},
   "source": [
    "### Random Forest Model"
   ]
  },
  {
   "cell_type": "code",
   "execution_count": 109,
   "metadata": {},
   "outputs": [],
   "source": [
    "from sklearn.ensemble import RandomForestClassifier"
   ]
  },
  {
   "cell_type": "code",
   "execution_count": 110,
   "metadata": {},
   "outputs": [],
   "source": [
    "clf = RandomForestClassifier(n_estimators=1000, max_depth = 4, min_samples_split=3)"
   ]
  },
  {
   "cell_type": "code",
   "execution_count": 111,
   "metadata": {},
   "outputs": [
    {
     "data": {
      "text/plain": [
       "RandomForestClassifier(max_depth=4, min_samples_split=3, n_estimators=1000)"
      ]
     },
     "execution_count": 111,
     "metadata": {},
     "output_type": "execute_result"
    }
   ],
   "source": [
    "clf.fit(X_train, y_train)"
   ]
  },
  {
   "cell_type": "code",
   "execution_count": 112,
   "metadata": {},
   "outputs": [],
   "source": [
    "y_pred_tr = clf.predict_proba(X_train)"
   ]
  },
  {
   "cell_type": "code",
   "execution_count": 113,
   "metadata": {},
   "outputs": [],
   "source": [
    "y_pred_ts = clf.predict_proba(X_test)"
   ]
  },
  {
   "cell_type": "code",
   "execution_count": 114,
   "metadata": {},
   "outputs": [],
   "source": [
    "# Calculating fpr and tpr for all thresholds"
   ]
  },
  {
   "cell_type": "code",
   "execution_count": 115,
   "metadata": {},
   "outputs": [],
   "source": [
    "probs = clf.predict_proba(X_train)\n",
    "preds = probs[:,1]\n",
    "fpr, tpr, threshold = metrics.roc_curve(y_train, preds)\n",
    "roc_auc = metrics.auc(fpr, tpr)"
   ]
  },
  {
   "cell_type": "code",
   "execution_count": 116,
   "metadata": {},
   "outputs": [
    {
     "data": {
      "image/png": "[encoded data removed]",
      "text/plain": [
       "<Figure size 432x288 with 1 Axes>"
      ]
     },
     "metadata": {
      "needs_background": "light"
     },
     "output_type": "display_data"
    }
   ],
   "source": [
    "plt.title('Receiver Operating Characteristic')\n",
    "plt.plot(fpr, tpr, 'b', label = 'AUC = %0.2f' % roc_auc)\n",
    "plt.legend(loc = 'lower right')\n",
    "plt.plot([0, 1], [0, 1],'r--')\n",
    "plt.xlim([0, 1])\n",
    "plt.ylim([0, 1])\n",
    "plt.ylabel('True Positive Rate')\n",
    "plt.xlabel('False Positive Rate')\n",
    "plt.show()"
   ]
  },
  {
   "cell_type": "code",
   "execution_count": 117,
   "metadata": {},
   "outputs": [],
   "source": [
    "pred = clf.predict_proba (X_test) [:,1]"
   ]
  },
  {
   "cell_type": "code",
   "execution_count": 118,
   "metadata": {
    "scrolled": false
   },
   "outputs": [
    {
     "data": {
      "text/html": [
       "<div>\n",
       "<style scoped>\n",
       "    .dataframe tbody tr th:only-of-type {\n",
       "        vertical-align: middle;\n",
       "    }\n",
       "\n",
       "    .dataframe tbody tr th {\n",
       "        vertical-align: top;\n",
       "    }\n",
       "\n",
       "    .dataframe thead th {\n",
       "        text-align: right;\n",
       "    }\n",
       "</style>\n",
       "<table border=\"1\" class=\"dataframe\">\n",
       "  <thead>\n",
       "    <tr style=\"text-align: right;\">\n",
       "      <th></th>\n",
       "      <th>0</th>\n",
       "    </tr>\n",
       "  </thead>\n",
       "  <tbody>\n",
       "    <tr>\n",
       "      <th>0</th>\n",
       "      <td>0.089856</td>\n",
       "    </tr>\n",
       "    <tr>\n",
       "      <th>1</th>\n",
       "      <td>0.262720</td>\n",
       "    </tr>\n",
       "    <tr>\n",
       "      <th>2</th>\n",
       "      <td>0.076726</td>\n",
       "    </tr>\n",
       "    <tr>\n",
       "      <th>3</th>\n",
       "      <td>0.065756</td>\n",
       "    </tr>\n",
       "    <tr>\n",
       "      <th>4</th>\n",
       "      <td>0.063695</td>\n",
       "    </tr>\n",
       "  </tbody>\n",
       "</table>\n",
       "</div>"
      ],
      "text/plain": [
       "          0\n",
       "0  0.089856\n",
       "1  0.262720\n",
       "2  0.076726\n",
       "3  0.065756\n",
       "4  0.063695"
      ]
     },
     "execution_count": 118,
     "metadata": {},
     "output_type": "execute_result"
    }
   ],
   "source": [
    "pred = pd.DataFrame(pred)\n",
    "pred.head()"
   ]
  },
  {
   "cell_type": "code",
   "execution_count": null,
   "metadata": {},
   "outputs": [],
   "source": []
  },
  {
   "cell_type": "code",
   "execution_count": 119,
   "metadata": {},
   "outputs": [],
   "source": [
    "# Get numerical feature importances\n",
    "importances = list(clf.feature_importances_)"
   ]
  },
  {
   "cell_type": "code",
   "execution_count": 120,
   "metadata": {},
   "outputs": [],
   "source": [
    "feature_importances = [(feature, round(importance, 2)) for feature, importance in zip(X_train, importances)]"
   ]
  },
  {
   "cell_type": "code",
   "execution_count": 121,
   "metadata": {},
   "outputs": [],
   "source": [
    "feature_importances = sorted(feature_importances, key = lambda x: x[1], reverse = True)"
   ]
  },
  {
   "cell_type": "code",
   "execution_count": 122,
   "metadata": {},
   "outputs": [
    {
     "name": "stdout",
     "output_type": "stream",
     "text": [
      "Variable: Vintage              Importance: 0.34\n",
      "Variable: Channel_Code         Importance: 0.25\n",
      "Variable: Age                  Importance: 0.22\n",
      "Variable: Occupation_Salaried  Importance: 0.1\n",
      "Variable: Credit_Product_Yes   Importance: 0.03\n",
      "Variable: Occupation_Self_Employed Importance: 0.02\n",
      "Variable: Is_Active_Yes        Importance: 0.02\n",
      "Variable: Occupation_Other     Importance: 0.01\n",
      "Variable: Region_Code          Importance: 0.0\n",
      "Variable: Avg_Account_Balance  Importance: 0.0\n",
      "Variable: Gender_Male          Importance: 0.0\n"
     ]
    }
   ],
   "source": [
    "# Print out the feature and importances \n",
    "[print('Variable: {:20} Importance: {}'.format(*pair)) for pair in feature_importances];"
   ]
  },
  {
   "cell_type": "code",
   "execution_count": null,
   "metadata": {},
   "outputs": [],
   "source": []
  },
  {
   "cell_type": "markdown",
   "metadata": {},
   "source": [
    "### XG Boost Model"
   ]
  },
  {
   "cell_type": "code",
   "execution_count": 123,
   "metadata": {},
   "outputs": [
    {
     "name": "stderr",
     "output_type": "stream",
     "text": [
      "C:\\Users\\Admin\\Anaconda3\\lib\\site-packages\\dask\\dataframe\\utils.py:14: FutureWarning: pandas.util.testing is deprecated. Use the functions in the public API at pandas.testing instead.\n",
      "  import pandas.util.testing as tm\n"
     ]
    }
   ],
   "source": [
    "from xgboost import XGBClassifier"
   ]
  },
  {
   "cell_type": "code",
   "execution_count": 124,
   "metadata": {},
   "outputs": [],
   "source": [
    "model = XGBClassifier(booster = 'gbtree', n_estimators = 1000, reg_alpha = 1 )"
   ]
  },
  {
   "cell_type": "code",
   "execution_count": 125,
   "metadata": {},
   "outputs": [
    {
     "data": {
      "text/plain": [
       "XGBClassifier(base_score=0.5, booster='gbtree', colsample_bylevel=1,\n",
       "              colsample_bynode=1, colsample_bytree=1, gamma=0, gpu_id=-1,\n",
       "              importance_type='gain', interaction_constraints='',\n",
       "              learning_rate=0.300000012, max_delta_step=0, max_depth=6,\n",
       "              min_child_weight=1, missing=nan, monotone_constraints='()',\n",
       "              n_estimators=1000, n_jobs=0, num_parallel_tree=1, random_state=0,\n",
       "              reg_alpha=1, reg_lambda=1, scale_pos_weight=1, subsample=1,\n",
       "              tree_method='exact', validate_parameters=1, verbosity=None)"
      ]
     },
     "execution_count": 125,
     "metadata": {},
     "output_type": "execute_result"
    }
   ],
   "source": [
    "model.fit(X_train, y_train)"
   ]
  },
  {
   "cell_type": "code",
   "execution_count": 126,
   "metadata": {},
   "outputs": [],
   "source": [
    "y_train_pred = model.predict_proba(X_train)"
   ]
  },
  {
   "cell_type": "code",
   "execution_count": 127,
   "metadata": {},
   "outputs": [],
   "source": [
    "y_pred = model.predict_proba(X_test)"
   ]
  },
  {
   "cell_type": "code",
   "execution_count": 128,
   "metadata": {},
   "outputs": [
    {
     "data": {
      "text/plain": [
       "array([[0.970385  , 0.02961498],\n",
       "       [0.7781678 , 0.22183223],\n",
       "       [0.8655994 , 0.13440058],\n",
       "       ...,\n",
       "       [0.52443624, 0.47556376],\n",
       "       [0.5428611 , 0.45713887],\n",
       "       [0.96446323, 0.03553678]], dtype=float32)"
      ]
     },
     "execution_count": 128,
     "metadata": {},
     "output_type": "execute_result"
    }
   ],
   "source": [
    "y_pred"
   ]
  },
  {
   "cell_type": "code",
   "execution_count": 129,
   "metadata": {},
   "outputs": [],
   "source": [
    "probs = model.predict_proba(X_train)\n",
    "preds = probs[:,1]\n",
    "fpr, tpr, threshold = metrics.roc_curve(y_train, preds)\n",
    "roc_auc = metrics.auc(fpr, tpr)"
   ]
  },
  {
   "cell_type": "code",
   "execution_count": 130,
   "metadata": {},
   "outputs": [
    {
     "data": {
      "image/png": "[encoded data removed]",
      "text/plain": [
       "<Figure size 432x288 with 1 Axes>"
      ]
     },
     "metadata": {
      "needs_background": "light"
     },
     "output_type": "display_data"
    }
   ],
   "source": [
    "plt.title('Receiver Operating Characteristic')\n",
    "plt.plot(fpr, tpr, 'b', label = 'AUC = %0.2f' % roc_auc)\n",
    "plt.legend(loc = 'lower right')\n",
    "plt.plot([0, 1], [0, 1],'r--')\n",
    "plt.xlim([0, 1])\n",
    "plt.ylim([0, 1])\n",
    "plt.ylabel('True Positive Rate')\n",
    "plt.xlabel('False Positive Rate')\n",
    "plt.show()"
   ]
  },
  {
   "cell_type": "code",
   "execution_count": 131,
   "metadata": {},
   "outputs": [],
   "source": [
    "pred = model.predict_proba (X_test) [:,1]"
   ]
  },
  {
   "cell_type": "code",
   "execution_count": 132,
   "metadata": {},
   "outputs": [
    {
     "data": {
      "text/html": [
       "<div>\n",
       "<style scoped>\n",
       "    .dataframe tbody tr th:only-of-type {\n",
       "        vertical-align: middle;\n",
       "    }\n",
       "\n",
       "    .dataframe tbody tr th {\n",
       "        vertical-align: top;\n",
       "    }\n",
       "\n",
       "    .dataframe thead th {\n",
       "        text-align: right;\n",
       "    }\n",
       "</style>\n",
       "<table border=\"1\" class=\"dataframe\">\n",
       "  <thead>\n",
       "    <tr style=\"text-align: right;\">\n",
       "      <th></th>\n",
       "      <th>0</th>\n",
       "    </tr>\n",
       "  </thead>\n",
       "  <tbody>\n",
       "    <tr>\n",
       "      <th>0</th>\n",
       "      <td>0.029615</td>\n",
       "    </tr>\n",
       "    <tr>\n",
       "      <th>1</th>\n",
       "      <td>0.221832</td>\n",
       "    </tr>\n",
       "    <tr>\n",
       "      <th>2</th>\n",
       "      <td>0.134401</td>\n",
       "    </tr>\n",
       "    <tr>\n",
       "      <th>3</th>\n",
       "      <td>0.014273</td>\n",
       "    </tr>\n",
       "    <tr>\n",
       "      <th>4</th>\n",
       "      <td>0.023708</td>\n",
       "    </tr>\n",
       "  </tbody>\n",
       "</table>\n",
       "</div>"
      ],
      "text/plain": [
       "          0\n",
       "0  0.029615\n",
       "1  0.221832\n",
       "2  0.134401\n",
       "3  0.014273\n",
       "4  0.023708"
      ]
     },
     "execution_count": 132,
     "metadata": {},
     "output_type": "execute_result"
    }
   ],
   "source": [
    "pred = pd.DataFrame(pred)\n",
    "pred.head()"
   ]
  },
  {
   "cell_type": "markdown",
   "metadata": {},
   "source": [
    "### XG Boost hyperparameter tuning"
   ]
  },
  {
   "cell_type": "code",
   "execution_count": 133,
   "metadata": {},
   "outputs": [],
   "source": [
    "clf = XGBClassifier(objective=\"binary:logistic\")"
   ]
  },
  {
   "cell_type": "code",
   "execution_count": 134,
   "metadata": {},
   "outputs": [],
   "source": [
    "booster=['gbtree']\n",
    "base_score=[0.3, 0.5]"
   ]
  },
  {
   "cell_type": "code",
   "execution_count": 135,
   "metadata": {},
   "outputs": [],
   "source": [
    "n_estimators = [500, 800]\n",
    "max_depth = [4, 5]\n",
    "learning_rate=[0.1,0.2]"
   ]
  },
  {
   "cell_type": "code",
   "execution_count": 136,
   "metadata": {},
   "outputs": [],
   "source": [
    "# Define the grid of hyperparameters to search\n",
    "hyperparameter_grid = {\n",
    "    'n_estimators': n_estimators,\n",
    "    'max_depth':max_depth,\n",
    "    'learning_rate':learning_rate,\n",
    "    'booster':booster,\n",
    "    'base_score':base_score\n",
    "    }"
   ]
  },
  {
   "cell_type": "code",
   "execution_count": 137,
   "metadata": {},
   "outputs": [],
   "source": [
    "from sklearn.model_selection import RandomizedSearchCV"
   ]
  },
  {
   "cell_type": "code",
   "execution_count": 138,
   "metadata": {},
   "outputs": [],
   "source": [
    "# Set up the random search with 3-fold cross validation\n",
    "random_cv = RandomizedSearchCV(estimator=clf,\n",
    "            param_distributions=hyperparameter_grid,\n",
    "            cv=3, n_iter=10,\n",
    "            scoring = 'roc_auc',n_jobs = 3,\n",
    "            verbose = 5, \n",
    "            return_train_score = True,\n",
    "            random_state=24)"
   ]
  },
  {
   "cell_type": "code",
   "execution_count": 139,
   "metadata": {},
   "outputs": [
    {
     "name": "stdout",
     "output_type": "stream",
     "text": [
      "Fitting 3 folds for each of 10 candidates, totalling 30 fits\n"
     ]
    },
    {
     "name": "stderr",
     "output_type": "stream",
     "text": [
      "[Parallel(n_jobs=3)]: Using backend LokyBackend with 3 concurrent workers.\n",
      "[Parallel(n_jobs=3)]: Done  12 tasks      | elapsed: 10.6min\n",
      "[Parallel(n_jobs=3)]: Done  30 out of  30 | elapsed: 284.2min finished\n"
     ]
    },
    {
     "data": {
      "text/plain": [
       "RandomizedSearchCV(cv=3,\n",
       "                   estimator=XGBClassifier(base_score=None, booster=None,\n",
       "                                           colsample_bylevel=None,\n",
       "                                           colsample_bynode=None,\n",
       "                                           colsample_bytree=None, gamma=None,\n",
       "                                           gpu_id=None, importance_type='gain',\n",
       "                                           interaction_constraints=None,\n",
       "                                           learning_rate=None,\n",
       "                                           max_delta_step=None, max_depth=None,\n",
       "                                           min_child_weight=None, missing=nan,\n",
       "                                           monotone_constraints=None,\n",
       "                                           n_estimators=100,...\n",
       "                                           random_state=None, reg_alpha=None,\n",
       "                                           reg_lambda=None,\n",
       "                                           scale_pos_weight=None,\n",
       "                                           subsample=None, tree_method=None,\n",
       "                                           validate_parameters=None,\n",
       "                                           verbosity=None),\n",
       "                   n_jobs=3,\n",
       "                   param_distributions={'base_score': [0.3, 0.5],\n",
       "                                        'booster': ['gbtree'],\n",
       "                                        'learning_rate': [0.1, 0.2],\n",
       "                                        'max_depth': [4, 5],\n",
       "                                        'n_estimators': [500, 800]},\n",
       "                   random_state=24, return_train_score=True, scoring='roc_auc',\n",
       "                   verbose=5)"
      ]
     },
     "execution_count": 139,
     "metadata": {},
     "output_type": "execute_result"
    }
   ],
   "source": [
    "random_cv.fit(X_train,y_train)"
   ]
  },
  {
   "cell_type": "code",
   "execution_count": 140,
   "metadata": {},
   "outputs": [
    {
     "data": {
      "text/plain": [
       "XGBClassifier(base_score=0.5, booster='gbtree', colsample_bylevel=1,\n",
       "              colsample_bynode=1, colsample_bytree=1, gamma=0, gpu_id=-1,\n",
       "              importance_type='gain', interaction_constraints='',\n",
       "              learning_rate=0.1, max_delta_step=0, max_depth=4,\n",
       "              min_child_weight=1, missing=nan, monotone_constraints='()',\n",
       "              n_estimators=500, n_jobs=0, num_parallel_tree=1, random_state=0,\n",
       "              reg_alpha=0, reg_lambda=1, scale_pos_weight=1, subsample=1,\n",
       "              tree_method='exact', validate_parameters=1, verbosity=None)"
      ]
     },
     "execution_count": 140,
     "metadata": {},
     "output_type": "execute_result"
    }
   ],
   "source": [
    "random_cv.best_estimator_"
   ]
  },
  {
   "cell_type": "code",
   "execution_count": 141,
   "metadata": {},
   "outputs": [],
   "source": [
    "classifier = XGBClassifier(base_score=0.5, booster='gbtree', colsample_bylevel=1,\n",
    "              colsample_bynode=1, colsample_bytree=1, gamma=0, gpu_id=-1,\n",
    "              importance_type='gain', interaction_constraints='',\n",
    "              learning_rate=0.1, max_delta_step=0, max_depth=4,\n",
    "              min_child_weight=1,  monotone_constraints='()',\n",
    "              n_estimators=500, n_jobs=0, num_parallel_tree=1, random_state=0,\n",
    "              reg_alpha=0, reg_lambda=1, scale_pos_weight=1, subsample=1,\n",
    "              tree_method='exact', validate_parameters=1, verbosity=None)"
   ]
  },
  {
   "cell_type": "code",
   "execution_count": 142,
   "metadata": {},
   "outputs": [
    {
     "data": {
      "text/plain": [
       "XGBClassifier(base_score=0.5, booster='gbtree', colsample_bylevel=1,\n",
       "              colsample_bynode=1, colsample_bytree=1, gamma=0, gpu_id=-1,\n",
       "              importance_type='gain', interaction_constraints='',\n",
       "              learning_rate=0.1, max_delta_step=0, max_depth=4,\n",
       "              min_child_weight=1, missing=nan, monotone_constraints='()',\n",
       "              n_estimators=500, n_jobs=0, num_parallel_tree=1, random_state=0,\n",
       "              reg_alpha=0, reg_lambda=1, scale_pos_weight=1, subsample=1,\n",
       "              tree_method='exact', validate_parameters=1, verbosity=None)"
      ]
     },
     "execution_count": 142,
     "metadata": {},
     "output_type": "execute_result"
    }
   ],
   "source": [
    "classifier.fit(X_train,y_train)"
   ]
  },
  {
   "cell_type": "code",
   "execution_count": 143,
   "metadata": {},
   "outputs": [],
   "source": [
    "y_train_pred = classifier.predict_proba(X_train)"
   ]
  },
  {
   "cell_type": "code",
   "execution_count": 144,
   "metadata": {},
   "outputs": [],
   "source": [
    "y_pred = classifier.predict_proba(X_test)"
   ]
  },
  {
   "cell_type": "code",
   "execution_count": 145,
   "metadata": {},
   "outputs": [
    {
     "data": {
      "text/plain": [
       "array([[0.9614975 , 0.03850252],\n",
       "       [0.7434517 , 0.25654826],\n",
       "       [0.84330875, 0.15669124],\n",
       "       ...,\n",
       "       [0.46180326, 0.53819674],\n",
       "       [0.4726274 , 0.5273726 ],\n",
       "       [0.9269863 , 0.07301372]], dtype=float32)"
      ]
     },
     "execution_count": 145,
     "metadata": {},
     "output_type": "execute_result"
    }
   ],
   "source": [
    "y_pred"
   ]
  },
  {
   "cell_type": "code",
   "execution_count": 146,
   "metadata": {},
   "outputs": [],
   "source": [
    "probs = classifier.predict_proba(X_train)\n",
    "preds = probs[:,1]\n",
    "fpr, tpr, threshold = metrics.roc_curve(y_train, preds)\n",
    "roc_auc = metrics.auc(fpr, tpr)"
   ]
  },
  {
   "cell_type": "code",
   "execution_count": 147,
   "metadata": {},
   "outputs": [
    {
     "data": {
      "image/png": "[encoded data removed]",
      "text/plain": [
       "<Figure size 432x288 with 1 Axes>"
      ]
     },
     "metadata": {
      "needs_background": "light"
     },
     "output_type": "display_data"
    }
   ],
   "source": [
    "plt.title('Receiver Operating Characteristic')\n",
    "plt.plot(fpr, tpr, 'b', label = 'AUC = %0.2f' % roc_auc)\n",
    "plt.legend(loc = 'lower right')\n",
    "plt.plot([0, 1], [0, 1],'r--')\n",
    "plt.xlim([0, 1])\n",
    "plt.ylim([0, 1])\n",
    "plt.ylabel('True Positive Rate')\n",
    "plt.xlabel('False Positive Rate')\n",
    "plt.show()"
   ]
  },
  {
   "cell_type": "code",
   "execution_count": 148,
   "metadata": {},
   "outputs": [],
   "source": [
    "pred = classifier.predict_proba (X_test) [:,1]"
   ]
  },
  {
   "cell_type": "code",
   "execution_count": 149,
   "metadata": {},
   "outputs": [
    {
     "data": {
      "text/html": [
       "<div>\n",
       "<style scoped>\n",
       "    .dataframe tbody tr th:only-of-type {\n",
       "        vertical-align: middle;\n",
       "    }\n",
       "\n",
       "    .dataframe tbody tr th {\n",
       "        vertical-align: top;\n",
       "    }\n",
       "\n",
       "    .dataframe thead th {\n",
       "        text-align: right;\n",
       "    }\n",
       "</style>\n",
       "<table border=\"1\" class=\"dataframe\">\n",
       "  <thead>\n",
       "    <tr style=\"text-align: right;\">\n",
       "      <th></th>\n",
       "      <th>0</th>\n",
       "    </tr>\n",
       "  </thead>\n",
       "  <tbody>\n",
       "    <tr>\n",
       "      <th>0</th>\n",
       "      <td>0.038503</td>\n",
       "    </tr>\n",
       "    <tr>\n",
       "      <th>1</th>\n",
       "      <td>0.256548</td>\n",
       "    </tr>\n",
       "    <tr>\n",
       "      <th>2</th>\n",
       "      <td>0.156691</td>\n",
       "    </tr>\n",
       "    <tr>\n",
       "      <th>3</th>\n",
       "      <td>0.032798</td>\n",
       "    </tr>\n",
       "    <tr>\n",
       "      <th>4</th>\n",
       "      <td>0.029701</td>\n",
       "    </tr>\n",
       "  </tbody>\n",
       "</table>\n",
       "</div>"
      ],
      "text/plain": [
       "          0\n",
       "0  0.038503\n",
       "1  0.256548\n",
       "2  0.156691\n",
       "3  0.032798\n",
       "4  0.029701"
      ]
     },
     "execution_count": 149,
     "metadata": {},
     "output_type": "execute_result"
    }
   ],
   "source": [
    "pred = pd.DataFrame(pred)\n",
    "pred.head()"
   ]
  },
  {
   "cell_type": "markdown",
   "metadata": {},
   "source": [
    "### CatBoost Classfier with encoding"
   ]
  },
  {
   "cell_type": "code",
   "execution_count": 150,
   "metadata": {},
   "outputs": [],
   "source": [
    "from catboost import CatBoostClassifier"
   ]
  },
  {
   "cell_type": "code",
   "execution_count": 151,
   "metadata": {},
   "outputs": [],
   "source": [
    "model = CatBoostClassifier(n_estimators=1000, learning_rate =0.05, depth =4, eval_metric='AUC')"
   ]
  },
  {
   "cell_type": "code",
   "execution_count": 152,
   "metadata": {},
   "outputs": [
    {
     "name": "stdout",
     "output_type": "stream",
     "text": [
      "0:\ttotal: 162ms\tremaining: 2m 42s\n",
      "1:\ttotal: 234ms\tremaining: 1m 56s\n",
      "2:\ttotal: 307ms\tremaining: 1m 41s\n",
      "3:\ttotal: 382ms\tremaining: 1m 35s\n",
      "4:\ttotal: 461ms\tremaining: 1m 31s\n",
      "5:\ttotal: 538ms\tremaining: 1m 29s\n",
      "6:\ttotal: 615ms\tremaining: 1m 27s\n",
      "7:\ttotal: 688ms\tremaining: 1m 25s\n",
      "8:\ttotal: 763ms\tremaining: 1m 23s\n",
      "9:\ttotal: 836ms\tremaining: 1m 22s\n",
      "10:\ttotal: 916ms\tremaining: 1m 22s\n",
      "11:\ttotal: 994ms\tremaining: 1m 21s\n",
      "12:\ttotal: 1.06s\tremaining: 1m 20s\n",
      "13:\ttotal: 1.14s\tremaining: 1m 19s\n",
      "14:\ttotal: 1.21s\tremaining: 1m 19s\n",
      "15:\ttotal: 1.28s\tremaining: 1m 18s\n",
      "16:\ttotal: 1.34s\tremaining: 1m 17s\n",
      "17:\ttotal: 1.4s\tremaining: 1m 16s\n",
      "18:\ttotal: 1.46s\tremaining: 1m 15s\n",
      "19:\ttotal: 1.53s\tremaining: 1m 15s\n",
      "20:\ttotal: 1.59s\tremaining: 1m 14s\n",
      "21:\ttotal: 1.67s\tremaining: 1m 14s\n",
      "22:\ttotal: 1.73s\tremaining: 1m 13s\n",
      "23:\ttotal: 1.79s\tremaining: 1m 12s\n",
      "24:\ttotal: 1.85s\tremaining: 1m 12s\n",
      "25:\ttotal: 1.91s\tremaining: 1m 11s\n",
      "26:\ttotal: 1.97s\tremaining: 1m 10s\n",
      "27:\ttotal: 2.04s\tremaining: 1m 10s\n",
      "28:\ttotal: 2.09s\tremaining: 1m 10s\n",
      "29:\ttotal: 2.15s\tremaining: 1m 9s\n",
      "30:\ttotal: 2.21s\tremaining: 1m 9s\n",
      "31:\ttotal: 2.27s\tremaining: 1m 8s\n",
      "32:\ttotal: 2.33s\tremaining: 1m 8s\n",
      "33:\ttotal: 2.4s\tremaining: 1m 8s\n",
      "34:\ttotal: 2.46s\tremaining: 1m 7s\n",
      "35:\ttotal: 2.52s\tremaining: 1m 7s\n",
      "36:\ttotal: 2.58s\tremaining: 1m 7s\n",
      "37:\ttotal: 2.65s\tremaining: 1m 7s\n",
      "38:\ttotal: 2.72s\tremaining: 1m 6s\n",
      "39:\ttotal: 2.78s\tremaining: 1m 6s\n",
      "40:\ttotal: 2.85s\tremaining: 1m 6s\n",
      "41:\ttotal: 2.91s\tremaining: 1m 6s\n",
      "42:\ttotal: 2.98s\tremaining: 1m 6s\n",
      "43:\ttotal: 3.05s\tremaining: 1m 6s\n",
      "44:\ttotal: 3.11s\tremaining: 1m 5s\n",
      "45:\ttotal: 3.17s\tremaining: 1m 5s\n",
      "46:\ttotal: 3.24s\tremaining: 1m 5s\n",
      "47:\ttotal: 3.31s\tremaining: 1m 5s\n",
      "48:\ttotal: 3.37s\tremaining: 1m 5s\n",
      "49:\ttotal: 3.46s\tremaining: 1m 5s\n",
      "50:\ttotal: 3.53s\tremaining: 1m 5s\n",
      "51:\ttotal: 3.59s\tremaining: 1m 5s\n",
      "52:\ttotal: 3.65s\tremaining: 1m 5s\n",
      "53:\ttotal: 3.71s\tremaining: 1m 5s\n",
      "54:\ttotal: 3.77s\tremaining: 1m 4s\n",
      "55:\ttotal: 3.84s\tremaining: 1m 4s\n",
      "56:\ttotal: 3.92s\tremaining: 1m 4s\n",
      "57:\ttotal: 3.98s\tremaining: 1m 4s\n",
      "58:\ttotal: 4.04s\tremaining: 1m 4s\n",
      "59:\ttotal: 4.1s\tremaining: 1m 4s\n",
      "60:\ttotal: 4.16s\tremaining: 1m 3s\n",
      "61:\ttotal: 4.22s\tremaining: 1m 3s\n",
      "62:\ttotal: 4.28s\tremaining: 1m 3s\n",
      "63:\ttotal: 4.34s\tremaining: 1m 3s\n",
      "64:\ttotal: 4.4s\tremaining: 1m 3s\n",
      "65:\ttotal: 4.48s\tremaining: 1m 3s\n",
      "66:\ttotal: 4.54s\tremaining: 1m 3s\n",
      "67:\ttotal: 4.6s\tremaining: 1m 3s\n",
      "68:\ttotal: 4.66s\tremaining: 1m 2s\n",
      "69:\ttotal: 4.72s\tremaining: 1m 2s\n",
      "70:\ttotal: 4.79s\tremaining: 1m 2s\n",
      "71:\ttotal: 4.86s\tremaining: 1m 2s\n",
      "72:\ttotal: 4.93s\tremaining: 1m 2s\n",
      "73:\ttotal: 4.99s\tremaining: 1m 2s\n",
      "74:\ttotal: 5.05s\tremaining: 1m 2s\n",
      "75:\ttotal: 5.12s\tremaining: 1m 2s\n",
      "76:\ttotal: 5.19s\tremaining: 1m 2s\n",
      "77:\ttotal: 5.25s\tremaining: 1m 2s\n",
      "78:\ttotal: 5.33s\tremaining: 1m 2s\n",
      "79:\ttotal: 5.38s\tremaining: 1m 1s\n",
      "80:\ttotal: 5.44s\tremaining: 1m 1s\n",
      "81:\ttotal: 5.49s\tremaining: 1m 1s\n",
      "82:\ttotal: 5.55s\tremaining: 1m 1s\n",
      "83:\ttotal: 5.61s\tremaining: 1m 1s\n",
      "84:\ttotal: 5.67s\tremaining: 1m 1s\n",
      "85:\ttotal: 5.73s\tremaining: 1m\n",
      "86:\ttotal: 5.8s\tremaining: 1m\n",
      "87:\ttotal: 5.86s\tremaining: 1m\n",
      "88:\ttotal: 5.92s\tremaining: 1m\n",
      "89:\ttotal: 5.99s\tremaining: 1m\n",
      "90:\ttotal: 6.05s\tremaining: 1m\n",
      "91:\ttotal: 6.12s\tremaining: 1m\n",
      "92:\ttotal: 6.19s\tremaining: 1m\n",
      "93:\ttotal: 6.25s\tremaining: 1m\n",
      "94:\ttotal: 6.34s\tremaining: 1m\n",
      "95:\ttotal: 6.41s\tremaining: 1m\n",
      "96:\ttotal: 6.49s\tremaining: 1m\n",
      "97:\ttotal: 6.55s\tremaining: 1m\n",
      "98:\ttotal: 6.65s\tremaining: 1m\n",
      "99:\ttotal: 6.72s\tremaining: 1m\n",
      "100:\ttotal: 6.8s\tremaining: 1m\n",
      "101:\ttotal: 6.88s\tremaining: 1m\n",
      "102:\ttotal: 6.95s\tremaining: 1m\n",
      "103:\ttotal: 7.02s\tremaining: 1m\n",
      "104:\ttotal: 7.09s\tremaining: 1m\n",
      "105:\ttotal: 7.17s\tremaining: 1m\n",
      "106:\ttotal: 7.24s\tremaining: 1m\n",
      "107:\ttotal: 7.32s\tremaining: 1m\n",
      "108:\ttotal: 7.39s\tremaining: 1m\n",
      "109:\ttotal: 7.45s\tremaining: 1m\n",
      "110:\ttotal: 7.52s\tremaining: 1m\n",
      "111:\ttotal: 7.6s\tremaining: 1m\n",
      "112:\ttotal: 7.66s\tremaining: 1m\n",
      "113:\ttotal: 7.72s\tremaining: 60s\n",
      "114:\ttotal: 7.79s\tremaining: 60s\n",
      "115:\ttotal: 7.88s\tremaining: 1m\n",
      "116:\ttotal: 7.95s\tremaining: 1m\n",
      "117:\ttotal: 8.02s\tremaining: 59.9s\n",
      "118:\ttotal: 8.08s\tremaining: 59.8s\n",
      "119:\ttotal: 8.18s\tremaining: 1m\n",
      "120:\ttotal: 8.28s\tremaining: 1m\n",
      "121:\ttotal: 8.37s\tremaining: 1m\n",
      "122:\ttotal: 8.46s\tremaining: 1m\n",
      "123:\ttotal: 8.54s\tremaining: 1m\n",
      "124:\ttotal: 8.63s\tremaining: 1m\n",
      "125:\ttotal: 8.72s\tremaining: 1m\n",
      "126:\ttotal: 8.8s\tremaining: 1m\n",
      "127:\ttotal: 8.9s\tremaining: 1m\n",
      "128:\ttotal: 8.99s\tremaining: 1m\n",
      "129:\ttotal: 9.11s\tremaining: 1m\n",
      "130:\ttotal: 9.21s\tremaining: 1m 1s\n",
      "131:\ttotal: 9.32s\tremaining: 1m 1s\n",
      "132:\ttotal: 9.43s\tremaining: 1m 1s\n",
      "133:\ttotal: 9.52s\tremaining: 1m 1s\n",
      "134:\ttotal: 9.63s\tremaining: 1m 1s\n",
      "135:\ttotal: 9.75s\tremaining: 1m 1s\n",
      "136:\ttotal: 9.88s\tremaining: 1m 2s\n",
      "137:\ttotal: 9.97s\tremaining: 1m 2s\n",
      "138:\ttotal: 10.1s\tremaining: 1m 2s\n",
      "139:\ttotal: 10.1s\tremaining: 1m 2s\n",
      "140:\ttotal: 10.2s\tremaining: 1m 2s\n",
      "141:\ttotal: 10.3s\tremaining: 1m 2s\n",
      "142:\ttotal: 10.4s\tremaining: 1m 2s\n",
      "143:\ttotal: 10.5s\tremaining: 1m 2s\n",
      "144:\ttotal: 10.6s\tremaining: 1m 2s\n",
      "145:\ttotal: 10.7s\tremaining: 1m 2s\n",
      "146:\ttotal: 10.7s\tremaining: 1m 2s\n",
      "147:\ttotal: 10.8s\tremaining: 1m 2s\n",
      "148:\ttotal: 10.9s\tremaining: 1m 2s\n",
      "149:\ttotal: 11s\tremaining: 1m 2s\n",
      "150:\ttotal: 11.1s\tremaining: 1m 2s\n",
      "151:\ttotal: 11.1s\tremaining: 1m 2s\n",
      "152:\ttotal: 11.2s\tremaining: 1m 2s\n",
      "153:\ttotal: 11.4s\tremaining: 1m 2s\n",
      "154:\ttotal: 11.5s\tremaining: 1m 2s\n",
      "155:\ttotal: 11.5s\tremaining: 1m 2s\n",
      "156:\ttotal: 11.6s\tremaining: 1m 2s\n",
      "157:\ttotal: 11.7s\tremaining: 1m 2s\n",
      "158:\ttotal: 11.8s\tremaining: 1m 2s\n",
      "159:\ttotal: 11.9s\tremaining: 1m 2s\n",
      "160:\ttotal: 12s\tremaining: 1m 2s\n",
      "161:\ttotal: 12.1s\tremaining: 1m 2s\n",
      "162:\ttotal: 12.1s\tremaining: 1m 2s\n",
      "163:\ttotal: 12.2s\tremaining: 1m 2s\n",
      "164:\ttotal: 12.3s\tremaining: 1m 2s\n",
      "165:\ttotal: 12.4s\tremaining: 1m 2s\n",
      "166:\ttotal: 12.5s\tremaining: 1m 2s\n",
      "167:\ttotal: 12.6s\tremaining: 1m 2s\n",
      "168:\ttotal: 12.6s\tremaining: 1m 2s\n",
      "169:\ttotal: 12.7s\tremaining: 1m 2s\n",
      "170:\ttotal: 12.8s\tremaining: 1m 2s\n",
      "171:\ttotal: 12.9s\tremaining: 1m 2s\n",
      "172:\ttotal: 13s\tremaining: 1m 2s\n",
      "173:\ttotal: 13.1s\tremaining: 1m 2s\n",
      "174:\ttotal: 13.2s\tremaining: 1m 2s\n",
      "175:\ttotal: 13.3s\tremaining: 1m 2s\n",
      "176:\ttotal: 13.3s\tremaining: 1m 2s\n",
      "177:\ttotal: 13.4s\tremaining: 1m 2s\n",
      "178:\ttotal: 13.5s\tremaining: 1m 1s\n",
      "179:\ttotal: 13.6s\tremaining: 1m 1s\n",
      "180:\ttotal: 13.6s\tremaining: 1m 1s\n",
      "181:\ttotal: 13.7s\tremaining: 1m 1s\n",
      "182:\ttotal: 13.8s\tremaining: 1m 1s\n",
      "183:\ttotal: 13.8s\tremaining: 1m 1s\n",
      "184:\ttotal: 13.9s\tremaining: 1m 1s\n",
      "185:\ttotal: 14s\tremaining: 1m 1s\n",
      "186:\ttotal: 14s\tremaining: 1m 1s\n",
      "187:\ttotal: 14.1s\tremaining: 1m\n",
      "188:\ttotal: 14.2s\tremaining: 1m\n",
      "189:\ttotal: 14.2s\tremaining: 1m\n",
      "190:\ttotal: 14.3s\tremaining: 1m\n",
      "191:\ttotal: 14.4s\tremaining: 1m\n",
      "192:\ttotal: 14.4s\tremaining: 1m\n",
      "193:\ttotal: 14.5s\tremaining: 1m\n",
      "194:\ttotal: 14.6s\tremaining: 1m\n",
      "195:\ttotal: 14.6s\tremaining: 59.9s\n",
      "196:\ttotal: 14.7s\tremaining: 59.8s\n",
      "197:\ttotal: 14.8s\tremaining: 60s\n",
      "198:\ttotal: 14.9s\tremaining: 59.9s\n",
      "199:\ttotal: 14.9s\tremaining: 59.8s\n",
      "200:\ttotal: 15s\tremaining: 59.8s\n",
      "201:\ttotal: 15.1s\tremaining: 59.7s\n",
      "202:\ttotal: 15.2s\tremaining: 59.5s\n",
      "203:\ttotal: 15.2s\tremaining: 59.4s\n",
      "204:\ttotal: 15.3s\tremaining: 59.3s\n",
      "205:\ttotal: 15.4s\tremaining: 59.2s\n",
      "206:\ttotal: 15.4s\tremaining: 59.2s\n",
      "207:\ttotal: 15.5s\tremaining: 59.1s\n",
      "208:\ttotal: 15.6s\tremaining: 59s\n",
      "209:\ttotal: 15.7s\tremaining: 58.9s\n",
      "210:\ttotal: 15.7s\tremaining: 58.8s\n",
      "211:\ttotal: 15.8s\tremaining: 58.8s\n",
      "212:\ttotal: 15.9s\tremaining: 58.6s\n",
      "213:\ttotal: 15.9s\tremaining: 58.5s\n",
      "214:\ttotal: 16s\tremaining: 58.4s\n",
      "215:\ttotal: 16s\tremaining: 58.2s\n",
      "216:\ttotal: 16.1s\tremaining: 58.1s\n",
      "217:\ttotal: 16.2s\tremaining: 58s\n",
      "218:\ttotal: 16.2s\tremaining: 57.8s\n",
      "219:\ttotal: 16.3s\tremaining: 57.7s\n",
      "220:\ttotal: 16.3s\tremaining: 57.6s\n",
      "221:\ttotal: 16.4s\tremaining: 57.4s\n",
      "222:\ttotal: 16.5s\tremaining: 57.3s\n",
      "223:\ttotal: 16.5s\tremaining: 57.3s\n",
      "224:\ttotal: 16.6s\tremaining: 57.2s\n",
      "225:\ttotal: 16.7s\tremaining: 57.1s\n",
      "226:\ttotal: 16.7s\tremaining: 57s\n",
      "227:\ttotal: 16.8s\tremaining: 56.9s\n",
      "228:\ttotal: 16.9s\tremaining: 56.8s\n",
      "229:\ttotal: 16.9s\tremaining: 56.7s\n",
      "230:\ttotal: 17s\tremaining: 56.6s\n",
      "231:\ttotal: 17.1s\tremaining: 56.5s\n",
      "232:\ttotal: 17.1s\tremaining: 56.4s\n",
      "233:\ttotal: 17.2s\tremaining: 56.3s\n",
      "234:\ttotal: 17.3s\tremaining: 56.2s\n",
      "235:\ttotal: 17.3s\tremaining: 56.1s\n",
      "236:\ttotal: 17.4s\tremaining: 56s\n",
      "237:\ttotal: 17.5s\tremaining: 55.9s\n",
      "238:\ttotal: 17.5s\tremaining: 55.8s\n",
      "239:\ttotal: 17.6s\tremaining: 55.7s\n",
      "240:\ttotal: 17.7s\tremaining: 55.6s\n",
      "241:\ttotal: 17.7s\tremaining: 55.5s\n",
      "242:\ttotal: 17.8s\tremaining: 55.5s\n",
      "243:\ttotal: 17.9s\tremaining: 55.3s\n",
      "244:\ttotal: 17.9s\tremaining: 55.2s\n",
      "245:\ttotal: 18s\tremaining: 55.1s\n",
      "246:\ttotal: 18s\tremaining: 55s\n",
      "247:\ttotal: 18.1s\tremaining: 54.9s\n",
      "248:\ttotal: 18.2s\tremaining: 54.8s\n",
      "249:\ttotal: 18.2s\tremaining: 54.7s\n",
      "250:\ttotal: 18.3s\tremaining: 54.6s\n",
      "251:\ttotal: 18.4s\tremaining: 54.5s\n",
      "252:\ttotal: 18.4s\tremaining: 54.4s\n",
      "253:\ttotal: 18.5s\tremaining: 54.2s\n",
      "254:\ttotal: 18.5s\tremaining: 54.1s\n",
      "255:\ttotal: 18.6s\tremaining: 54s\n",
      "256:\ttotal: 18.7s\tremaining: 53.9s\n",
      "257:\ttotal: 18.7s\tremaining: 53.8s\n",
      "258:\ttotal: 18.8s\tremaining: 53.7s\n",
      "259:\ttotal: 18.8s\tremaining: 53.6s\n",
      "260:\ttotal: 18.9s\tremaining: 53.5s\n",
      "261:\ttotal: 19s\tremaining: 53.5s\n",
      "262:\ttotal: 19s\tremaining: 53.3s\n",
      "263:\ttotal: 19.1s\tremaining: 53.3s\n",
      "264:\ttotal: 19.2s\tremaining: 53.2s\n",
      "265:\ttotal: 19.2s\tremaining: 53.1s\n",
      "266:\ttotal: 19.3s\tremaining: 53s\n",
      "267:\ttotal: 19.4s\tremaining: 52.9s\n",
      "268:\ttotal: 19.4s\tremaining: 52.8s\n",
      "269:\ttotal: 19.5s\tremaining: 52.7s\n",
      "270:\ttotal: 19.6s\tremaining: 52.6s\n",
      "271:\ttotal: 19.6s\tremaining: 52.5s\n",
      "272:\ttotal: 19.7s\tremaining: 52.4s\n",
      "273:\ttotal: 19.8s\tremaining: 52.3s\n",
      "274:\ttotal: 19.8s\tremaining: 52.2s\n",
      "275:\ttotal: 19.9s\tremaining: 52.2s\n",
      "276:\ttotal: 20s\tremaining: 52.1s\n",
      "277:\ttotal: 20s\tremaining: 52s\n",
      "278:\ttotal: 20.1s\tremaining: 51.9s\n",
      "279:\ttotal: 20.1s\tremaining: 51.8s\n",
      "280:\ttotal: 20.2s\tremaining: 51.7s\n",
      "281:\ttotal: 20.3s\tremaining: 51.6s\n",
      "282:\ttotal: 20.3s\tremaining: 51.5s\n",
      "283:\ttotal: 20.4s\tremaining: 51.4s\n",
      "284:\ttotal: 20.4s\tremaining: 51.3s\n",
      "285:\ttotal: 20.5s\tremaining: 51.2s\n",
      "286:\ttotal: 20.5s\tremaining: 51s\n",
      "287:\ttotal: 20.6s\tremaining: 50.9s\n",
      "288:\ttotal: 20.7s\tremaining: 50.8s\n",
      "289:\ttotal: 20.7s\tremaining: 50.7s\n",
      "290:\ttotal: 20.8s\tremaining: 50.6s\n",
      "291:\ttotal: 20.8s\tremaining: 50.5s\n",
      "292:\ttotal: 20.9s\tremaining: 50.4s\n",
      "293:\ttotal: 21s\tremaining: 50.3s\n",
      "294:\ttotal: 21s\tremaining: 50.2s\n",
      "295:\ttotal: 21.1s\tremaining: 50.2s\n",
      "296:\ttotal: 21.2s\tremaining: 50.1s\n",
      "297:\ttotal: 21.2s\tremaining: 50s\n",
      "298:\ttotal: 21.3s\tremaining: 49.9s\n",
      "299:\ttotal: 21.3s\tremaining: 49.8s\n",
      "300:\ttotal: 21.4s\tremaining: 49.7s\n",
      "301:\ttotal: 21.5s\tremaining: 49.6s\n",
      "302:\ttotal: 21.5s\tremaining: 49.5s\n",
      "303:\ttotal: 21.6s\tremaining: 49.4s\n",
      "304:\ttotal: 21.7s\tremaining: 49.3s\n",
      "305:\ttotal: 21.7s\tremaining: 49.3s\n",
      "306:\ttotal: 21.8s\tremaining: 49.2s\n",
      "307:\ttotal: 21.9s\tremaining: 49.1s\n",
      "308:\ttotal: 21.9s\tremaining: 49s\n",
      "309:\ttotal: 22s\tremaining: 48.9s\n",
      "310:\ttotal: 22s\tremaining: 48.8s\n",
      "311:\ttotal: 22.1s\tremaining: 48.8s\n",
      "312:\ttotal: 22.2s\tremaining: 48.6s\n",
      "313:\ttotal: 22.2s\tremaining: 48.6s\n",
      "314:\ttotal: 22.3s\tremaining: 48.5s\n",
      "315:\ttotal: 22.4s\tremaining: 48.4s\n",
      "316:\ttotal: 22.4s\tremaining: 48.3s\n",
      "317:\ttotal: 22.5s\tremaining: 48.2s\n",
      "318:\ttotal: 22.6s\tremaining: 48.1s\n",
      "319:\ttotal: 22.6s\tremaining: 48s\n",
      "320:\ttotal: 22.7s\tremaining: 47.9s\n",
      "321:\ttotal: 22.7s\tremaining: 47.9s\n",
      "322:\ttotal: 22.8s\tremaining: 47.9s\n",
      "323:\ttotal: 22.9s\tremaining: 47.8s\n",
      "324:\ttotal: 23s\tremaining: 47.7s\n",
      "325:\ttotal: 23s\tremaining: 47.6s\n",
      "326:\ttotal: 23.1s\tremaining: 47.6s\n",
      "327:\ttotal: 23.2s\tremaining: 47.5s\n",
      "328:\ttotal: 23.2s\tremaining: 47.4s\n",
      "329:\ttotal: 23.3s\tremaining: 47.4s\n",
      "330:\ttotal: 23.4s\tremaining: 47.3s\n",
      "331:\ttotal: 23.5s\tremaining: 47.2s\n",
      "332:\ttotal: 23.6s\tremaining: 47.2s\n",
      "333:\ttotal: 23.6s\tremaining: 47.1s\n",
      "334:\ttotal: 23.7s\tremaining: 47.1s\n",
      "335:\ttotal: 23.8s\tremaining: 47s\n",
      "336:\ttotal: 23.8s\tremaining: 46.9s\n",
      "337:\ttotal: 23.9s\tremaining: 46.8s\n",
      "338:\ttotal: 24s\tremaining: 46.7s\n",
      "339:\ttotal: 24s\tremaining: 46.6s\n",
      "340:\ttotal: 24.1s\tremaining: 46.5s\n",
      "341:\ttotal: 24.1s\tremaining: 46.4s\n",
      "342:\ttotal: 24.2s\tremaining: 46.4s\n",
      "343:\ttotal: 24.3s\tremaining: 46.3s\n",
      "344:\ttotal: 24.3s\tremaining: 46.2s\n",
      "345:\ttotal: 24.4s\tremaining: 46.1s\n",
      "346:\ttotal: 24.4s\tremaining: 46s\n",
      "347:\ttotal: 24.5s\tremaining: 45.9s\n",
      "348:\ttotal: 24.6s\tremaining: 45.9s\n",
      "349:\ttotal: 24.7s\tremaining: 45.8s\n",
      "350:\ttotal: 24.7s\tremaining: 45.7s\n",
      "351:\ttotal: 24.8s\tremaining: 45.6s\n",
      "352:\ttotal: 24.8s\tremaining: 45.5s\n",
      "353:\ttotal: 24.9s\tremaining: 45.5s\n",
      "354:\ttotal: 25s\tremaining: 45.4s\n",
      "355:\ttotal: 25s\tremaining: 45.3s\n",
      "356:\ttotal: 25.1s\tremaining: 45.2s\n",
      "357:\ttotal: 25.2s\tremaining: 45.1s\n",
      "358:\ttotal: 25.2s\tremaining: 45s\n",
      "359:\ttotal: 25.3s\tremaining: 45s\n",
      "360:\ttotal: 25.3s\tremaining: 44.9s\n",
      "361:\ttotal: 25.4s\tremaining: 44.8s\n",
      "362:\ttotal: 25.5s\tremaining: 44.7s\n",
      "363:\ttotal: 25.5s\tremaining: 44.6s\n",
      "364:\ttotal: 25.6s\tremaining: 44.6s\n",
      "365:\ttotal: 25.7s\tremaining: 44.5s\n",
      "366:\ttotal: 25.8s\tremaining: 44.4s\n",
      "367:\ttotal: 25.8s\tremaining: 44.3s\n",
      "368:\ttotal: 25.9s\tremaining: 44.3s\n",
      "369:\ttotal: 25.9s\tremaining: 44.2s\n",
      "370:\ttotal: 26s\tremaining: 44.1s\n",
      "371:\ttotal: 26.1s\tremaining: 44s\n",
      "372:\ttotal: 26.1s\tremaining: 43.9s\n",
      "373:\ttotal: 26.2s\tremaining: 43.8s\n",
      "374:\ttotal: 26.2s\tremaining: 43.7s\n",
      "375:\ttotal: 26.3s\tremaining: 43.6s\n",
      "376:\ttotal: 26.4s\tremaining: 43.6s\n",
      "377:\ttotal: 26.4s\tremaining: 43.5s\n",
      "378:\ttotal: 26.5s\tremaining: 43.4s\n",
      "379:\ttotal: 26.5s\tremaining: 43.3s\n",
      "380:\ttotal: 26.6s\tremaining: 43.2s\n",
      "381:\ttotal: 26.7s\tremaining: 43.2s\n",
      "382:\ttotal: 26.8s\tremaining: 43.1s\n",
      "383:\ttotal: 26.9s\tremaining: 43.1s\n",
      "384:\ttotal: 26.9s\tremaining: 43s\n",
      "385:\ttotal: 27s\tremaining: 42.9s\n",
      "386:\ttotal: 27.1s\tremaining: 42.9s\n",
      "387:\ttotal: 27.2s\tremaining: 42.8s\n",
      "388:\ttotal: 27.2s\tremaining: 42.8s\n",
      "389:\ttotal: 27.3s\tremaining: 42.7s\n",
      "390:\ttotal: 27.4s\tremaining: 42.7s\n",
      "391:\ttotal: 27.5s\tremaining: 42.6s\n",
      "392:\ttotal: 27.6s\tremaining: 42.6s\n",
      "393:\ttotal: 27.7s\tremaining: 42.5s\n",
      "394:\ttotal: 27.7s\tremaining: 42.5s\n",
      "395:\ttotal: 27.8s\tremaining: 42.4s\n",
      "396:\ttotal: 27.8s\tremaining: 42.3s\n",
      "397:\ttotal: 27.9s\tremaining: 42.2s\n",
      "398:\ttotal: 28s\tremaining: 42.2s\n",
      "399:\ttotal: 28.1s\tremaining: 42.1s\n",
      "400:\ttotal: 28.1s\tremaining: 42s\n",
      "401:\ttotal: 28.2s\tremaining: 42s\n",
      "402:\ttotal: 28.3s\tremaining: 41.9s\n",
      "403:\ttotal: 28.4s\tremaining: 41.9s\n",
      "404:\ttotal: 28.4s\tremaining: 41.8s\n",
      "405:\ttotal: 28.5s\tremaining: 41.7s\n",
      "406:\ttotal: 28.6s\tremaining: 41.6s\n",
      "407:\ttotal: 28.7s\tremaining: 41.6s\n",
      "408:\ttotal: 28.7s\tremaining: 41.5s\n",
      "409:\ttotal: 28.9s\tremaining: 41.5s\n",
      "410:\ttotal: 28.9s\tremaining: 41.5s\n",
      "411:\ttotal: 29s\tremaining: 41.4s\n",
      "412:\ttotal: 29.1s\tremaining: 41.3s\n",
      "413:\ttotal: 29.1s\tremaining: 41.3s\n",
      "414:\ttotal: 29.2s\tremaining: 41.2s\n",
      "415:\ttotal: 29.3s\tremaining: 41.2s\n",
      "416:\ttotal: 29.4s\tremaining: 41.1s\n",
      "417:\ttotal: 29.5s\tremaining: 41.1s\n",
      "418:\ttotal: 29.6s\tremaining: 41s\n",
      "419:\ttotal: 29.6s\tremaining: 40.9s\n",
      "420:\ttotal: 29.7s\tremaining: 40.9s\n",
      "421:\ttotal: 29.8s\tremaining: 40.8s\n",
      "422:\ttotal: 29.9s\tremaining: 40.7s\n",
      "423:\ttotal: 29.9s\tremaining: 40.7s\n",
      "424:\ttotal: 30s\tremaining: 40.6s\n",
      "425:\ttotal: 30.1s\tremaining: 40.5s\n",
      "426:\ttotal: 30.2s\tremaining: 40.5s\n",
      "427:\ttotal: 30.2s\tremaining: 40.4s\n",
      "428:\ttotal: 30.3s\tremaining: 40.3s\n",
      "429:\ttotal: 30.4s\tremaining: 40.3s\n",
      "430:\ttotal: 30.4s\tremaining: 40.2s\n",
      "431:\ttotal: 30.5s\tremaining: 40.1s\n",
      "432:\ttotal: 30.6s\tremaining: 40s\n",
      "433:\ttotal: 30.6s\tremaining: 40s\n",
      "434:\ttotal: 30.7s\tremaining: 39.9s\n",
      "435:\ttotal: 30.8s\tremaining: 39.8s\n",
      "436:\ttotal: 30.8s\tremaining: 39.7s\n",
      "437:\ttotal: 30.9s\tremaining: 39.7s\n",
      "438:\ttotal: 31s\tremaining: 39.6s\n",
      "439:\ttotal: 31s\tremaining: 39.5s\n",
      "440:\ttotal: 31.1s\tremaining: 39.4s\n",
      "441:\ttotal: 31.2s\tremaining: 39.3s\n",
      "442:\ttotal: 31.2s\tremaining: 39.3s\n",
      "443:\ttotal: 31.3s\tremaining: 39.2s\n",
      "444:\ttotal: 31.3s\tremaining: 39.1s\n",
      "445:\ttotal: 31.4s\tremaining: 39s\n",
      "446:\ttotal: 31.5s\tremaining: 38.9s\n",
      "447:\ttotal: 31.5s\tremaining: 38.9s\n",
      "448:\ttotal: 31.6s\tremaining: 38.8s\n",
      "449:\ttotal: 31.7s\tremaining: 38.7s\n",
      "450:\ttotal: 31.7s\tremaining: 38.6s\n",
      "451:\ttotal: 31.8s\tremaining: 38.5s\n",
      "452:\ttotal: 31.8s\tremaining: 38.4s\n",
      "453:\ttotal: 31.9s\tremaining: 38.4s\n",
      "454:\ttotal: 32s\tremaining: 38.3s\n",
      "455:\ttotal: 32s\tremaining: 38.2s\n",
      "456:\ttotal: 32.1s\tremaining: 38.1s\n",
      "457:\ttotal: 32.1s\tremaining: 38s\n",
      "458:\ttotal: 32.2s\tremaining: 37.9s\n",
      "459:\ttotal: 32.3s\tremaining: 37.9s\n",
      "460:\ttotal: 32.3s\tremaining: 37.8s\n",
      "461:\ttotal: 32.4s\tremaining: 37.7s\n",
      "462:\ttotal: 32.5s\tremaining: 37.6s\n",
      "463:\ttotal: 32.5s\tremaining: 37.6s\n",
      "464:\ttotal: 32.6s\tremaining: 37.5s\n",
      "465:\ttotal: 32.7s\tremaining: 37.4s\n",
      "466:\ttotal: 32.7s\tremaining: 37.3s\n",
      "467:\ttotal: 32.8s\tremaining: 37.3s\n",
      "468:\ttotal: 32.9s\tremaining: 37.2s\n",
      "469:\ttotal: 32.9s\tremaining: 37.1s\n",
      "470:\ttotal: 33s\tremaining: 37s\n",
      "471:\ttotal: 33s\tremaining: 37s\n",
      "472:\ttotal: 33.1s\tremaining: 36.9s\n",
      "473:\ttotal: 33.2s\tremaining: 36.8s\n",
      "474:\ttotal: 33.2s\tremaining: 36.7s\n",
      "475:\ttotal: 33.3s\tremaining: 36.7s\n",
      "476:\ttotal: 33.4s\tremaining: 36.6s\n",
      "477:\ttotal: 33.4s\tremaining: 36.5s\n",
      "478:\ttotal: 33.5s\tremaining: 36.4s\n",
      "479:\ttotal: 33.6s\tremaining: 36.4s\n",
      "480:\ttotal: 33.6s\tremaining: 36.3s\n",
      "481:\ttotal: 33.7s\tremaining: 36.2s\n",
      "482:\ttotal: 33.8s\tremaining: 36.1s\n",
      "483:\ttotal: 33.8s\tremaining: 36s\n",
      "484:\ttotal: 33.9s\tremaining: 36s\n",
      "485:\ttotal: 33.9s\tremaining: 35.9s\n",
      "486:\ttotal: 34s\tremaining: 35.8s\n",
      "487:\ttotal: 34.1s\tremaining: 35.8s\n",
      "488:\ttotal: 34.1s\tremaining: 35.7s\n",
      "489:\ttotal: 34.2s\tremaining: 35.6s\n",
      "490:\ttotal: 34.3s\tremaining: 35.5s\n",
      "491:\ttotal: 34.4s\tremaining: 35.5s\n",
      "492:\ttotal: 34.4s\tremaining: 35.4s\n",
      "493:\ttotal: 34.5s\tremaining: 35.3s\n",
      "494:\ttotal: 34.6s\tremaining: 35.3s\n",
      "495:\ttotal: 34.6s\tremaining: 35.2s\n",
      "496:\ttotal: 34.7s\tremaining: 35.1s\n",
      "497:\ttotal: 34.8s\tremaining: 35.1s\n",
      "498:\ttotal: 34.9s\tremaining: 35s\n",
      "499:\ttotal: 35s\tremaining: 35s\n",
      "500:\ttotal: 35s\tremaining: 34.9s\n",
      "501:\ttotal: 35.1s\tremaining: 34.8s\n",
      "502:\ttotal: 35.1s\tremaining: 34.7s\n",
      "503:\ttotal: 35.2s\tremaining: 34.6s\n",
      "504:\ttotal: 35.3s\tremaining: 34.6s\n",
      "505:\ttotal: 35.4s\tremaining: 34.5s\n",
      "506:\ttotal: 35.4s\tremaining: 34.5s\n",
      "507:\ttotal: 35.5s\tremaining: 34.4s\n",
      "508:\ttotal: 35.6s\tremaining: 34.3s\n",
      "509:\ttotal: 35.7s\tremaining: 34.3s\n",
      "510:\ttotal: 35.7s\tremaining: 34.2s\n",
      "511:\ttotal: 35.8s\tremaining: 34.1s\n",
      "512:\ttotal: 35.9s\tremaining: 34s\n",
      "513:\ttotal: 35.9s\tremaining: 34s\n",
      "514:\ttotal: 36s\tremaining: 33.9s\n",
      "515:\ttotal: 36.1s\tremaining: 33.8s\n",
      "516:\ttotal: 36.1s\tremaining: 33.7s\n",
      "517:\ttotal: 36.2s\tremaining: 33.7s\n",
      "518:\ttotal: 36.3s\tremaining: 33.6s\n",
      "519:\ttotal: 36.3s\tremaining: 33.5s\n",
      "520:\ttotal: 36.4s\tremaining: 33.5s\n",
      "521:\ttotal: 36.5s\tremaining: 33.4s\n",
      "522:\ttotal: 36.6s\tremaining: 33.3s\n",
      "523:\ttotal: 36.6s\tremaining: 33.3s\n",
      "524:\ttotal: 36.7s\tremaining: 33.2s\n",
      "525:\ttotal: 36.8s\tremaining: 33.1s\n",
      "526:\ttotal: 36.8s\tremaining: 33.1s\n",
      "527:\ttotal: 36.9s\tremaining: 33s\n",
      "528:\ttotal: 37s\tremaining: 32.9s\n",
      "529:\ttotal: 37s\tremaining: 32.8s\n",
      "530:\ttotal: 37.1s\tremaining: 32.8s\n",
      "531:\ttotal: 37.2s\tremaining: 32.7s\n",
      "532:\ttotal: 37.3s\tremaining: 32.7s\n",
      "533:\ttotal: 37.3s\tremaining: 32.6s\n",
      "534:\ttotal: 37.4s\tremaining: 32.5s\n",
      "535:\ttotal: 37.5s\tremaining: 32.4s\n",
      "536:\ttotal: 37.6s\tremaining: 32.4s\n",
      "537:\ttotal: 37.6s\tremaining: 32.3s\n",
      "538:\ttotal: 37.7s\tremaining: 32.3s\n",
      "539:\ttotal: 37.8s\tremaining: 32.2s\n",
      "540:\ttotal: 37.8s\tremaining: 32.1s\n",
      "541:\ttotal: 37.9s\tremaining: 32s\n",
      "542:\ttotal: 38s\tremaining: 32s\n",
      "543:\ttotal: 38s\tremaining: 31.9s\n",
      "544:\ttotal: 38.1s\tremaining: 31.8s\n",
      "545:\ttotal: 38.2s\tremaining: 31.7s\n",
      "546:\ttotal: 38.2s\tremaining: 31.7s\n",
      "547:\ttotal: 38.3s\tremaining: 31.6s\n",
      "548:\ttotal: 38.4s\tremaining: 31.5s\n",
      "549:\ttotal: 38.4s\tremaining: 31.5s\n",
      "550:\ttotal: 38.5s\tremaining: 31.4s\n",
      "551:\ttotal: 38.6s\tremaining: 31.3s\n",
      "552:\ttotal: 38.7s\tremaining: 31.2s\n",
      "553:\ttotal: 38.7s\tremaining: 31.2s\n",
      "554:\ttotal: 38.8s\tremaining: 31.1s\n",
      "555:\ttotal: 38.9s\tremaining: 31s\n",
      "556:\ttotal: 39s\tremaining: 31s\n",
      "557:\ttotal: 39s\tremaining: 30.9s\n",
      "558:\ttotal: 39.1s\tremaining: 30.9s\n",
      "559:\ttotal: 39.2s\tremaining: 30.8s\n",
      "560:\ttotal: 39.3s\tremaining: 30.7s\n",
      "561:\ttotal: 39.4s\tremaining: 30.7s\n",
      "562:\ttotal: 39.4s\tremaining: 30.6s\n",
      "563:\ttotal: 39.5s\tremaining: 30.6s\n",
      "564:\ttotal: 39.6s\tremaining: 30.5s\n",
      "565:\ttotal: 39.7s\tremaining: 30.4s\n",
      "566:\ttotal: 39.7s\tremaining: 30.4s\n",
      "567:\ttotal: 39.8s\tremaining: 30.3s\n",
      "568:\ttotal: 39.9s\tremaining: 30.2s\n",
      "569:\ttotal: 40s\tremaining: 30.2s\n",
      "570:\ttotal: 40s\tremaining: 30.1s\n",
      "571:\ttotal: 40.1s\tremaining: 30s\n",
      "572:\ttotal: 40.2s\tremaining: 29.9s\n",
      "573:\ttotal: 40.3s\tremaining: 29.9s\n",
      "574:\ttotal: 40.3s\tremaining: 29.8s\n",
      "575:\ttotal: 40.4s\tremaining: 29.7s\n",
      "576:\ttotal: 40.5s\tremaining: 29.7s\n",
      "577:\ttotal: 40.5s\tremaining: 29.6s\n",
      "578:\ttotal: 40.6s\tremaining: 29.5s\n",
      "579:\ttotal: 40.7s\tremaining: 29.4s\n",
      "580:\ttotal: 40.8s\tremaining: 29.4s\n",
      "581:\ttotal: 40.8s\tremaining: 29.3s\n",
      "582:\ttotal: 40.9s\tremaining: 29.3s\n",
      "583:\ttotal: 41s\tremaining: 29.2s\n",
      "584:\ttotal: 41.1s\tremaining: 29.1s\n",
      "585:\ttotal: 41.1s\tremaining: 29.1s\n",
      "586:\ttotal: 41.2s\tremaining: 29s\n",
      "587:\ttotal: 41.3s\tremaining: 28.9s\n",
      "588:\ttotal: 41.4s\tremaining: 28.9s\n",
      "589:\ttotal: 41.4s\tremaining: 28.8s\n",
      "590:\ttotal: 41.5s\tremaining: 28.7s\n",
      "591:\ttotal: 41.6s\tremaining: 28.7s\n",
      "592:\ttotal: 41.6s\tremaining: 28.6s\n",
      "593:\ttotal: 41.7s\tremaining: 28.5s\n",
      "594:\ttotal: 41.8s\tremaining: 28.4s\n",
      "595:\ttotal: 41.9s\tremaining: 28.4s\n",
      "596:\ttotal: 41.9s\tremaining: 28.3s\n",
      "597:\ttotal: 42s\tremaining: 28.2s\n",
      "598:\ttotal: 42.1s\tremaining: 28.2s\n",
      "599:\ttotal: 42.1s\tremaining: 28.1s\n",
      "600:\ttotal: 42.2s\tremaining: 28s\n",
      "601:\ttotal: 42.3s\tremaining: 28s\n",
      "602:\ttotal: 42.3s\tremaining: 27.9s\n",
      "603:\ttotal: 42.4s\tremaining: 27.8s\n",
      "604:\ttotal: 42.5s\tremaining: 27.7s\n",
      "605:\ttotal: 42.5s\tremaining: 27.6s\n",
      "606:\ttotal: 42.6s\tremaining: 27.6s\n",
      "607:\ttotal: 42.7s\tremaining: 27.5s\n",
      "608:\ttotal: 42.8s\tremaining: 27.5s\n",
      "609:\ttotal: 42.8s\tremaining: 27.4s\n",
      "610:\ttotal: 42.9s\tremaining: 27.3s\n",
      "611:\ttotal: 43s\tremaining: 27.2s\n",
      "612:\ttotal: 43.1s\tremaining: 27.2s\n",
      "613:\ttotal: 43.1s\tremaining: 27.1s\n",
      "614:\ttotal: 43.2s\tremaining: 27.1s\n",
      "615:\ttotal: 43.3s\tremaining: 27s\n",
      "616:\ttotal: 43.4s\tremaining: 26.9s\n",
      "617:\ttotal: 43.5s\tremaining: 26.9s\n",
      "618:\ttotal: 43.5s\tremaining: 26.8s\n",
      "619:\ttotal: 43.6s\tremaining: 26.7s\n",
      "620:\ttotal: 43.7s\tremaining: 26.7s\n",
      "621:\ttotal: 43.8s\tremaining: 26.6s\n",
      "622:\ttotal: 43.9s\tremaining: 26.5s\n",
      "623:\ttotal: 43.9s\tremaining: 26.5s\n",
      "624:\ttotal: 44s\tremaining: 26.4s\n",
      "625:\ttotal: 44.1s\tremaining: 26.3s\n",
      "626:\ttotal: 44.2s\tremaining: 26.3s\n",
      "627:\ttotal: 44.3s\tremaining: 26.2s\n",
      "628:\ttotal: 44.4s\tremaining: 26.2s\n",
      "629:\ttotal: 44.4s\tremaining: 26.1s\n",
      "630:\ttotal: 44.5s\tremaining: 26s\n",
      "631:\ttotal: 44.6s\tremaining: 26s\n",
      "632:\ttotal: 44.7s\tremaining: 25.9s\n",
      "633:\ttotal: 44.8s\tremaining: 25.9s\n",
      "634:\ttotal: 44.9s\tremaining: 25.8s\n",
      "635:\ttotal: 44.9s\tremaining: 25.7s\n",
      "636:\ttotal: 45s\tremaining: 25.7s\n",
      "637:\ttotal: 45.1s\tremaining: 25.6s\n",
      "638:\ttotal: 45.2s\tremaining: 25.6s\n",
      "639:\ttotal: 45.3s\tremaining: 25.5s\n",
      "640:\ttotal: 45.5s\tremaining: 25.5s\n",
      "641:\ttotal: 45.6s\tremaining: 25.4s\n",
      "642:\ttotal: 45.7s\tremaining: 25.4s\n",
      "643:\ttotal: 45.7s\tremaining: 25.3s\n",
      "644:\ttotal: 45.8s\tremaining: 25.2s\n",
      "645:\ttotal: 45.9s\tremaining: 25.2s\n",
      "646:\ttotal: 46s\tremaining: 25.1s\n",
      "647:\ttotal: 46.1s\tremaining: 25s\n",
      "648:\ttotal: 46.2s\tremaining: 25s\n",
      "649:\ttotal: 46.3s\tremaining: 24.9s\n",
      "650:\ttotal: 46.5s\tremaining: 24.9s\n",
      "651:\ttotal: 46.6s\tremaining: 24.9s\n",
      "652:\ttotal: 46.7s\tremaining: 24.8s\n",
      "653:\ttotal: 46.8s\tremaining: 24.7s\n",
      "654:\ttotal: 46.8s\tremaining: 24.7s\n",
      "655:\ttotal: 46.9s\tremaining: 24.6s\n",
      "656:\ttotal: 47s\tremaining: 24.5s\n",
      "657:\ttotal: 47s\tremaining: 24.4s\n",
      "658:\ttotal: 47.1s\tremaining: 24.4s\n",
      "659:\ttotal: 47.2s\tremaining: 24.3s\n",
      "660:\ttotal: 47.3s\tremaining: 24.3s\n",
      "661:\ttotal: 47.4s\tremaining: 24.2s\n",
      "662:\ttotal: 47.4s\tremaining: 24.1s\n",
      "663:\ttotal: 47.5s\tremaining: 24s\n",
      "664:\ttotal: 47.6s\tremaining: 24s\n",
      "665:\ttotal: 47.6s\tremaining: 23.9s\n",
      "666:\ttotal: 47.7s\tremaining: 23.8s\n",
      "667:\ttotal: 47.8s\tremaining: 23.8s\n",
      "668:\ttotal: 47.9s\tremaining: 23.7s\n",
      "669:\ttotal: 48s\tremaining: 23.6s\n",
      "670:\ttotal: 48.1s\tremaining: 23.6s\n",
      "671:\ttotal: 48.3s\tremaining: 23.6s\n",
      "672:\ttotal: 48.4s\tremaining: 23.5s\n",
      "673:\ttotal: 48.5s\tremaining: 23.5s\n",
      "674:\ttotal: 48.6s\tremaining: 23.4s\n",
      "675:\ttotal: 48.8s\tremaining: 23.4s\n",
      "676:\ttotal: 48.9s\tremaining: 23.3s\n",
      "677:\ttotal: 48.9s\tremaining: 23.2s\n",
      "678:\ttotal: 49s\tremaining: 23.2s\n",
      "679:\ttotal: 49.1s\tremaining: 23.1s\n",
      "680:\ttotal: 49.2s\tremaining: 23.1s\n",
      "681:\ttotal: 49.3s\tremaining: 23s\n",
      "682:\ttotal: 49.4s\tremaining: 22.9s\n",
      "683:\ttotal: 49.5s\tremaining: 22.8s\n",
      "684:\ttotal: 49.5s\tremaining: 22.8s\n",
      "685:\ttotal: 49.6s\tremaining: 22.7s\n",
      "686:\ttotal: 49.7s\tremaining: 22.6s\n",
      "687:\ttotal: 49.8s\tremaining: 22.6s\n",
      "688:\ttotal: 49.8s\tremaining: 22.5s\n",
      "689:\ttotal: 49.9s\tremaining: 22.4s\n",
      "690:\ttotal: 50s\tremaining: 22.4s\n",
      "691:\ttotal: 50.1s\tremaining: 22.3s\n",
      "692:\ttotal: 50.1s\tremaining: 22.2s\n",
      "693:\ttotal: 50.2s\tremaining: 22.1s\n",
      "694:\ttotal: 50.3s\tremaining: 22.1s\n",
      "695:\ttotal: 50.3s\tremaining: 22s\n",
      "696:\ttotal: 50.4s\tremaining: 21.9s\n",
      "697:\ttotal: 50.5s\tremaining: 21.8s\n",
      "698:\ttotal: 50.5s\tremaining: 21.8s\n",
      "699:\ttotal: 50.6s\tremaining: 21.7s\n",
      "700:\ttotal: 50.7s\tremaining: 21.6s\n",
      "701:\ttotal: 50.7s\tremaining: 21.5s\n",
      "702:\ttotal: 50.8s\tremaining: 21.5s\n",
      "703:\ttotal: 50.9s\tremaining: 21.4s\n",
      "704:\ttotal: 50.9s\tremaining: 21.3s\n",
      "705:\ttotal: 51s\tremaining: 21.2s\n",
      "706:\ttotal: 51.1s\tremaining: 21.2s\n",
      "707:\ttotal: 51.2s\tremaining: 21.1s\n",
      "708:\ttotal: 51.2s\tremaining: 21s\n",
      "709:\ttotal: 51.3s\tremaining: 21s\n",
      "710:\ttotal: 51.4s\tremaining: 20.9s\n",
      "711:\ttotal: 51.5s\tremaining: 20.8s\n",
      "712:\ttotal: 51.5s\tremaining: 20.7s\n",
      "713:\ttotal: 51.6s\tremaining: 20.7s\n",
      "714:\ttotal: 51.7s\tremaining: 20.6s\n",
      "715:\ttotal: 51.7s\tremaining: 20.5s\n",
      "716:\ttotal: 51.8s\tremaining: 20.5s\n",
      "717:\ttotal: 51.9s\tremaining: 20.4s\n",
      "718:\ttotal: 52s\tremaining: 20.3s\n",
      "719:\ttotal: 52s\tremaining: 20.2s\n",
      "720:\ttotal: 52.1s\tremaining: 20.2s\n",
      "721:\ttotal: 52.2s\tremaining: 20.1s\n",
      "722:\ttotal: 52.3s\tremaining: 20s\n",
      "723:\ttotal: 52.3s\tremaining: 19.9s\n",
      "724:\ttotal: 52.4s\tremaining: 19.9s\n",
      "725:\ttotal: 52.5s\tremaining: 19.8s\n",
      "726:\ttotal: 52.6s\tremaining: 19.7s\n",
      "727:\ttotal: 52.7s\tremaining: 19.7s\n",
      "728:\ttotal: 52.7s\tremaining: 19.6s\n",
      "729:\ttotal: 52.8s\tremaining: 19.5s\n",
      "730:\ttotal: 52.9s\tremaining: 19.5s\n",
      "731:\ttotal: 53s\tremaining: 19.4s\n",
      "732:\ttotal: 53s\tremaining: 19.3s\n",
      "733:\ttotal: 53.1s\tremaining: 19.3s\n",
      "734:\ttotal: 53.2s\tremaining: 19.2s\n",
      "735:\ttotal: 53.3s\tremaining: 19.1s\n",
      "736:\ttotal: 53.4s\tremaining: 19s\n",
      "737:\ttotal: 53.4s\tremaining: 19s\n",
      "738:\ttotal: 53.5s\tremaining: 18.9s\n",
      "739:\ttotal: 53.6s\tremaining: 18.8s\n",
      "740:\ttotal: 53.6s\tremaining: 18.8s\n",
      "741:\ttotal: 53.7s\tremaining: 18.7s\n",
      "742:\ttotal: 53.8s\tremaining: 18.6s\n",
      "743:\ttotal: 53.9s\tremaining: 18.5s\n",
      "744:\ttotal: 54s\tremaining: 18.5s\n",
      "745:\ttotal: 54s\tremaining: 18.4s\n",
      "746:\ttotal: 54.1s\tremaining: 18.3s\n",
      "747:\ttotal: 54.2s\tremaining: 18.2s\n",
      "748:\ttotal: 54.2s\tremaining: 18.2s\n",
      "749:\ttotal: 54.3s\tremaining: 18.1s\n",
      "750:\ttotal: 54.4s\tremaining: 18s\n",
      "751:\ttotal: 54.5s\tremaining: 18s\n",
      "752:\ttotal: 54.6s\tremaining: 17.9s\n",
      "753:\ttotal: 54.7s\tremaining: 17.8s\n",
      "754:\ttotal: 54.7s\tremaining: 17.8s\n",
      "755:\ttotal: 54.8s\tremaining: 17.7s\n",
      "756:\ttotal: 54.9s\tremaining: 17.6s\n",
      "757:\ttotal: 55s\tremaining: 17.6s\n",
      "758:\ttotal: 55.1s\tremaining: 17.5s\n",
      "759:\ttotal: 55.2s\tremaining: 17.4s\n",
      "760:\ttotal: 55.3s\tremaining: 17.4s\n",
      "761:\ttotal: 55.4s\tremaining: 17.3s\n",
      "762:\ttotal: 55.4s\tremaining: 17.2s\n",
      "763:\ttotal: 55.5s\tremaining: 17.1s\n",
      "764:\ttotal: 55.6s\tremaining: 17.1s\n",
      "765:\ttotal: 55.7s\tremaining: 17s\n",
      "766:\ttotal: 55.7s\tremaining: 16.9s\n",
      "767:\ttotal: 55.8s\tremaining: 16.9s\n",
      "768:\ttotal: 55.9s\tremaining: 16.8s\n",
      "769:\ttotal: 56s\tremaining: 16.7s\n",
      "770:\ttotal: 56.1s\tremaining: 16.6s\n",
      "771:\ttotal: 56.1s\tremaining: 16.6s\n",
      "772:\ttotal: 56.2s\tremaining: 16.5s\n",
      "773:\ttotal: 56.3s\tremaining: 16.4s\n",
      "774:\ttotal: 56.3s\tremaining: 16.4s\n",
      "775:\ttotal: 56.4s\tremaining: 16.3s\n",
      "776:\ttotal: 56.5s\tremaining: 16.2s\n",
      "777:\ttotal: 56.6s\tremaining: 16.2s\n",
      "778:\ttotal: 56.7s\tremaining: 16.1s\n",
      "779:\ttotal: 56.8s\tremaining: 16s\n",
      "780:\ttotal: 56.9s\tremaining: 15.9s\n",
      "781:\ttotal: 56.9s\tremaining: 15.9s\n",
      "782:\ttotal: 57s\tremaining: 15.8s\n",
      "783:\ttotal: 57.1s\tremaining: 15.7s\n",
      "784:\ttotal: 57.1s\tremaining: 15.7s\n",
      "785:\ttotal: 57.2s\tremaining: 15.6s\n",
      "786:\ttotal: 57.3s\tremaining: 15.5s\n",
      "787:\ttotal: 57.3s\tremaining: 15.4s\n",
      "788:\ttotal: 57.4s\tremaining: 15.4s\n",
      "789:\ttotal: 57.5s\tremaining: 15.3s\n",
      "790:\ttotal: 57.6s\tremaining: 15.2s\n",
      "791:\ttotal: 57.7s\tremaining: 15.1s\n",
      "792:\ttotal: 57.7s\tremaining: 15.1s\n",
      "793:\ttotal: 57.8s\tremaining: 15s\n",
      "794:\ttotal: 57.9s\tremaining: 14.9s\n",
      "795:\ttotal: 57.9s\tremaining: 14.8s\n",
      "796:\ttotal: 58s\tremaining: 14.8s\n",
      "797:\ttotal: 58.1s\tremaining: 14.7s\n",
      "798:\ttotal: 58.2s\tremaining: 14.6s\n",
      "799:\ttotal: 58.2s\tremaining: 14.6s\n",
      "800:\ttotal: 58.3s\tremaining: 14.5s\n",
      "801:\ttotal: 58.4s\tremaining: 14.4s\n",
      "802:\ttotal: 58.4s\tremaining: 14.3s\n",
      "803:\ttotal: 58.5s\tremaining: 14.3s\n",
      "804:\ttotal: 58.5s\tremaining: 14.2s\n",
      "805:\ttotal: 58.6s\tremaining: 14.1s\n",
      "806:\ttotal: 58.7s\tremaining: 14s\n",
      "807:\ttotal: 58.8s\tremaining: 14s\n",
      "808:\ttotal: 58.8s\tremaining: 13.9s\n",
      "809:\ttotal: 58.9s\tremaining: 13.8s\n",
      "810:\ttotal: 59s\tremaining: 13.7s\n",
      "811:\ttotal: 59s\tremaining: 13.7s\n",
      "812:\ttotal: 59.1s\tremaining: 13.6s\n",
      "813:\ttotal: 59.2s\tremaining: 13.5s\n",
      "814:\ttotal: 59.3s\tremaining: 13.4s\n",
      "815:\ttotal: 59.3s\tremaining: 13.4s\n",
      "816:\ttotal: 59.4s\tremaining: 13.3s\n",
      "817:\ttotal: 59.5s\tremaining: 13.2s\n",
      "818:\ttotal: 59.5s\tremaining: 13.2s\n",
      "819:\ttotal: 59.6s\tremaining: 13.1s\n",
      "820:\ttotal: 59.7s\tremaining: 13s\n",
      "821:\ttotal: 59.7s\tremaining: 12.9s\n",
      "822:\ttotal: 59.8s\tremaining: 12.9s\n",
      "823:\ttotal: 59.8s\tremaining: 12.8s\n",
      "824:\ttotal: 59.9s\tremaining: 12.7s\n",
      "825:\ttotal: 60s\tremaining: 12.6s\n",
      "826:\ttotal: 1m\tremaining: 12.6s\n",
      "827:\ttotal: 1m\tremaining: 12.5s\n",
      "828:\ttotal: 1m\tremaining: 12.4s\n",
      "829:\ttotal: 1m\tremaining: 12.3s\n",
      "830:\ttotal: 1m\tremaining: 12.3s\n",
      "831:\ttotal: 1m\tremaining: 12.2s\n",
      "832:\ttotal: 1m\tremaining: 12.1s\n",
      "833:\ttotal: 1m\tremaining: 12s\n",
      "834:\ttotal: 1m\tremaining: 12s\n",
      "835:\ttotal: 1m\tremaining: 11.9s\n",
      "836:\ttotal: 1m\tremaining: 11.8s\n",
      "837:\ttotal: 1m\tremaining: 11.7s\n",
      "838:\ttotal: 1m\tremaining: 11.7s\n",
      "839:\ttotal: 1m\tremaining: 11.6s\n",
      "840:\ttotal: 1m\tremaining: 11.5s\n",
      "841:\ttotal: 1m\tremaining: 11.4s\n",
      "842:\ttotal: 1m 1s\tremaining: 11.4s\n",
      "843:\ttotal: 1m 1s\tremaining: 11.3s\n",
      "844:\ttotal: 1m 1s\tremaining: 11.2s\n",
      "845:\ttotal: 1m 1s\tremaining: 11.2s\n",
      "846:\ttotal: 1m 1s\tremaining: 11.1s\n",
      "847:\ttotal: 1m 1s\tremaining: 11s\n",
      "848:\ttotal: 1m 1s\tremaining: 10.9s\n",
      "849:\ttotal: 1m 1s\tremaining: 10.9s\n",
      "850:\ttotal: 1m 1s\tremaining: 10.8s\n",
      "851:\ttotal: 1m 1s\tremaining: 10.7s\n",
      "852:\ttotal: 1m 1s\tremaining: 10.6s\n",
      "853:\ttotal: 1m 1s\tremaining: 10.6s\n",
      "854:\ttotal: 1m 1s\tremaining: 10.5s\n",
      "855:\ttotal: 1m 1s\tremaining: 10.4s\n",
      "856:\ttotal: 1m 2s\tremaining: 10.3s\n",
      "857:\ttotal: 1m 2s\tremaining: 10.3s\n",
      "858:\ttotal: 1m 2s\tremaining: 10.2s\n",
      "859:\ttotal: 1m 2s\tremaining: 10.1s\n",
      "860:\ttotal: 1m 2s\tremaining: 10.1s\n",
      "861:\ttotal: 1m 2s\tremaining: 9.98s\n",
      "862:\ttotal: 1m 2s\tremaining: 9.91s\n",
      "863:\ttotal: 1m 2s\tremaining: 9.84s\n",
      "864:\ttotal: 1m 2s\tremaining: 9.77s\n",
      "865:\ttotal: 1m 2s\tremaining: 9.69s\n",
      "866:\ttotal: 1m 2s\tremaining: 9.62s\n",
      "867:\ttotal: 1m 2s\tremaining: 9.54s\n",
      "868:\ttotal: 1m 2s\tremaining: 9.47s\n",
      "869:\ttotal: 1m 2s\tremaining: 9.4s\n",
      "870:\ttotal: 1m 2s\tremaining: 9.33s\n",
      "871:\ttotal: 1m 3s\tremaining: 9.26s\n",
      "872:\ttotal: 1m 3s\tremaining: 9.19s\n",
      "873:\ttotal: 1m 3s\tremaining: 9.11s\n",
      "874:\ttotal: 1m 3s\tremaining: 9.04s\n",
      "875:\ttotal: 1m 3s\tremaining: 8.97s\n",
      "876:\ttotal: 1m 3s\tremaining: 8.89s\n",
      "877:\ttotal: 1m 3s\tremaining: 8.82s\n",
      "878:\ttotal: 1m 3s\tremaining: 8.75s\n",
      "879:\ttotal: 1m 3s\tremaining: 8.68s\n",
      "880:\ttotal: 1m 3s\tremaining: 8.6s\n",
      "881:\ttotal: 1m 3s\tremaining: 8.53s\n",
      "882:\ttotal: 1m 3s\tremaining: 8.46s\n",
      "883:\ttotal: 1m 3s\tremaining: 8.38s\n",
      "884:\ttotal: 1m 3s\tremaining: 8.31s\n",
      "885:\ttotal: 1m 4s\tremaining: 8.24s\n",
      "886:\ttotal: 1m 4s\tremaining: 8.17s\n",
      "887:\ttotal: 1m 4s\tremaining: 8.09s\n",
      "888:\ttotal: 1m 4s\tremaining: 8.02s\n",
      "889:\ttotal: 1m 4s\tremaining: 7.95s\n",
      "890:\ttotal: 1m 4s\tremaining: 7.87s\n",
      "891:\ttotal: 1m 4s\tremaining: 7.8s\n",
      "892:\ttotal: 1m 4s\tremaining: 7.73s\n",
      "893:\ttotal: 1m 4s\tremaining: 7.65s\n",
      "894:\ttotal: 1m 4s\tremaining: 7.58s\n",
      "895:\ttotal: 1m 4s\tremaining: 7.51s\n",
      "896:\ttotal: 1m 4s\tremaining: 7.44s\n",
      "897:\ttotal: 1m 4s\tremaining: 7.37s\n",
      "898:\ttotal: 1m 4s\tremaining: 7.29s\n",
      "899:\ttotal: 1m 4s\tremaining: 7.22s\n",
      "900:\ttotal: 1m 5s\tremaining: 7.15s\n",
      "901:\ttotal: 1m 5s\tremaining: 7.07s\n",
      "902:\ttotal: 1m 5s\tremaining: 7s\n",
      "903:\ttotal: 1m 5s\tremaining: 6.93s\n",
      "904:\ttotal: 1m 5s\tremaining: 6.86s\n",
      "905:\ttotal: 1m 5s\tremaining: 6.79s\n",
      "906:\ttotal: 1m 5s\tremaining: 6.72s\n",
      "907:\ttotal: 1m 5s\tremaining: 6.65s\n",
      "908:\ttotal: 1m 5s\tremaining: 6.58s\n",
      "909:\ttotal: 1m 5s\tremaining: 6.5s\n",
      "910:\ttotal: 1m 5s\tremaining: 6.43s\n",
      "911:\ttotal: 1m 5s\tremaining: 6.36s\n",
      "912:\ttotal: 1m 6s\tremaining: 6.29s\n",
      "913:\ttotal: 1m 6s\tremaining: 6.22s\n",
      "914:\ttotal: 1m 6s\tremaining: 6.14s\n",
      "915:\ttotal: 1m 6s\tremaining: 6.07s\n",
      "916:\ttotal: 1m 6s\tremaining: 6s\n",
      "917:\ttotal: 1m 6s\tremaining: 5.93s\n",
      "918:\ttotal: 1m 6s\tremaining: 5.86s\n",
      "919:\ttotal: 1m 6s\tremaining: 5.78s\n",
      "920:\ttotal: 1m 6s\tremaining: 5.71s\n",
      "921:\ttotal: 1m 6s\tremaining: 5.64s\n",
      "922:\ttotal: 1m 6s\tremaining: 5.57s\n",
      "923:\ttotal: 1m 6s\tremaining: 5.5s\n",
      "924:\ttotal: 1m 6s\tremaining: 5.42s\n",
      "925:\ttotal: 1m 6s\tremaining: 5.35s\n",
      "926:\ttotal: 1m 7s\tremaining: 5.28s\n",
      "927:\ttotal: 1m 7s\tremaining: 5.21s\n",
      "928:\ttotal: 1m 7s\tremaining: 5.14s\n",
      "929:\ttotal: 1m 7s\tremaining: 5.07s\n",
      "930:\ttotal: 1m 7s\tremaining: 4.99s\n",
      "931:\ttotal: 1m 7s\tremaining: 4.92s\n",
      "932:\ttotal: 1m 7s\tremaining: 4.85s\n",
      "933:\ttotal: 1m 7s\tremaining: 4.78s\n",
      "934:\ttotal: 1m 7s\tremaining: 4.7s\n",
      "935:\ttotal: 1m 7s\tremaining: 4.63s\n",
      "936:\ttotal: 1m 7s\tremaining: 4.56s\n",
      "937:\ttotal: 1m 7s\tremaining: 4.49s\n",
      "938:\ttotal: 1m 7s\tremaining: 4.42s\n",
      "939:\ttotal: 1m 8s\tremaining: 4.34s\n",
      "940:\ttotal: 1m 8s\tremaining: 4.27s\n",
      "941:\ttotal: 1m 8s\tremaining: 4.2s\n",
      "942:\ttotal: 1m 8s\tremaining: 4.13s\n",
      "943:\ttotal: 1m 8s\tremaining: 4.05s\n",
      "944:\ttotal: 1m 8s\tremaining: 3.98s\n",
      "945:\ttotal: 1m 8s\tremaining: 3.91s\n",
      "946:\ttotal: 1m 8s\tremaining: 3.84s\n",
      "947:\ttotal: 1m 8s\tremaining: 3.76s\n",
      "948:\ttotal: 1m 8s\tremaining: 3.69s\n",
      "949:\ttotal: 1m 8s\tremaining: 3.62s\n",
      "950:\ttotal: 1m 8s\tremaining: 3.55s\n",
      "951:\ttotal: 1m 8s\tremaining: 3.48s\n",
      "952:\ttotal: 1m 8s\tremaining: 3.4s\n",
      "953:\ttotal: 1m 9s\tremaining: 3.33s\n",
      "954:\ttotal: 1m 9s\tremaining: 3.26s\n",
      "955:\ttotal: 1m 9s\tremaining: 3.19s\n",
      "956:\ttotal: 1m 9s\tremaining: 3.11s\n",
      "957:\ttotal: 1m 9s\tremaining: 3.04s\n",
      "958:\ttotal: 1m 9s\tremaining: 2.97s\n",
      "959:\ttotal: 1m 9s\tremaining: 2.9s\n",
      "960:\ttotal: 1m 9s\tremaining: 2.82s\n",
      "961:\ttotal: 1m 9s\tremaining: 2.75s\n",
      "962:\ttotal: 1m 9s\tremaining: 2.68s\n",
      "963:\ttotal: 1m 9s\tremaining: 2.6s\n",
      "964:\ttotal: 1m 9s\tremaining: 2.53s\n",
      "965:\ttotal: 1m 9s\tremaining: 2.46s\n",
      "966:\ttotal: 1m 9s\tremaining: 2.39s\n",
      "967:\ttotal: 1m 10s\tremaining: 2.32s\n",
      "968:\ttotal: 1m 10s\tremaining: 2.24s\n",
      "969:\ttotal: 1m 10s\tremaining: 2.17s\n",
      "970:\ttotal: 1m 10s\tremaining: 2.1s\n",
      "971:\ttotal: 1m 10s\tremaining: 2.02s\n",
      "972:\ttotal: 1m 10s\tremaining: 1.95s\n",
      "973:\ttotal: 1m 10s\tremaining: 1.88s\n",
      "974:\ttotal: 1m 10s\tremaining: 1.81s\n",
      "975:\ttotal: 1m 10s\tremaining: 1.74s\n",
      "976:\ttotal: 1m 10s\tremaining: 1.66s\n",
      "977:\ttotal: 1m 10s\tremaining: 1.59s\n",
      "978:\ttotal: 1m 10s\tremaining: 1.52s\n",
      "979:\ttotal: 1m 10s\tremaining: 1.45s\n",
      "980:\ttotal: 1m 10s\tremaining: 1.37s\n",
      "981:\ttotal: 1m 10s\tremaining: 1.3s\n",
      "982:\ttotal: 1m 11s\tremaining: 1.23s\n",
      "983:\ttotal: 1m 11s\tremaining: 1.16s\n",
      "984:\ttotal: 1m 11s\tremaining: 1.08s\n",
      "985:\ttotal: 1m 11s\tremaining: 1.01s\n",
      "986:\ttotal: 1m 11s\tremaining: 939ms\n",
      "987:\ttotal: 1m 11s\tremaining: 866ms\n",
      "988:\ttotal: 1m 11s\tremaining: 794ms\n",
      "989:\ttotal: 1m 11s\tremaining: 722ms\n",
      "990:\ttotal: 1m 11s\tremaining: 649ms\n",
      "991:\ttotal: 1m 11s\tremaining: 577ms\n",
      "992:\ttotal: 1m 11s\tremaining: 505ms\n",
      "993:\ttotal: 1m 11s\tremaining: 433ms\n",
      "994:\ttotal: 1m 11s\tremaining: 361ms\n",
      "995:\ttotal: 1m 11s\tremaining: 288ms\n",
      "996:\ttotal: 1m 11s\tremaining: 216ms\n",
      "997:\ttotal: 1m 11s\tremaining: 144ms\n",
      "998:\ttotal: 1m 11s\tremaining: 72.1ms\n",
      "999:\ttotal: 1m 12s\tremaining: 0us\n"
     ]
    },
    {
     "data": {
      "text/plain": [
       "<catboost.core.CatBoostClassifier at 0x232aa27f608>"
      ]
     },
     "execution_count": 152,
     "metadata": {},
     "output_type": "execute_result"
    }
   ],
   "source": [
    "model.fit(X_train, y_train)"
   ]
  },
  {
   "cell_type": "code",
   "execution_count": 153,
   "metadata": {},
   "outputs": [],
   "source": [
    "y_train_pred = model.predict_proba(X_train)"
   ]
  },
  {
   "cell_type": "code",
   "execution_count": 154,
   "metadata": {},
   "outputs": [],
   "source": [
    "y_pred = model.predict_proba(X_test)"
   ]
  },
  {
   "cell_type": "code",
   "execution_count": 155,
   "metadata": {},
   "outputs": [
    {
     "data": {
      "text/plain": [
       "array([[0.9561341 , 0.0438659 ],\n",
       "       [0.74433444, 0.25566556],\n",
       "       [0.91615845, 0.08384155],\n",
       "       ...,\n",
       "       [0.49734443, 0.50265557],\n",
       "       [0.52092023, 0.47907977],\n",
       "       [0.9330488 , 0.0669512 ]])"
      ]
     },
     "execution_count": 155,
     "metadata": {},
     "output_type": "execute_result"
    }
   ],
   "source": [
    "y_pred"
   ]
  },
  {
   "cell_type": "code",
   "execution_count": 156,
   "metadata": {},
   "outputs": [],
   "source": [
    "probs = model.predict_proba(X_train)\n",
    "preds = probs[:,1]\n",
    "fpr, tpr, threshold = metrics.roc_curve(y_train, preds)\n",
    "roc_auc = metrics.auc(fpr, tpr)"
   ]
  },
  {
   "cell_type": "code",
   "execution_count": 157,
   "metadata": {},
   "outputs": [
    {
     "data": {
      "image/png": "[encoded data removed]",
      "text/plain": [
       "<Figure size 432x288 with 1 Axes>"
      ]
     },
     "metadata": {
      "needs_background": "light"
     },
     "output_type": "display_data"
    }
   ],
   "source": [
    "import matplotlib.pyplot as plt\n",
    "plt.title('Receiver Operating Characteristic')\n",
    "plt.plot(fpr, tpr, 'b', label = 'AUC = %0.2f' % roc_auc)\n",
    "plt.legend(loc = 'lower right')\n",
    "plt.plot([0, 1], [0, 1],'r--')\n",
    "plt.xlim([0, 1])\n",
    "plt.ylim([0, 1])\n",
    "plt.ylabel('True Positive Rate')\n",
    "plt.xlabel('False Positive Rate')\n",
    "plt.show()"
   ]
  },
  {
   "cell_type": "code",
   "execution_count": 158,
   "metadata": {},
   "outputs": [],
   "source": [
    "pred = model.predict_proba (X_test) [:,1]"
   ]
  },
  {
   "cell_type": "code",
   "execution_count": 159,
   "metadata": {},
   "outputs": [
    {
     "data": {
      "text/html": [
       "<div>\n",
       "<style scoped>\n",
       "    .dataframe tbody tr th:only-of-type {\n",
       "        vertical-align: middle;\n",
       "    }\n",
       "\n",
       "    .dataframe tbody tr th {\n",
       "        vertical-align: top;\n",
       "    }\n",
       "\n",
       "    .dataframe thead th {\n",
       "        text-align: right;\n",
       "    }\n",
       "</style>\n",
       "<table border=\"1\" class=\"dataframe\">\n",
       "  <thead>\n",
       "    <tr style=\"text-align: right;\">\n",
       "      <th></th>\n",
       "      <th>0</th>\n",
       "    </tr>\n",
       "  </thead>\n",
       "  <tbody>\n",
       "    <tr>\n",
       "      <th>0</th>\n",
       "      <td>0.043866</td>\n",
       "    </tr>\n",
       "    <tr>\n",
       "      <th>1</th>\n",
       "      <td>0.255666</td>\n",
       "    </tr>\n",
       "    <tr>\n",
       "      <th>2</th>\n",
       "      <td>0.083842</td>\n",
       "    </tr>\n",
       "    <tr>\n",
       "      <th>3</th>\n",
       "      <td>0.035865</td>\n",
       "    </tr>\n",
       "    <tr>\n",
       "      <th>4</th>\n",
       "      <td>0.030387</td>\n",
       "    </tr>\n",
       "  </tbody>\n",
       "</table>\n",
       "</div>"
      ],
      "text/plain": [
       "          0\n",
       "0  0.043866\n",
       "1  0.255666\n",
       "2  0.083842\n",
       "3  0.035865\n",
       "4  0.030387"
      ]
     },
     "execution_count": 159,
     "metadata": {},
     "output_type": "execute_result"
    }
   ],
   "source": [
    "pred = pd.DataFrame(pred)\n",
    "pred.head()"
   ]
  },
  {
   "cell_type": "code",
   "execution_count": null,
   "metadata": {},
   "outputs": [],
   "source": []
  },
  {
   "cell_type": "code",
   "execution_count": null,
   "metadata": {},
   "outputs": [],
   "source": []
  },
  {
   "cell_type": "markdown",
   "metadata": {},
   "source": [
    "### CatBoost Classifier without encoding"
   ]
  },
  {
   "cell_type": "code",
   "execution_count": 160,
   "metadata": {},
   "outputs": [],
   "source": [
    "data = pd.read_csv(r\"C:\\Users\\Admin\\Downloads\\train_set.csv\")"
   ]
  },
  {
   "cell_type": "code",
   "execution_count": 161,
   "metadata": {},
   "outputs": [],
   "source": [
    "dataset = data"
   ]
  },
  {
   "cell_type": "code",
   "execution_count": 162,
   "metadata": {},
   "outputs": [],
   "source": [
    "dataset.drop([\"ID\"], axis=1, inplace = True)"
   ]
  },
  {
   "cell_type": "code",
   "execution_count": 163,
   "metadata": {},
   "outputs": [
    {
     "data": {
      "text/html": [
       "<div>\n",
       "<style scoped>\n",
       "    .dataframe tbody tr th:only-of-type {\n",
       "        vertical-align: middle;\n",
       "    }\n",
       "\n",
       "    .dataframe tbody tr th {\n",
       "        vertical-align: top;\n",
       "    }\n",
       "\n",
       "    .dataframe thead th {\n",
       "        text-align: right;\n",
       "    }\n",
       "</style>\n",
       "<table border=\"1\" class=\"dataframe\">\n",
       "  <thead>\n",
       "    <tr style=\"text-align: right;\">\n",
       "      <th></th>\n",
       "      <th>Gender</th>\n",
       "      <th>Age</th>\n",
       "      <th>Region_Code</th>\n",
       "      <th>Occupation</th>\n",
       "      <th>Channel_Code</th>\n",
       "      <th>Vintage</th>\n",
       "      <th>Credit_Product</th>\n",
       "      <th>Avg_Account_Balance</th>\n",
       "      <th>Is_Active</th>\n",
       "      <th>Is_Lead</th>\n",
       "    </tr>\n",
       "  </thead>\n",
       "  <tbody>\n",
       "    <tr>\n",
       "      <th>0</th>\n",
       "      <td>Female</td>\n",
       "      <td>73</td>\n",
       "      <td>RG268</td>\n",
       "      <td>Other</td>\n",
       "      <td>X3</td>\n",
       "      <td>43</td>\n",
       "      <td>No</td>\n",
       "      <td>1045696</td>\n",
       "      <td>No</td>\n",
       "      <td>0</td>\n",
       "    </tr>\n",
       "    <tr>\n",
       "      <th>1</th>\n",
       "      <td>Female</td>\n",
       "      <td>30</td>\n",
       "      <td>RG277</td>\n",
       "      <td>Salaried</td>\n",
       "      <td>X1</td>\n",
       "      <td>32</td>\n",
       "      <td>No</td>\n",
       "      <td>581988</td>\n",
       "      <td>No</td>\n",
       "      <td>0</td>\n",
       "    </tr>\n",
       "    <tr>\n",
       "      <th>2</th>\n",
       "      <td>Female</td>\n",
       "      <td>56</td>\n",
       "      <td>RG268</td>\n",
       "      <td>Self_Employed</td>\n",
       "      <td>X3</td>\n",
       "      <td>26</td>\n",
       "      <td>No</td>\n",
       "      <td>1484315</td>\n",
       "      <td>Yes</td>\n",
       "      <td>0</td>\n",
       "    </tr>\n",
       "    <tr>\n",
       "      <th>3</th>\n",
       "      <td>Male</td>\n",
       "      <td>34</td>\n",
       "      <td>RG270</td>\n",
       "      <td>Salaried</td>\n",
       "      <td>X1</td>\n",
       "      <td>19</td>\n",
       "      <td>No</td>\n",
       "      <td>470454</td>\n",
       "      <td>No</td>\n",
       "      <td>0</td>\n",
       "    </tr>\n",
       "    <tr>\n",
       "      <th>4</th>\n",
       "      <td>Female</td>\n",
       "      <td>30</td>\n",
       "      <td>RG282</td>\n",
       "      <td>Salaried</td>\n",
       "      <td>X1</td>\n",
       "      <td>33</td>\n",
       "      <td>No</td>\n",
       "      <td>886787</td>\n",
       "      <td>No</td>\n",
       "      <td>0</td>\n",
       "    </tr>\n",
       "  </tbody>\n",
       "</table>\n",
       "</div>"
      ],
      "text/plain": [
       "   Gender  Age Region_Code     Occupation Channel_Code  Vintage  \\\n",
       "0  Female   73       RG268          Other           X3       43   \n",
       "1  Female   30       RG277       Salaried           X1       32   \n",
       "2  Female   56       RG268  Self_Employed           X3       26   \n",
       "3    Male   34       RG270       Salaried           X1       19   \n",
       "4  Female   30       RG282       Salaried           X1       33   \n",
       "\n",
       "  Credit_Product  Avg_Account_Balance Is_Active  Is_Lead  \n",
       "0             No              1045696        No        0  \n",
       "1             No               581988        No        0  \n",
       "2             No              1484315       Yes        0  \n",
       "3             No               470454        No        0  \n",
       "4             No               886787        No        0  "
      ]
     },
     "execution_count": 163,
     "metadata": {},
     "output_type": "execute_result"
    }
   ],
   "source": [
    "dataset.head()"
   ]
  },
  {
   "cell_type": "markdown",
   "metadata": {},
   "source": [
    "### Handling outliers"
   ]
  },
  {
   "cell_type": "code",
   "execution_count": 164,
   "metadata": {
    "scrolled": false
   },
   "outputs": [
    {
     "name": "stdout",
     "output_type": "stream",
     "text": [
      "-1682758.0 \n",
      " 3653734.0\n"
     ]
    }
   ],
   "source": [
    "IQR_data = dataset[\"Avg_Account_Balance\"].quantile(0.75) - dataset[\"Avg_Account_Balance\"].quantile(0.25)\n",
    "lower_bridge = dataset[\"Avg_Account_Balance\"].quantile(0.25) - (IQR_data * 3)\n",
    "upper_bridge = dataset[\"Avg_Account_Balance\"].quantile(0.75) + (IQR_data * 3)\n",
    "print(lower_bridge,'\\n',upper_bridge)"
   ]
  },
  {
   "cell_type": "code",
   "execution_count": 165,
   "metadata": {},
   "outputs": [],
   "source": [
    "dataset.loc[dataset[\"Avg_Account_Balance\"]> upper_bridge, \"Avg_Account_Balance\"] = upper_bridge"
   ]
  },
  {
   "cell_type": "code",
   "execution_count": 166,
   "metadata": {
    "scrolled": true
   },
   "outputs": [
    {
     "data": {
      "text/plain": [
       "Age                        0\n",
       "Avg_Account_Balance        0\n",
       "Channel_Code               0\n",
       "Credit_Product             0\n",
       "Gender                     0\n",
       "Is_Active                  0\n",
       "Is_Lead                58288\n",
       "Occupation                 0\n",
       "Region_Code                0\n",
       "Vintage                    0\n",
       "dtype: int64"
      ]
     },
     "execution_count": 166,
     "metadata": {},
     "output_type": "execute_result"
    }
   ],
   "source": [
    "((dataset < (Q1 - 3 * IQR)) | (dataset > (Q3 + 3 * IQR))).sum()"
   ]
  },
  {
   "cell_type": "markdown",
   "metadata": {},
   "source": [
    "### Handling missing values"
   ]
  },
  {
   "cell_type": "code",
   "execution_count": 167,
   "metadata": {},
   "outputs": [
    {
     "data": {
      "text/plain": [
       "Gender                     0\n",
       "Age                        0\n",
       "Region_Code                0\n",
       "Occupation                 0\n",
       "Channel_Code               0\n",
       "Vintage                    0\n",
       "Credit_Product         29325\n",
       "Avg_Account_Balance        0\n",
       "Is_Active                  0\n",
       "Is_Lead                    0\n",
       "dtype: int64"
      ]
     },
     "execution_count": 167,
     "metadata": {},
     "output_type": "execute_result"
    }
   ],
   "source": [
    "dataset.isna().sum()"
   ]
  },
  {
   "cell_type": "markdown",
   "metadata": {},
   "source": [
    "#### Since the most frequent category is \"No\", the missing values are filled with the same"
   ]
  },
  {
   "cell_type": "code",
   "execution_count": 168,
   "metadata": {},
   "outputs": [],
   "source": [
    "dataset[\"Credit_Product\"].fillna(\"No\", inplace= True)"
   ]
  },
  {
   "cell_type": "code",
   "execution_count": 169,
   "metadata": {
    "scrolled": true
   },
   "outputs": [
    {
     "data": {
      "text/plain": [
       "Gender                 0\n",
       "Age                    0\n",
       "Region_Code            0\n",
       "Occupation             0\n",
       "Channel_Code           0\n",
       "Vintage                0\n",
       "Credit_Product         0\n",
       "Avg_Account_Balance    0\n",
       "Is_Active              0\n",
       "Is_Lead                0\n",
       "dtype: int64"
      ]
     },
     "execution_count": 169,
     "metadata": {},
     "output_type": "execute_result"
    }
   ],
   "source": [
    "dataset.isna().sum()"
   ]
  },
  {
   "cell_type": "code",
   "execution_count": null,
   "metadata": {},
   "outputs": [],
   "source": []
  },
  {
   "cell_type": "code",
   "execution_count": 170,
   "metadata": {},
   "outputs": [],
   "source": [
    "# Similar pre processing for test data"
   ]
  },
  {
   "cell_type": "code",
   "execution_count": 171,
   "metadata": {},
   "outputs": [],
   "source": [
    "data_test = pd.read_csv(r\"C:\\Users\\Admin\\Downloads\\test_set.csv\")"
   ]
  },
  {
   "cell_type": "code",
   "execution_count": 172,
   "metadata": {},
   "outputs": [],
   "source": [
    "data_test.drop([\"ID\"], axis=1, inplace = True)"
   ]
  },
  {
   "cell_type": "code",
   "execution_count": 173,
   "metadata": {
    "scrolled": true
   },
   "outputs": [
    {
     "data": {
      "text/html": [
       "<div>\n",
       "<style scoped>\n",
       "    .dataframe tbody tr th:only-of-type {\n",
       "        vertical-align: middle;\n",
       "    }\n",
       "\n",
       "    .dataframe tbody tr th {\n",
       "        vertical-align: top;\n",
       "    }\n",
       "\n",
       "    .dataframe thead th {\n",
       "        text-align: right;\n",
       "    }\n",
       "</style>\n",
       "<table border=\"1\" class=\"dataframe\">\n",
       "  <thead>\n",
       "    <tr style=\"text-align: right;\">\n",
       "      <th></th>\n",
       "      <th>Gender</th>\n",
       "      <th>Age</th>\n",
       "      <th>Region_Code</th>\n",
       "      <th>Occupation</th>\n",
       "      <th>Channel_Code</th>\n",
       "      <th>Vintage</th>\n",
       "      <th>Credit_Product</th>\n",
       "      <th>Avg_Account_Balance</th>\n",
       "      <th>Is_Active</th>\n",
       "    </tr>\n",
       "  </thead>\n",
       "  <tbody>\n",
       "    <tr>\n",
       "      <th>0</th>\n",
       "      <td>Male</td>\n",
       "      <td>29</td>\n",
       "      <td>RG254</td>\n",
       "      <td>Other</td>\n",
       "      <td>X1</td>\n",
       "      <td>25</td>\n",
       "      <td>Yes</td>\n",
       "      <td>742366</td>\n",
       "      <td>No</td>\n",
       "    </tr>\n",
       "    <tr>\n",
       "      <th>1</th>\n",
       "      <td>Male</td>\n",
       "      <td>43</td>\n",
       "      <td>RG268</td>\n",
       "      <td>Other</td>\n",
       "      <td>X2</td>\n",
       "      <td>49</td>\n",
       "      <td>NaN</td>\n",
       "      <td>925537</td>\n",
       "      <td>No</td>\n",
       "    </tr>\n",
       "    <tr>\n",
       "      <th>2</th>\n",
       "      <td>Male</td>\n",
       "      <td>31</td>\n",
       "      <td>RG270</td>\n",
       "      <td>Salaried</td>\n",
       "      <td>X1</td>\n",
       "      <td>14</td>\n",
       "      <td>No</td>\n",
       "      <td>215949</td>\n",
       "      <td>No</td>\n",
       "    </tr>\n",
       "    <tr>\n",
       "      <th>3</th>\n",
       "      <td>Male</td>\n",
       "      <td>29</td>\n",
       "      <td>RG272</td>\n",
       "      <td>Other</td>\n",
       "      <td>X1</td>\n",
       "      <td>33</td>\n",
       "      <td>No</td>\n",
       "      <td>868070</td>\n",
       "      <td>No</td>\n",
       "    </tr>\n",
       "    <tr>\n",
       "      <th>4</th>\n",
       "      <td>Female</td>\n",
       "      <td>29</td>\n",
       "      <td>RG270</td>\n",
       "      <td>Other</td>\n",
       "      <td>X1</td>\n",
       "      <td>19</td>\n",
       "      <td>No</td>\n",
       "      <td>657087</td>\n",
       "      <td>No</td>\n",
       "    </tr>\n",
       "  </tbody>\n",
       "</table>\n",
       "</div>"
      ],
      "text/plain": [
       "   Gender  Age Region_Code Occupation Channel_Code  Vintage Credit_Product  \\\n",
       "0    Male   29       RG254      Other           X1       25            Yes   \n",
       "1    Male   43       RG268      Other           X2       49            NaN   \n",
       "2    Male   31       RG270   Salaried           X1       14             No   \n",
       "3    Male   29       RG272      Other           X1       33             No   \n",
       "4  Female   29       RG270      Other           X1       19             No   \n",
       "\n",
       "   Avg_Account_Balance Is_Active  \n",
       "0               742366        No  \n",
       "1               925537        No  \n",
       "2               215949        No  \n",
       "3               868070        No  \n",
       "4               657087        No  "
      ]
     },
     "execution_count": 173,
     "metadata": {},
     "output_type": "execute_result"
    }
   ],
   "source": [
    "data_test.head()"
   ]
  },
  {
   "cell_type": "markdown",
   "metadata": {},
   "source": [
    "### Handling outliers"
   ]
  },
  {
   "cell_type": "code",
   "execution_count": 174,
   "metadata": {
    "scrolled": false
   },
   "outputs": [
    {
     "name": "stdout",
     "output_type": "stream",
     "text": [
      "-1698865.75 \n",
      " 3674446.25\n"
     ]
    }
   ],
   "source": [
    "IQR_data = data_test[\"Avg_Account_Balance\"].quantile(0.75) - data_test[\"Avg_Account_Balance\"].quantile(0.25)\n",
    "lower_bridge = data_test[\"Avg_Account_Balance\"].quantile(0.25) - (IQR_data * 3)\n",
    "upper_bridge = data_test[\"Avg_Account_Balance\"].quantile(0.75) + (IQR_data * 3)\n",
    "print(lower_bridge,'\\n',upper_bridge)"
   ]
  },
  {
   "cell_type": "code",
   "execution_count": 175,
   "metadata": {},
   "outputs": [],
   "source": [
    "data_test.loc[data_test[\"Avg_Account_Balance\"]> upper_bridge, \"Avg_Account_Balance\"] = upper_bridge"
   ]
  },
  {
   "cell_type": "code",
   "execution_count": 176,
   "metadata": {
    "scrolled": true
   },
   "outputs": [
    {
     "data": {
      "text/plain": [
       "Age                       0\n",
       "Avg_Account_Balance    2256\n",
       "Channel_Code              0\n",
       "Credit_Product            0\n",
       "Gender                    0\n",
       "Is_Active                 0\n",
       "Is_Lead                   0\n",
       "Occupation                0\n",
       "Region_Code               0\n",
       "Vintage                   0\n",
       "dtype: int64"
      ]
     },
     "execution_count": 176,
     "metadata": {},
     "output_type": "execute_result"
    }
   ],
   "source": [
    "((data_test < (Q1 - 3 * IQR)) | (data_test > (Q3 + 3 * IQR))).sum()"
   ]
  },
  {
   "cell_type": "markdown",
   "metadata": {},
   "source": [
    "### Handling missing values"
   ]
  },
  {
   "cell_type": "code",
   "execution_count": 177,
   "metadata": {},
   "outputs": [
    {
     "data": {
      "text/plain": [
       "Gender                     0\n",
       "Age                        0\n",
       "Region_Code                0\n",
       "Occupation                 0\n",
       "Channel_Code               0\n",
       "Vintage                    0\n",
       "Credit_Product         12522\n",
       "Avg_Account_Balance        0\n",
       "Is_Active                  0\n",
       "dtype: int64"
      ]
     },
     "execution_count": 177,
     "metadata": {},
     "output_type": "execute_result"
    }
   ],
   "source": [
    "data_test.isna().sum()"
   ]
  },
  {
   "cell_type": "markdown",
   "metadata": {},
   "source": [
    "#### Since the most frequent category is \"No\", the missing values are filled with the same"
   ]
  },
  {
   "cell_type": "code",
   "execution_count": 178,
   "metadata": {},
   "outputs": [],
   "source": [
    "data_test[\"Credit_Product\"].fillna(\"No\", inplace= True)"
   ]
  },
  {
   "cell_type": "code",
   "execution_count": 179,
   "metadata": {
    "scrolled": false
   },
   "outputs": [
    {
     "data": {
      "text/plain": [
       "Gender                 0\n",
       "Age                    0\n",
       "Region_Code            0\n",
       "Occupation             0\n",
       "Channel_Code           0\n",
       "Vintage                0\n",
       "Credit_Product         0\n",
       "Avg_Account_Balance    0\n",
       "Is_Active              0\n",
       "dtype: int64"
      ]
     },
     "execution_count": 179,
     "metadata": {},
     "output_type": "execute_result"
    }
   ],
   "source": [
    "data_test.isna().sum()"
   ]
  },
  {
   "cell_type": "code",
   "execution_count": 180,
   "metadata": {},
   "outputs": [
    {
     "data": {
      "text/html": [
       "<div>\n",
       "<style scoped>\n",
       "    .dataframe tbody tr th:only-of-type {\n",
       "        vertical-align: middle;\n",
       "    }\n",
       "\n",
       "    .dataframe tbody tr th {\n",
       "        vertical-align: top;\n",
       "    }\n",
       "\n",
       "    .dataframe thead th {\n",
       "        text-align: right;\n",
       "    }\n",
       "</style>\n",
       "<table border=\"1\" class=\"dataframe\">\n",
       "  <thead>\n",
       "    <tr style=\"text-align: right;\">\n",
       "      <th></th>\n",
       "      <th>Gender</th>\n",
       "      <th>Age</th>\n",
       "      <th>Region_Code</th>\n",
       "      <th>Occupation</th>\n",
       "      <th>Channel_Code</th>\n",
       "      <th>Vintage</th>\n",
       "      <th>Credit_Product</th>\n",
       "      <th>Avg_Account_Balance</th>\n",
       "      <th>Is_Active</th>\n",
       "      <th>Is_Lead</th>\n",
       "    </tr>\n",
       "  </thead>\n",
       "  <tbody>\n",
       "    <tr>\n",
       "      <th>0</th>\n",
       "      <td>Female</td>\n",
       "      <td>73</td>\n",
       "      <td>RG268</td>\n",
       "      <td>Other</td>\n",
       "      <td>X3</td>\n",
       "      <td>43</td>\n",
       "      <td>No</td>\n",
       "      <td>1045696.0</td>\n",
       "      <td>No</td>\n",
       "      <td>0</td>\n",
       "    </tr>\n",
       "    <tr>\n",
       "      <th>1</th>\n",
       "      <td>Female</td>\n",
       "      <td>30</td>\n",
       "      <td>RG277</td>\n",
       "      <td>Salaried</td>\n",
       "      <td>X1</td>\n",
       "      <td>32</td>\n",
       "      <td>No</td>\n",
       "      <td>581988.0</td>\n",
       "      <td>No</td>\n",
       "      <td>0</td>\n",
       "    </tr>\n",
       "    <tr>\n",
       "      <th>2</th>\n",
       "      <td>Female</td>\n",
       "      <td>56</td>\n",
       "      <td>RG268</td>\n",
       "      <td>Self_Employed</td>\n",
       "      <td>X3</td>\n",
       "      <td>26</td>\n",
       "      <td>No</td>\n",
       "      <td>1484315.0</td>\n",
       "      <td>Yes</td>\n",
       "      <td>0</td>\n",
       "    </tr>\n",
       "    <tr>\n",
       "      <th>3</th>\n",
       "      <td>Male</td>\n",
       "      <td>34</td>\n",
       "      <td>RG270</td>\n",
       "      <td>Salaried</td>\n",
       "      <td>X1</td>\n",
       "      <td>19</td>\n",
       "      <td>No</td>\n",
       "      <td>470454.0</td>\n",
       "      <td>No</td>\n",
       "      <td>0</td>\n",
       "    </tr>\n",
       "    <tr>\n",
       "      <th>4</th>\n",
       "      <td>Female</td>\n",
       "      <td>30</td>\n",
       "      <td>RG282</td>\n",
       "      <td>Salaried</td>\n",
       "      <td>X1</td>\n",
       "      <td>33</td>\n",
       "      <td>No</td>\n",
       "      <td>886787.0</td>\n",
       "      <td>No</td>\n",
       "      <td>0</td>\n",
       "    </tr>\n",
       "  </tbody>\n",
       "</table>\n",
       "</div>"
      ],
      "text/plain": [
       "   Gender  Age Region_Code     Occupation Channel_Code  Vintage  \\\n",
       "0  Female   73       RG268          Other           X3       43   \n",
       "1  Female   30       RG277       Salaried           X1       32   \n",
       "2  Female   56       RG268  Self_Employed           X3       26   \n",
       "3    Male   34       RG270       Salaried           X1       19   \n",
       "4  Female   30       RG282       Salaried           X1       33   \n",
       "\n",
       "  Credit_Product  Avg_Account_Balance Is_Active  Is_Lead  \n",
       "0             No            1045696.0        No        0  \n",
       "1             No             581988.0        No        0  \n",
       "2             No            1484315.0       Yes        0  \n",
       "3             No             470454.0        No        0  \n",
       "4             No             886787.0        No        0  "
      ]
     },
     "execution_count": 180,
     "metadata": {},
     "output_type": "execute_result"
    }
   ],
   "source": [
    "dataset.head()"
   ]
  },
  {
   "cell_type": "code",
   "execution_count": 181,
   "metadata": {},
   "outputs": [
    {
     "data": {
      "text/html": [
       "<div>\n",
       "<style scoped>\n",
       "    .dataframe tbody tr th:only-of-type {\n",
       "        vertical-align: middle;\n",
       "    }\n",
       "\n",
       "    .dataframe tbody tr th {\n",
       "        vertical-align: top;\n",
       "    }\n",
       "\n",
       "    .dataframe thead th {\n",
       "        text-align: right;\n",
       "    }\n",
       "</style>\n",
       "<table border=\"1\" class=\"dataframe\">\n",
       "  <thead>\n",
       "    <tr style=\"text-align: right;\">\n",
       "      <th></th>\n",
       "      <th>Gender</th>\n",
       "      <th>Age</th>\n",
       "      <th>Region_Code</th>\n",
       "      <th>Occupation</th>\n",
       "      <th>Channel_Code</th>\n",
       "      <th>Vintage</th>\n",
       "      <th>Credit_Product</th>\n",
       "      <th>Avg_Account_Balance</th>\n",
       "      <th>Is_Active</th>\n",
       "    </tr>\n",
       "  </thead>\n",
       "  <tbody>\n",
       "    <tr>\n",
       "      <th>0</th>\n",
       "      <td>Male</td>\n",
       "      <td>29</td>\n",
       "      <td>RG254</td>\n",
       "      <td>Other</td>\n",
       "      <td>X1</td>\n",
       "      <td>25</td>\n",
       "      <td>Yes</td>\n",
       "      <td>742366.0</td>\n",
       "      <td>No</td>\n",
       "    </tr>\n",
       "    <tr>\n",
       "      <th>1</th>\n",
       "      <td>Male</td>\n",
       "      <td>43</td>\n",
       "      <td>RG268</td>\n",
       "      <td>Other</td>\n",
       "      <td>X2</td>\n",
       "      <td>49</td>\n",
       "      <td>No</td>\n",
       "      <td>925537.0</td>\n",
       "      <td>No</td>\n",
       "    </tr>\n",
       "    <tr>\n",
       "      <th>2</th>\n",
       "      <td>Male</td>\n",
       "      <td>31</td>\n",
       "      <td>RG270</td>\n",
       "      <td>Salaried</td>\n",
       "      <td>X1</td>\n",
       "      <td>14</td>\n",
       "      <td>No</td>\n",
       "      <td>215949.0</td>\n",
       "      <td>No</td>\n",
       "    </tr>\n",
       "    <tr>\n",
       "      <th>3</th>\n",
       "      <td>Male</td>\n",
       "      <td>29</td>\n",
       "      <td>RG272</td>\n",
       "      <td>Other</td>\n",
       "      <td>X1</td>\n",
       "      <td>33</td>\n",
       "      <td>No</td>\n",
       "      <td>868070.0</td>\n",
       "      <td>No</td>\n",
       "    </tr>\n",
       "    <tr>\n",
       "      <th>4</th>\n",
       "      <td>Female</td>\n",
       "      <td>29</td>\n",
       "      <td>RG270</td>\n",
       "      <td>Other</td>\n",
       "      <td>X1</td>\n",
       "      <td>19</td>\n",
       "      <td>No</td>\n",
       "      <td>657087.0</td>\n",
       "      <td>No</td>\n",
       "    </tr>\n",
       "  </tbody>\n",
       "</table>\n",
       "</div>"
      ],
      "text/plain": [
       "   Gender  Age Region_Code Occupation Channel_Code  Vintage Credit_Product  \\\n",
       "0    Male   29       RG254      Other           X1       25            Yes   \n",
       "1    Male   43       RG268      Other           X2       49             No   \n",
       "2    Male   31       RG270   Salaried           X1       14             No   \n",
       "3    Male   29       RG272      Other           X1       33             No   \n",
       "4  Female   29       RG270      Other           X1       19             No   \n",
       "\n",
       "   Avg_Account_Balance Is_Active  \n",
       "0             742366.0        No  \n",
       "1             925537.0        No  \n",
       "2             215949.0        No  \n",
       "3             868070.0        No  \n",
       "4             657087.0        No  "
      ]
     },
     "execution_count": 181,
     "metadata": {},
     "output_type": "execute_result"
    }
   ],
   "source": [
    "data_test.head()"
   ]
  },
  {
   "cell_type": "code",
   "execution_count": 182,
   "metadata": {},
   "outputs": [],
   "source": [
    "X_train = dataset.drop([\"Is_Lead\"], axis = 1)\n",
    "y_train = dataset[\"Is_Lead\"]\n",
    "X_test = data_test"
   ]
  },
  {
   "cell_type": "code",
   "execution_count": 183,
   "metadata": {
    "scrolled": true
   },
   "outputs": [
    {
     "data": {
      "text/html": [
       "<div>\n",
       "<style scoped>\n",
       "    .dataframe tbody tr th:only-of-type {\n",
       "        vertical-align: middle;\n",
       "    }\n",
       "\n",
       "    .dataframe tbody tr th {\n",
       "        vertical-align: top;\n",
       "    }\n",
       "\n",
       "    .dataframe thead th {\n",
       "        text-align: right;\n",
       "    }\n",
       "</style>\n",
       "<table border=\"1\" class=\"dataframe\">\n",
       "  <thead>\n",
       "    <tr style=\"text-align: right;\">\n",
       "      <th></th>\n",
       "      <th>Gender</th>\n",
       "      <th>Age</th>\n",
       "      <th>Region_Code</th>\n",
       "      <th>Occupation</th>\n",
       "      <th>Channel_Code</th>\n",
       "      <th>Vintage</th>\n",
       "      <th>Credit_Product</th>\n",
       "      <th>Avg_Account_Balance</th>\n",
       "      <th>Is_Active</th>\n",
       "    </tr>\n",
       "  </thead>\n",
       "  <tbody>\n",
       "    <tr>\n",
       "      <th>0</th>\n",
       "      <td>Female</td>\n",
       "      <td>73</td>\n",
       "      <td>RG268</td>\n",
       "      <td>Other</td>\n",
       "      <td>X3</td>\n",
       "      <td>43</td>\n",
       "      <td>No</td>\n",
       "      <td>1045696.0</td>\n",
       "      <td>No</td>\n",
       "    </tr>\n",
       "    <tr>\n",
       "      <th>1</th>\n",
       "      <td>Female</td>\n",
       "      <td>30</td>\n",
       "      <td>RG277</td>\n",
       "      <td>Salaried</td>\n",
       "      <td>X1</td>\n",
       "      <td>32</td>\n",
       "      <td>No</td>\n",
       "      <td>581988.0</td>\n",
       "      <td>No</td>\n",
       "    </tr>\n",
       "    <tr>\n",
       "      <th>2</th>\n",
       "      <td>Female</td>\n",
       "      <td>56</td>\n",
       "      <td>RG268</td>\n",
       "      <td>Self_Employed</td>\n",
       "      <td>X3</td>\n",
       "      <td>26</td>\n",
       "      <td>No</td>\n",
       "      <td>1484315.0</td>\n",
       "      <td>Yes</td>\n",
       "    </tr>\n",
       "    <tr>\n",
       "      <th>3</th>\n",
       "      <td>Male</td>\n",
       "      <td>34</td>\n",
       "      <td>RG270</td>\n",
       "      <td>Salaried</td>\n",
       "      <td>X1</td>\n",
       "      <td>19</td>\n",
       "      <td>No</td>\n",
       "      <td>470454.0</td>\n",
       "      <td>No</td>\n",
       "    </tr>\n",
       "    <tr>\n",
       "      <th>4</th>\n",
       "      <td>Female</td>\n",
       "      <td>30</td>\n",
       "      <td>RG282</td>\n",
       "      <td>Salaried</td>\n",
       "      <td>X1</td>\n",
       "      <td>33</td>\n",
       "      <td>No</td>\n",
       "      <td>886787.0</td>\n",
       "      <td>No</td>\n",
       "    </tr>\n",
       "  </tbody>\n",
       "</table>\n",
       "</div>"
      ],
      "text/plain": [
       "   Gender  Age Region_Code     Occupation Channel_Code  Vintage  \\\n",
       "0  Female   73       RG268          Other           X3       43   \n",
       "1  Female   30       RG277       Salaried           X1       32   \n",
       "2  Female   56       RG268  Self_Employed           X3       26   \n",
       "3    Male   34       RG270       Salaried           X1       19   \n",
       "4  Female   30       RG282       Salaried           X1       33   \n",
       "\n",
       "  Credit_Product  Avg_Account_Balance Is_Active  \n",
       "0             No            1045696.0        No  \n",
       "1             No             581988.0        No  \n",
       "2             No            1484315.0       Yes  \n",
       "3             No             470454.0        No  \n",
       "4             No             886787.0        No  "
      ]
     },
     "execution_count": 183,
     "metadata": {},
     "output_type": "execute_result"
    }
   ],
   "source": [
    "X_train.head()"
   ]
  },
  {
   "cell_type": "code",
   "execution_count": 184,
   "metadata": {
    "scrolled": true
   },
   "outputs": [
    {
     "data": {
      "text/html": [
       "<div>\n",
       "<style scoped>\n",
       "    .dataframe tbody tr th:only-of-type {\n",
       "        vertical-align: middle;\n",
       "    }\n",
       "\n",
       "    .dataframe tbody tr th {\n",
       "        vertical-align: top;\n",
       "    }\n",
       "\n",
       "    .dataframe thead th {\n",
       "        text-align: right;\n",
       "    }\n",
       "</style>\n",
       "<table border=\"1\" class=\"dataframe\">\n",
       "  <thead>\n",
       "    <tr style=\"text-align: right;\">\n",
       "      <th></th>\n",
       "      <th>Gender</th>\n",
       "      <th>Age</th>\n",
       "      <th>Region_Code</th>\n",
       "      <th>Occupation</th>\n",
       "      <th>Channel_Code</th>\n",
       "      <th>Vintage</th>\n",
       "      <th>Credit_Product</th>\n",
       "      <th>Avg_Account_Balance</th>\n",
       "      <th>Is_Active</th>\n",
       "    </tr>\n",
       "  </thead>\n",
       "  <tbody>\n",
       "    <tr>\n",
       "      <th>0</th>\n",
       "      <td>Male</td>\n",
       "      <td>29</td>\n",
       "      <td>RG254</td>\n",
       "      <td>Other</td>\n",
       "      <td>X1</td>\n",
       "      <td>25</td>\n",
       "      <td>Yes</td>\n",
       "      <td>742366.0</td>\n",
       "      <td>No</td>\n",
       "    </tr>\n",
       "    <tr>\n",
       "      <th>1</th>\n",
       "      <td>Male</td>\n",
       "      <td>43</td>\n",
       "      <td>RG268</td>\n",
       "      <td>Other</td>\n",
       "      <td>X2</td>\n",
       "      <td>49</td>\n",
       "      <td>No</td>\n",
       "      <td>925537.0</td>\n",
       "      <td>No</td>\n",
       "    </tr>\n",
       "    <tr>\n",
       "      <th>2</th>\n",
       "      <td>Male</td>\n",
       "      <td>31</td>\n",
       "      <td>RG270</td>\n",
       "      <td>Salaried</td>\n",
       "      <td>X1</td>\n",
       "      <td>14</td>\n",
       "      <td>No</td>\n",
       "      <td>215949.0</td>\n",
       "      <td>No</td>\n",
       "    </tr>\n",
       "    <tr>\n",
       "      <th>3</th>\n",
       "      <td>Male</td>\n",
       "      <td>29</td>\n",
       "      <td>RG272</td>\n",
       "      <td>Other</td>\n",
       "      <td>X1</td>\n",
       "      <td>33</td>\n",
       "      <td>No</td>\n",
       "      <td>868070.0</td>\n",
       "      <td>No</td>\n",
       "    </tr>\n",
       "    <tr>\n",
       "      <th>4</th>\n",
       "      <td>Female</td>\n",
       "      <td>29</td>\n",
       "      <td>RG270</td>\n",
       "      <td>Other</td>\n",
       "      <td>X1</td>\n",
       "      <td>19</td>\n",
       "      <td>No</td>\n",
       "      <td>657087.0</td>\n",
       "      <td>No</td>\n",
       "    </tr>\n",
       "  </tbody>\n",
       "</table>\n",
       "</div>"
      ],
      "text/plain": [
       "   Gender  Age Region_Code Occupation Channel_Code  Vintage Credit_Product  \\\n",
       "0    Male   29       RG254      Other           X1       25            Yes   \n",
       "1    Male   43       RG268      Other           X2       49             No   \n",
       "2    Male   31       RG270   Salaried           X1       14             No   \n",
       "3    Male   29       RG272      Other           X1       33             No   \n",
       "4  Female   29       RG270      Other           X1       19             No   \n",
       "\n",
       "   Avg_Account_Balance Is_Active  \n",
       "0             742366.0        No  \n",
       "1             925537.0        No  \n",
       "2             215949.0        No  \n",
       "3             868070.0        No  \n",
       "4             657087.0        No  "
      ]
     },
     "execution_count": 184,
     "metadata": {},
     "output_type": "execute_result"
    }
   ],
   "source": [
    "X_test.head()"
   ]
  },
  {
   "cell_type": "code",
   "execution_count": 185,
   "metadata": {},
   "outputs": [],
   "source": [
    "data_in = X_train.drop(['Gender',\n",
    " 'Region_Code',\n",
    " 'Occupation',\n",
    " 'Channel_Code',\n",
    " 'Credit_Product',\n",
    " 'Is_Active'], axis = 1)"
   ]
  },
  {
   "cell_type": "code",
   "execution_count": 186,
   "metadata": {},
   "outputs": [],
   "source": [
    "data_test = X_test.drop(['Gender',\n",
    " 'Region_Code',\n",
    " 'Occupation',\n",
    " 'Channel_Code',\n",
    " 'Credit_Product',\n",
    " 'Is_Active'], axis = 1)"
   ]
  },
  {
   "cell_type": "code",
   "execution_count": 187,
   "metadata": {},
   "outputs": [
    {
     "data": {
      "text/plain": [
       "MinMaxScaler()"
      ]
     },
     "execution_count": 187,
     "metadata": {},
     "output_type": "execute_result"
    }
   ],
   "source": [
    "scaler.fit(data_in)"
   ]
  },
  {
   "cell_type": "code",
   "execution_count": 188,
   "metadata": {},
   "outputs": [],
   "source": [
    "scaled_data = pd.DataFrame(scaler.transform(data_in), columns = data_in.columns)"
   ]
  },
  {
   "cell_type": "code",
   "execution_count": 189,
   "metadata": {},
   "outputs": [
    {
     "data": {
      "text/html": [
       "<div>\n",
       "<style scoped>\n",
       "    .dataframe tbody tr th:only-of-type {\n",
       "        vertical-align: middle;\n",
       "    }\n",
       "\n",
       "    .dataframe tbody tr th {\n",
       "        vertical-align: top;\n",
       "    }\n",
       "\n",
       "    .dataframe thead th {\n",
       "        text-align: right;\n",
       "    }\n",
       "</style>\n",
       "<table border=\"1\" class=\"dataframe\">\n",
       "  <thead>\n",
       "    <tr style=\"text-align: right;\">\n",
       "      <th></th>\n",
       "      <th>Age</th>\n",
       "      <th>Vintage</th>\n",
       "      <th>Avg_Account_Balance</th>\n",
       "    </tr>\n",
       "  </thead>\n",
       "  <tbody>\n",
       "    <tr>\n",
       "      <th>0</th>\n",
       "      <td>0.806452</td>\n",
       "      <td>0.281250</td>\n",
       "      <td>0.282114</td>\n",
       "    </tr>\n",
       "    <tr>\n",
       "      <th>1</th>\n",
       "      <td>0.112903</td>\n",
       "      <td>0.195312</td>\n",
       "      <td>0.154475</td>\n",
       "    </tr>\n",
       "    <tr>\n",
       "      <th>2</th>\n",
       "      <td>0.532258</td>\n",
       "      <td>0.148438</td>\n",
       "      <td>0.402848</td>\n",
       "    </tr>\n",
       "    <tr>\n",
       "      <th>3</th>\n",
       "      <td>0.177419</td>\n",
       "      <td>0.093750</td>\n",
       "      <td>0.123774</td>\n",
       "    </tr>\n",
       "    <tr>\n",
       "      <th>4</th>\n",
       "      <td>0.112903</td>\n",
       "      <td>0.203125</td>\n",
       "      <td>0.238373</td>\n",
       "    </tr>\n",
       "  </tbody>\n",
       "</table>\n",
       "</div>"
      ],
      "text/plain": [
       "        Age   Vintage  Avg_Account_Balance\n",
       "0  0.806452  0.281250             0.282114\n",
       "1  0.112903  0.195312             0.154475\n",
       "2  0.532258  0.148438             0.402848\n",
       "3  0.177419  0.093750             0.123774\n",
       "4  0.112903  0.203125             0.238373"
      ]
     },
     "execution_count": 189,
     "metadata": {},
     "output_type": "execute_result"
    }
   ],
   "source": [
    "scaled_data.head()"
   ]
  },
  {
   "cell_type": "code",
   "execution_count": 190,
   "metadata": {},
   "outputs": [],
   "source": [
    "# Scaling test data"
   ]
  },
  {
   "cell_type": "code",
   "execution_count": 191,
   "metadata": {
    "scrolled": true
   },
   "outputs": [
    {
     "data": {
      "text/plain": [
       "MinMaxScaler()"
      ]
     },
     "execution_count": 191,
     "metadata": {},
     "output_type": "execute_result"
    }
   ],
   "source": [
    "scaler.fit(data_test)"
   ]
  },
  {
   "cell_type": "code",
   "execution_count": 192,
   "metadata": {},
   "outputs": [],
   "source": [
    "scaled_test = pd.DataFrame(scaler.transform(data_test), columns = data_test.columns)"
   ]
  },
  {
   "cell_type": "code",
   "execution_count": 193,
   "metadata": {},
   "outputs": [
    {
     "data": {
      "text/html": [
       "<div>\n",
       "<style scoped>\n",
       "    .dataframe tbody tr th:only-of-type {\n",
       "        vertical-align: middle;\n",
       "    }\n",
       "\n",
       "    .dataframe tbody tr th {\n",
       "        vertical-align: top;\n",
       "    }\n",
       "\n",
       "    .dataframe thead th {\n",
       "        text-align: right;\n",
       "    }\n",
       "</style>\n",
       "<table border=\"1\" class=\"dataframe\">\n",
       "  <thead>\n",
       "    <tr style=\"text-align: right;\">\n",
       "      <th></th>\n",
       "      <th>Age</th>\n",
       "      <th>Vintage</th>\n",
       "      <th>Avg_Account_Balance</th>\n",
       "    </tr>\n",
       "  </thead>\n",
       "  <tbody>\n",
       "    <tr>\n",
       "      <th>0</th>\n",
       "      <td>0.081967</td>\n",
       "      <td>0.140625</td>\n",
       "      <td>0.197097</td>\n",
       "    </tr>\n",
       "    <tr>\n",
       "      <th>1</th>\n",
       "      <td>0.311475</td>\n",
       "      <td>0.328125</td>\n",
       "      <td>0.247256</td>\n",
       "    </tr>\n",
       "    <tr>\n",
       "      <th>2</th>\n",
       "      <td>0.114754</td>\n",
       "      <td>0.054688</td>\n",
       "      <td>0.052946</td>\n",
       "    </tr>\n",
       "    <tr>\n",
       "      <th>3</th>\n",
       "      <td>0.081967</td>\n",
       "      <td>0.203125</td>\n",
       "      <td>0.231519</td>\n",
       "    </tr>\n",
       "    <tr>\n",
       "      <th>4</th>\n",
       "      <td>0.081967</td>\n",
       "      <td>0.093750</td>\n",
       "      <td>0.173745</td>\n",
       "    </tr>\n",
       "  </tbody>\n",
       "</table>\n",
       "</div>"
      ],
      "text/plain": [
       "        Age   Vintage  Avg_Account_Balance\n",
       "0  0.081967  0.140625             0.197097\n",
       "1  0.311475  0.328125             0.247256\n",
       "2  0.114754  0.054688             0.052946\n",
       "3  0.081967  0.203125             0.231519\n",
       "4  0.081967  0.093750             0.173745"
      ]
     },
     "execution_count": 193,
     "metadata": {},
     "output_type": "execute_result"
    }
   ],
   "source": [
    "scaled_test.head()"
   ]
  },
  {
   "cell_type": "code",
   "execution_count": 194,
   "metadata": {},
   "outputs": [],
   "source": [
    "data1 = X_train[['Gender',\n",
    " 'Region_Code',\n",
    " 'Occupation',\n",
    " 'Channel_Code',\n",
    " 'Credit_Product',\n",
    " 'Is_Active']]"
   ]
  },
  {
   "cell_type": "code",
   "execution_count": 195,
   "metadata": {},
   "outputs": [],
   "source": [
    "tr_data = pd.concat([scaled_data, data1], ignore_index =False, axis = 1)"
   ]
  },
  {
   "cell_type": "code",
   "execution_count": 196,
   "metadata": {},
   "outputs": [
    {
     "data": {
      "text/html": [
       "<div>\n",
       "<style scoped>\n",
       "    .dataframe tbody tr th:only-of-type {\n",
       "        vertical-align: middle;\n",
       "    }\n",
       "\n",
       "    .dataframe tbody tr th {\n",
       "        vertical-align: top;\n",
       "    }\n",
       "\n",
       "    .dataframe thead th {\n",
       "        text-align: right;\n",
       "    }\n",
       "</style>\n",
       "<table border=\"1\" class=\"dataframe\">\n",
       "  <thead>\n",
       "    <tr style=\"text-align: right;\">\n",
       "      <th></th>\n",
       "      <th>Age</th>\n",
       "      <th>Vintage</th>\n",
       "      <th>Avg_Account_Balance</th>\n",
       "      <th>Gender</th>\n",
       "      <th>Region_Code</th>\n",
       "      <th>Occupation</th>\n",
       "      <th>Channel_Code</th>\n",
       "      <th>Credit_Product</th>\n",
       "      <th>Is_Active</th>\n",
       "    </tr>\n",
       "  </thead>\n",
       "  <tbody>\n",
       "    <tr>\n",
       "      <th>0</th>\n",
       "      <td>0.806452</td>\n",
       "      <td>0.281250</td>\n",
       "      <td>0.282114</td>\n",
       "      <td>Female</td>\n",
       "      <td>RG268</td>\n",
       "      <td>Other</td>\n",
       "      <td>X3</td>\n",
       "      <td>No</td>\n",
       "      <td>No</td>\n",
       "    </tr>\n",
       "    <tr>\n",
       "      <th>1</th>\n",
       "      <td>0.112903</td>\n",
       "      <td>0.195312</td>\n",
       "      <td>0.154475</td>\n",
       "      <td>Female</td>\n",
       "      <td>RG277</td>\n",
       "      <td>Salaried</td>\n",
       "      <td>X1</td>\n",
       "      <td>No</td>\n",
       "      <td>No</td>\n",
       "    </tr>\n",
       "    <tr>\n",
       "      <th>2</th>\n",
       "      <td>0.532258</td>\n",
       "      <td>0.148438</td>\n",
       "      <td>0.402848</td>\n",
       "      <td>Female</td>\n",
       "      <td>RG268</td>\n",
       "      <td>Self_Employed</td>\n",
       "      <td>X3</td>\n",
       "      <td>No</td>\n",
       "      <td>Yes</td>\n",
       "    </tr>\n",
       "    <tr>\n",
       "      <th>3</th>\n",
       "      <td>0.177419</td>\n",
       "      <td>0.093750</td>\n",
       "      <td>0.123774</td>\n",
       "      <td>Male</td>\n",
       "      <td>RG270</td>\n",
       "      <td>Salaried</td>\n",
       "      <td>X1</td>\n",
       "      <td>No</td>\n",
       "      <td>No</td>\n",
       "    </tr>\n",
       "    <tr>\n",
       "      <th>4</th>\n",
       "      <td>0.112903</td>\n",
       "      <td>0.203125</td>\n",
       "      <td>0.238373</td>\n",
       "      <td>Female</td>\n",
       "      <td>RG282</td>\n",
       "      <td>Salaried</td>\n",
       "      <td>X1</td>\n",
       "      <td>No</td>\n",
       "      <td>No</td>\n",
       "    </tr>\n",
       "    <tr>\n",
       "      <th>...</th>\n",
       "      <td>...</td>\n",
       "      <td>...</td>\n",
       "      <td>...</td>\n",
       "      <td>...</td>\n",
       "      <td>...</td>\n",
       "      <td>...</td>\n",
       "      <td>...</td>\n",
       "      <td>...</td>\n",
       "      <td>...</td>\n",
       "    </tr>\n",
       "    <tr>\n",
       "      <th>245720</th>\n",
       "      <td>0.451613</td>\n",
       "      <td>0.796875</td>\n",
       "      <td>0.524312</td>\n",
       "      <td>Male</td>\n",
       "      <td>RG284</td>\n",
       "      <td>Self_Employed</td>\n",
       "      <td>X3</td>\n",
       "      <td>No</td>\n",
       "      <td>No</td>\n",
       "    </tr>\n",
       "    <tr>\n",
       "      <th>245721</th>\n",
       "      <td>0.064516</td>\n",
       "      <td>0.062500</td>\n",
       "      <td>0.231813</td>\n",
       "      <td>Male</td>\n",
       "      <td>RG268</td>\n",
       "      <td>Salaried</td>\n",
       "      <td>X1</td>\n",
       "      <td>No</td>\n",
       "      <td>Yes</td>\n",
       "    </tr>\n",
       "    <tr>\n",
       "      <th>245722</th>\n",
       "      <td>0.048387</td>\n",
       "      <td>0.046875</td>\n",
       "      <td>0.178882</td>\n",
       "      <td>Female</td>\n",
       "      <td>RG281</td>\n",
       "      <td>Salaried</td>\n",
       "      <td>X1</td>\n",
       "      <td>No</td>\n",
       "      <td>No</td>\n",
       "    </tr>\n",
       "    <tr>\n",
       "      <th>245723</th>\n",
       "      <td>0.080645</td>\n",
       "      <td>0.187500</td>\n",
       "      <td>0.106446</td>\n",
       "      <td>Female</td>\n",
       "      <td>RG273</td>\n",
       "      <td>Salaried</td>\n",
       "      <td>X1</td>\n",
       "      <td>No</td>\n",
       "      <td>No</td>\n",
       "    </tr>\n",
       "    <tr>\n",
       "      <th>245724</th>\n",
       "      <td>0.096774</td>\n",
       "      <td>0.109375</td>\n",
       "      <td>0.305121</td>\n",
       "      <td>Male</td>\n",
       "      <td>RG269</td>\n",
       "      <td>Salaried</td>\n",
       "      <td>X1</td>\n",
       "      <td>No</td>\n",
       "      <td>No</td>\n",
       "    </tr>\n",
       "  </tbody>\n",
       "</table>\n",
       "<p>245725 rows × 9 columns</p>\n",
       "</div>"
      ],
      "text/plain": [
       "             Age   Vintage  Avg_Account_Balance  Gender Region_Code  \\\n",
       "0       0.806452  0.281250             0.282114  Female       RG268   \n",
       "1       0.112903  0.195312             0.154475  Female       RG277   \n",
       "2       0.532258  0.148438             0.402848  Female       RG268   \n",
       "3       0.177419  0.093750             0.123774    Male       RG270   \n",
       "4       0.112903  0.203125             0.238373  Female       RG282   \n",
       "...          ...       ...                  ...     ...         ...   \n",
       "245720  0.451613  0.796875             0.524312    Male       RG284   \n",
       "245721  0.064516  0.062500             0.231813    Male       RG268   \n",
       "245722  0.048387  0.046875             0.178882  Female       RG281   \n",
       "245723  0.080645  0.187500             0.106446  Female       RG273   \n",
       "245724  0.096774  0.109375             0.305121    Male       RG269   \n",
       "\n",
       "           Occupation Channel_Code Credit_Product Is_Active  \n",
       "0               Other           X3             No        No  \n",
       "1            Salaried           X1             No        No  \n",
       "2       Self_Employed           X3             No       Yes  \n",
       "3            Salaried           X1             No        No  \n",
       "4            Salaried           X1             No        No  \n",
       "...               ...          ...            ...       ...  \n",
       "245720  Self_Employed           X3             No        No  \n",
       "245721       Salaried           X1             No       Yes  \n",
       "245722       Salaried           X1             No        No  \n",
       "245723       Salaried           X1             No        No  \n",
       "245724       Salaried           X1             No        No  \n",
       "\n",
       "[245725 rows x 9 columns]"
      ]
     },
     "execution_count": 196,
     "metadata": {},
     "output_type": "execute_result"
    }
   ],
   "source": [
    "tr_data"
   ]
  },
  {
   "cell_type": "code",
   "execution_count": 197,
   "metadata": {},
   "outputs": [],
   "source": [
    "# for test data"
   ]
  },
  {
   "cell_type": "code",
   "execution_count": 198,
   "metadata": {},
   "outputs": [],
   "source": [
    "data2 = X_test[['Gender',\n",
    " 'Region_Code',\n",
    " 'Occupation',\n",
    " 'Channel_Code',\n",
    " 'Credit_Product',\n",
    " 'Is_Active']]"
   ]
  },
  {
   "cell_type": "code",
   "execution_count": 199,
   "metadata": {},
   "outputs": [],
   "source": [
    "ts_data = pd.concat([scaled_test, data2], ignore_index =False, axis = 1)"
   ]
  },
  {
   "cell_type": "code",
   "execution_count": 200,
   "metadata": {},
   "outputs": [
    {
     "data": {
      "text/html": [
       "<div>\n",
       "<style scoped>\n",
       "    .dataframe tbody tr th:only-of-type {\n",
       "        vertical-align: middle;\n",
       "    }\n",
       "\n",
       "    .dataframe tbody tr th {\n",
       "        vertical-align: top;\n",
       "    }\n",
       "\n",
       "    .dataframe thead th {\n",
       "        text-align: right;\n",
       "    }\n",
       "</style>\n",
       "<table border=\"1\" class=\"dataframe\">\n",
       "  <thead>\n",
       "    <tr style=\"text-align: right;\">\n",
       "      <th></th>\n",
       "      <th>Age</th>\n",
       "      <th>Vintage</th>\n",
       "      <th>Avg_Account_Balance</th>\n",
       "      <th>Gender</th>\n",
       "      <th>Region_Code</th>\n",
       "      <th>Occupation</th>\n",
       "      <th>Channel_Code</th>\n",
       "      <th>Credit_Product</th>\n",
       "      <th>Is_Active</th>\n",
       "    </tr>\n",
       "  </thead>\n",
       "  <tbody>\n",
       "    <tr>\n",
       "      <th>0</th>\n",
       "      <td>0.081967</td>\n",
       "      <td>0.140625</td>\n",
       "      <td>0.197097</td>\n",
       "      <td>Male</td>\n",
       "      <td>RG254</td>\n",
       "      <td>Other</td>\n",
       "      <td>X1</td>\n",
       "      <td>Yes</td>\n",
       "      <td>No</td>\n",
       "    </tr>\n",
       "    <tr>\n",
       "      <th>1</th>\n",
       "      <td>0.311475</td>\n",
       "      <td>0.328125</td>\n",
       "      <td>0.247256</td>\n",
       "      <td>Male</td>\n",
       "      <td>RG268</td>\n",
       "      <td>Other</td>\n",
       "      <td>X2</td>\n",
       "      <td>No</td>\n",
       "      <td>No</td>\n",
       "    </tr>\n",
       "    <tr>\n",
       "      <th>2</th>\n",
       "      <td>0.114754</td>\n",
       "      <td>0.054688</td>\n",
       "      <td>0.052946</td>\n",
       "      <td>Male</td>\n",
       "      <td>RG270</td>\n",
       "      <td>Salaried</td>\n",
       "      <td>X1</td>\n",
       "      <td>No</td>\n",
       "      <td>No</td>\n",
       "    </tr>\n",
       "    <tr>\n",
       "      <th>3</th>\n",
       "      <td>0.081967</td>\n",
       "      <td>0.203125</td>\n",
       "      <td>0.231519</td>\n",
       "      <td>Male</td>\n",
       "      <td>RG272</td>\n",
       "      <td>Other</td>\n",
       "      <td>X1</td>\n",
       "      <td>No</td>\n",
       "      <td>No</td>\n",
       "    </tr>\n",
       "    <tr>\n",
       "      <th>4</th>\n",
       "      <td>0.081967</td>\n",
       "      <td>0.093750</td>\n",
       "      <td>0.173745</td>\n",
       "      <td>Female</td>\n",
       "      <td>RG270</td>\n",
       "      <td>Other</td>\n",
       "      <td>X1</td>\n",
       "      <td>No</td>\n",
       "      <td>No</td>\n",
       "    </tr>\n",
       "    <tr>\n",
       "      <th>...</th>\n",
       "      <td>...</td>\n",
       "      <td>...</td>\n",
       "      <td>...</td>\n",
       "      <td>...</td>\n",
       "      <td>...</td>\n",
       "      <td>...</td>\n",
       "      <td>...</td>\n",
       "      <td>...</td>\n",
       "      <td>...</td>\n",
       "    </tr>\n",
       "    <tr>\n",
       "      <th>105307</th>\n",
       "      <td>0.459016</td>\n",
       "      <td>0.617188</td>\n",
       "      <td>1.000000</td>\n",
       "      <td>Male</td>\n",
       "      <td>RG268</td>\n",
       "      <td>Salaried</td>\n",
       "      <td>X2</td>\n",
       "      <td>Yes</td>\n",
       "      <td>Yes</td>\n",
       "    </tr>\n",
       "    <tr>\n",
       "      <th>105308</th>\n",
       "      <td>0.508197</td>\n",
       "      <td>0.617188</td>\n",
       "      <td>0.311228</td>\n",
       "      <td>Male</td>\n",
       "      <td>RG277</td>\n",
       "      <td>Other</td>\n",
       "      <td>X2</td>\n",
       "      <td>Yes</td>\n",
       "      <td>No</td>\n",
       "    </tr>\n",
       "    <tr>\n",
       "      <th>105309</th>\n",
       "      <td>0.180328</td>\n",
       "      <td>0.062500</td>\n",
       "      <td>0.460350</td>\n",
       "      <td>Male</td>\n",
       "      <td>RG254</td>\n",
       "      <td>Salaried</td>\n",
       "      <td>X4</td>\n",
       "      <td>No</td>\n",
       "      <td>No</td>\n",
       "    </tr>\n",
       "    <tr>\n",
       "      <th>105310</th>\n",
       "      <td>0.475410</td>\n",
       "      <td>0.671875</td>\n",
       "      <td>0.195676</td>\n",
       "      <td>Male</td>\n",
       "      <td>RG254</td>\n",
       "      <td>Other</td>\n",
       "      <td>X3</td>\n",
       "      <td>No</td>\n",
       "      <td>Yes</td>\n",
       "    </tr>\n",
       "    <tr>\n",
       "      <th>105311</th>\n",
       "      <td>0.049180</td>\n",
       "      <td>0.109375</td>\n",
       "      <td>0.155803</td>\n",
       "      <td>Male</td>\n",
       "      <td>RG256</td>\n",
       "      <td>Salaried</td>\n",
       "      <td>X1</td>\n",
       "      <td>No</td>\n",
       "      <td>No</td>\n",
       "    </tr>\n",
       "  </tbody>\n",
       "</table>\n",
       "<p>105312 rows × 9 columns</p>\n",
       "</div>"
      ],
      "text/plain": [
       "             Age   Vintage  Avg_Account_Balance  Gender Region_Code  \\\n",
       "0       0.081967  0.140625             0.197097    Male       RG254   \n",
       "1       0.311475  0.328125             0.247256    Male       RG268   \n",
       "2       0.114754  0.054688             0.052946    Male       RG270   \n",
       "3       0.081967  0.203125             0.231519    Male       RG272   \n",
       "4       0.081967  0.093750             0.173745  Female       RG270   \n",
       "...          ...       ...                  ...     ...         ...   \n",
       "105307  0.459016  0.617188             1.000000    Male       RG268   \n",
       "105308  0.508197  0.617188             0.311228    Male       RG277   \n",
       "105309  0.180328  0.062500             0.460350    Male       RG254   \n",
       "105310  0.475410  0.671875             0.195676    Male       RG254   \n",
       "105311  0.049180  0.109375             0.155803    Male       RG256   \n",
       "\n",
       "       Occupation Channel_Code Credit_Product Is_Active  \n",
       "0           Other           X1            Yes        No  \n",
       "1           Other           X2             No        No  \n",
       "2        Salaried           X1             No        No  \n",
       "3           Other           X1             No        No  \n",
       "4           Other           X1             No        No  \n",
       "...           ...          ...            ...       ...  \n",
       "105307   Salaried           X2            Yes       Yes  \n",
       "105308      Other           X2            Yes        No  \n",
       "105309   Salaried           X4             No        No  \n",
       "105310      Other           X3             No       Yes  \n",
       "105311   Salaried           X1             No        No  \n",
       "\n",
       "[105312 rows x 9 columns]"
      ]
     },
     "execution_count": 200,
     "metadata": {},
     "output_type": "execute_result"
    }
   ],
   "source": [
    "ts_data"
   ]
  },
  {
   "cell_type": "code",
   "execution_count": 201,
   "metadata": {},
   "outputs": [],
   "source": [
    "# Training and testing"
   ]
  },
  {
   "cell_type": "code",
   "execution_count": 202,
   "metadata": {},
   "outputs": [],
   "source": [
    "X_train = tr_data.drop(['Gender'], axis = 1)\n",
    "X_test = ts_data.drop(['Gender'], axis = 1)"
   ]
  },
  {
   "cell_type": "code",
   "execution_count": 203,
   "metadata": {
    "scrolled": true
   },
   "outputs": [
    {
     "data": {
      "text/html": [
       "<div>\n",
       "<style scoped>\n",
       "    .dataframe tbody tr th:only-of-type {\n",
       "        vertical-align: middle;\n",
       "    }\n",
       "\n",
       "    .dataframe tbody tr th {\n",
       "        vertical-align: top;\n",
       "    }\n",
       "\n",
       "    .dataframe thead th {\n",
       "        text-align: right;\n",
       "    }\n",
       "</style>\n",
       "<table border=\"1\" class=\"dataframe\">\n",
       "  <thead>\n",
       "    <tr style=\"text-align: right;\">\n",
       "      <th></th>\n",
       "      <th>Age</th>\n",
       "      <th>Vintage</th>\n",
       "      <th>Avg_Account_Balance</th>\n",
       "      <th>Region_Code</th>\n",
       "      <th>Occupation</th>\n",
       "      <th>Channel_Code</th>\n",
       "      <th>Credit_Product</th>\n",
       "      <th>Is_Active</th>\n",
       "    </tr>\n",
       "  </thead>\n",
       "  <tbody>\n",
       "    <tr>\n",
       "      <th>0</th>\n",
       "      <td>0.081967</td>\n",
       "      <td>0.140625</td>\n",
       "      <td>0.197097</td>\n",
       "      <td>RG254</td>\n",
       "      <td>Other</td>\n",
       "      <td>X1</td>\n",
       "      <td>Yes</td>\n",
       "      <td>No</td>\n",
       "    </tr>\n",
       "    <tr>\n",
       "      <th>1</th>\n",
       "      <td>0.311475</td>\n",
       "      <td>0.328125</td>\n",
       "      <td>0.247256</td>\n",
       "      <td>RG268</td>\n",
       "      <td>Other</td>\n",
       "      <td>X2</td>\n",
       "      <td>No</td>\n",
       "      <td>No</td>\n",
       "    </tr>\n",
       "    <tr>\n",
       "      <th>2</th>\n",
       "      <td>0.114754</td>\n",
       "      <td>0.054688</td>\n",
       "      <td>0.052946</td>\n",
       "      <td>RG270</td>\n",
       "      <td>Salaried</td>\n",
       "      <td>X1</td>\n",
       "      <td>No</td>\n",
       "      <td>No</td>\n",
       "    </tr>\n",
       "    <tr>\n",
       "      <th>3</th>\n",
       "      <td>0.081967</td>\n",
       "      <td>0.203125</td>\n",
       "      <td>0.231519</td>\n",
       "      <td>RG272</td>\n",
       "      <td>Other</td>\n",
       "      <td>X1</td>\n",
       "      <td>No</td>\n",
       "      <td>No</td>\n",
       "    </tr>\n",
       "    <tr>\n",
       "      <th>4</th>\n",
       "      <td>0.081967</td>\n",
       "      <td>0.093750</td>\n",
       "      <td>0.173745</td>\n",
       "      <td>RG270</td>\n",
       "      <td>Other</td>\n",
       "      <td>X1</td>\n",
       "      <td>No</td>\n",
       "      <td>No</td>\n",
       "    </tr>\n",
       "  </tbody>\n",
       "</table>\n",
       "</div>"
      ],
      "text/plain": [
       "        Age   Vintage  Avg_Account_Balance Region_Code Occupation  \\\n",
       "0  0.081967  0.140625             0.197097       RG254      Other   \n",
       "1  0.311475  0.328125             0.247256       RG268      Other   \n",
       "2  0.114754  0.054688             0.052946       RG270   Salaried   \n",
       "3  0.081967  0.203125             0.231519       RG272      Other   \n",
       "4  0.081967  0.093750             0.173745       RG270      Other   \n",
       "\n",
       "  Channel_Code Credit_Product Is_Active  \n",
       "0           X1            Yes        No  \n",
       "1           X2             No        No  \n",
       "2           X1             No        No  \n",
       "3           X1             No        No  \n",
       "4           X1             No        No  "
      ]
     },
     "execution_count": 203,
     "metadata": {},
     "output_type": "execute_result"
    }
   ],
   "source": [
    "X_test.head()"
   ]
  },
  {
   "cell_type": "code",
   "execution_count": 204,
   "metadata": {
    "scrolled": true
   },
   "outputs": [
    {
     "data": {
      "text/plain": [
       "['Gender',\n",
       " 'Region_Code',\n",
       " 'Occupation',\n",
       " 'Channel_Code',\n",
       " 'Credit_Product',\n",
       " 'Is_Active']"
      ]
     },
     "execution_count": 204,
     "metadata": {},
     "output_type": "execute_result"
    }
   ],
   "source": [
    "categorical_features"
   ]
  },
  {
   "cell_type": "code",
   "execution_count": 205,
   "metadata": {},
   "outputs": [],
   "source": [
    "cat_features = [3,4,5,6,7]"
   ]
  },
  {
   "cell_type": "code",
   "execution_count": 206,
   "metadata": {},
   "outputs": [],
   "source": [
    "# Model building"
   ]
  },
  {
   "cell_type": "code",
   "execution_count": 207,
   "metadata": {},
   "outputs": [],
   "source": [
    "model = CatBoostClassifier(n_estimators=1000, learning_rate =0.05, loss_function='CrossEntropy',l2_leaf_reg=2 , max_depth =5, eval_metric='AUC')"
   ]
  },
  {
   "cell_type": "code",
   "execution_count": 208,
   "metadata": {},
   "outputs": [
    {
     "name": "stdout",
     "output_type": "stream",
     "text": [
      "0:\ttotal: 380ms\tremaining: 6m 19s\n",
      "1:\ttotal: 801ms\tremaining: 6m 39s\n",
      "2:\ttotal: 1.13s\tremaining: 6m 15s\n",
      "3:\ttotal: 1.37s\tremaining: 5m 41s\n",
      "4:\ttotal: 1.64s\tremaining: 5m 25s\n",
      "5:\ttotal: 1.83s\tremaining: 5m 2s\n",
      "6:\ttotal: 2.04s\tremaining: 4m 49s\n",
      "7:\ttotal: 2.27s\tremaining: 4m 41s\n",
      "8:\ttotal: 2.54s\tremaining: 4m 40s\n",
      "9:\ttotal: 2.81s\tremaining: 4m 38s\n",
      "10:\ttotal: 3.06s\tremaining: 4m 34s\n",
      "11:\ttotal: 3.46s\tremaining: 4m 44s\n",
      "12:\ttotal: 3.78s\tremaining: 4m 46s\n",
      "13:\ttotal: 4.07s\tremaining: 4m 46s\n",
      "14:\ttotal: 4.31s\tremaining: 4m 42s\n",
      "15:\ttotal: 4.56s\tremaining: 4m 40s\n",
      "16:\ttotal: 4.86s\tremaining: 4m 40s\n",
      "17:\ttotal: 5.05s\tremaining: 4m 35s\n",
      "18:\ttotal: 5.24s\tremaining: 4m 30s\n",
      "19:\ttotal: 5.46s\tremaining: 4m 27s\n",
      "20:\ttotal: 5.67s\tremaining: 4m 24s\n",
      "21:\ttotal: 5.91s\tremaining: 4m 22s\n",
      "22:\ttotal: 6.11s\tremaining: 4m 19s\n",
      "23:\ttotal: 6.34s\tremaining: 4m 17s\n",
      "24:\ttotal: 6.59s\tremaining: 4m 16s\n",
      "25:\ttotal: 6.84s\tremaining: 4m 16s\n",
      "26:\ttotal: 7.07s\tremaining: 4m 14s\n",
      "27:\ttotal: 7.28s\tremaining: 4m 12s\n",
      "28:\ttotal: 7.54s\tremaining: 4m 12s\n",
      "29:\ttotal: 7.76s\tremaining: 4m 10s\n",
      "30:\ttotal: 7.98s\tremaining: 4m 9s\n",
      "31:\ttotal: 8.2s\tremaining: 4m 8s\n",
      "32:\ttotal: 8.44s\tremaining: 4m 7s\n",
      "33:\ttotal: 8.68s\tremaining: 4m 6s\n",
      "34:\ttotal: 8.9s\tremaining: 4m 5s\n",
      "35:\ttotal: 9.11s\tremaining: 4m 4s\n",
      "36:\ttotal: 9.4s\tremaining: 4m 4s\n",
      "37:\ttotal: 9.66s\tremaining: 4m 4s\n",
      "38:\ttotal: 9.96s\tremaining: 4m 5s\n",
      "39:\ttotal: 10.2s\tremaining: 4m 5s\n",
      "40:\ttotal: 10.5s\tremaining: 4m 5s\n",
      "41:\ttotal: 10.8s\tremaining: 4m 5s\n",
      "42:\ttotal: 11s\tremaining: 4m 4s\n",
      "43:\ttotal: 11.3s\tremaining: 4m 4s\n",
      "44:\ttotal: 11.4s\tremaining: 4m 2s\n",
      "45:\ttotal: 11.7s\tremaining: 4m 1s\n",
      "46:\ttotal: 11.9s\tremaining: 4m\n",
      "47:\ttotal: 12.1s\tremaining: 3m 59s\n",
      "48:\ttotal: 12.4s\tremaining: 4m\n",
      "49:\ttotal: 12.6s\tremaining: 3m 59s\n",
      "50:\ttotal: 12.8s\tremaining: 3m 59s\n",
      "51:\ttotal: 13.1s\tremaining: 3m 57s\n",
      "52:\ttotal: 13.3s\tremaining: 3m 57s\n",
      "53:\ttotal: 13.5s\tremaining: 3m 56s\n",
      "54:\ttotal: 13.8s\tremaining: 3m 56s\n",
      "55:\ttotal: 14s\tremaining: 3m 55s\n",
      "56:\ttotal: 14.2s\tremaining: 3m 55s\n",
      "57:\ttotal: 14.5s\tremaining: 3m 55s\n",
      "58:\ttotal: 14.7s\tremaining: 3m 55s\n",
      "59:\ttotal: 14.9s\tremaining: 3m 54s\n",
      "60:\ttotal: 15.2s\tremaining: 3m 53s\n",
      "61:\ttotal: 15.4s\tremaining: 3m 53s\n",
      "62:\ttotal: 15.6s\tremaining: 3m 52s\n",
      "63:\ttotal: 15.9s\tremaining: 3m 52s\n",
      "64:\ttotal: 16.1s\tremaining: 3m 51s\n",
      "65:\ttotal: 16.3s\tremaining: 3m 50s\n",
      "66:\ttotal: 16.5s\tremaining: 3m 50s\n",
      "67:\ttotal: 16.8s\tremaining: 3m 49s\n",
      "68:\ttotal: 17s\tremaining: 3m 49s\n",
      "69:\ttotal: 17.2s\tremaining: 3m 48s\n",
      "70:\ttotal: 17.4s\tremaining: 3m 48s\n",
      "71:\ttotal: 17.7s\tremaining: 3m 47s\n",
      "72:\ttotal: 18s\tremaining: 3m 48s\n",
      "73:\ttotal: 18.2s\tremaining: 3m 47s\n",
      "74:\ttotal: 18.4s\tremaining: 3m 47s\n",
      "75:\ttotal: 18.6s\tremaining: 3m 46s\n",
      "76:\ttotal: 18.9s\tremaining: 3m 46s\n",
      "77:\ttotal: 19.1s\tremaining: 3m 45s\n",
      "78:\ttotal: 19.3s\tremaining: 3m 45s\n",
      "79:\ttotal: 19.5s\tremaining: 3m 44s\n",
      "80:\ttotal: 19.8s\tremaining: 3m 44s\n",
      "81:\ttotal: 20.1s\tremaining: 3m 44s\n",
      "82:\ttotal: 20.3s\tremaining: 3m 44s\n",
      "83:\ttotal: 20.6s\tremaining: 3m 44s\n",
      "84:\ttotal: 20.8s\tremaining: 3m 44s\n",
      "85:\ttotal: 21s\tremaining: 3m 43s\n",
      "86:\ttotal: 21.3s\tremaining: 3m 43s\n",
      "87:\ttotal: 21.5s\tremaining: 3m 43s\n",
      "88:\ttotal: 21.8s\tremaining: 3m 42s\n",
      "89:\ttotal: 22s\tremaining: 3m 42s\n",
      "90:\ttotal: 22.2s\tremaining: 3m 41s\n",
      "91:\ttotal: 22.4s\tremaining: 3m 41s\n",
      "92:\ttotal: 22.6s\tremaining: 3m 40s\n",
      "93:\ttotal: 22.8s\tremaining: 3m 39s\n",
      "94:\ttotal: 23s\tremaining: 3m 38s\n",
      "95:\ttotal: 23.1s\tremaining: 3m 37s\n",
      "96:\ttotal: 23.4s\tremaining: 3m 37s\n",
      "97:\ttotal: 23.7s\tremaining: 3m 37s\n",
      "98:\ttotal: 23.9s\tremaining: 3m 37s\n",
      "99:\ttotal: 24.1s\tremaining: 3m 36s\n",
      "100:\ttotal: 24.3s\tremaining: 3m 36s\n",
      "101:\ttotal: 24.5s\tremaining: 3m 35s\n",
      "102:\ttotal: 24.8s\tremaining: 3m 35s\n",
      "103:\ttotal: 25s\tremaining: 3m 35s\n",
      "104:\ttotal: 25.3s\tremaining: 3m 35s\n",
      "105:\ttotal: 25.5s\tremaining: 3m 35s\n",
      "106:\ttotal: 25.7s\tremaining: 3m 34s\n",
      "107:\ttotal: 25.9s\tremaining: 3m 34s\n",
      "108:\ttotal: 26.1s\tremaining: 3m 33s\n",
      "109:\ttotal: 26.3s\tremaining: 3m 32s\n",
      "110:\ttotal: 26.5s\tremaining: 3m 32s\n",
      "111:\ttotal: 26.8s\tremaining: 3m 32s\n",
      "112:\ttotal: 27s\tremaining: 3m 31s\n",
      "113:\ttotal: 27.3s\tremaining: 3m 31s\n",
      "114:\ttotal: 27.5s\tremaining: 3m 31s\n",
      "115:\ttotal: 27.7s\tremaining: 3m 31s\n",
      "116:\ttotal: 28s\tremaining: 3m 30s\n",
      "117:\ttotal: 28.2s\tremaining: 3m 30s\n",
      "118:\ttotal: 28.3s\tremaining: 3m 29s\n",
      "119:\ttotal: 28.6s\tremaining: 3m 29s\n",
      "120:\ttotal: 28.8s\tremaining: 3m 29s\n",
      "121:\ttotal: 29s\tremaining: 3m 28s\n",
      "122:\ttotal: 29.2s\tremaining: 3m 28s\n",
      "123:\ttotal: 29.4s\tremaining: 3m 27s\n",
      "124:\ttotal: 29.6s\tremaining: 3m 27s\n",
      "125:\ttotal: 29.8s\tremaining: 3m 26s\n",
      "126:\ttotal: 30s\tremaining: 3m 25s\n",
      "127:\ttotal: 30.2s\tremaining: 3m 25s\n",
      "128:\ttotal: 30.4s\tremaining: 3m 25s\n",
      "129:\ttotal: 30.6s\tremaining: 3m 24s\n",
      "130:\ttotal: 30.7s\tremaining: 3m 23s\n",
      "131:\ttotal: 30.9s\tremaining: 3m 23s\n",
      "132:\ttotal: 31.1s\tremaining: 3m 22s\n",
      "133:\ttotal: 31.4s\tremaining: 3m 22s\n",
      "134:\ttotal: 31.6s\tremaining: 3m 22s\n",
      "135:\ttotal: 31.9s\tremaining: 3m 22s\n",
      "136:\ttotal: 32.1s\tremaining: 3m 22s\n",
      "137:\ttotal: 32.3s\tremaining: 3m 21s\n",
      "138:\ttotal: 32.6s\tremaining: 3m 21s\n",
      "139:\ttotal: 32.9s\tremaining: 3m 21s\n",
      "140:\ttotal: 33.2s\tremaining: 3m 21s\n",
      "141:\ttotal: 33.4s\tremaining: 3m 21s\n",
      "142:\ttotal: 33.7s\tremaining: 3m 21s\n",
      "143:\ttotal: 34s\tremaining: 3m 21s\n",
      "144:\ttotal: 34.2s\tremaining: 3m 21s\n",
      "145:\ttotal: 34.5s\tremaining: 3m 21s\n",
      "146:\ttotal: 34.8s\tremaining: 3m 21s\n",
      "147:\ttotal: 35s\tremaining: 3m 21s\n",
      "148:\ttotal: 35.2s\tremaining: 3m 21s\n",
      "149:\ttotal: 35.4s\tremaining: 3m 20s\n",
      "150:\ttotal: 35.6s\tremaining: 3m 20s\n",
      "151:\ttotal: 35.9s\tremaining: 3m 20s\n",
      "152:\ttotal: 36s\tremaining: 3m 19s\n",
      "153:\ttotal: 36.3s\tremaining: 3m 19s\n",
      "154:\ttotal: 36.5s\tremaining: 3m 19s\n",
      "155:\ttotal: 36.8s\tremaining: 3m 19s\n",
      "156:\ttotal: 37s\tremaining: 3m 18s\n",
      "157:\ttotal: 37.2s\tremaining: 3m 18s\n",
      "158:\ttotal: 37.4s\tremaining: 3m 17s\n",
      "159:\ttotal: 37.6s\tremaining: 3m 17s\n",
      "160:\ttotal: 37.8s\tremaining: 3m 16s\n",
      "161:\ttotal: 38s\tremaining: 3m 16s\n",
      "162:\ttotal: 38.3s\tremaining: 3m 16s\n",
      "163:\ttotal: 38.4s\tremaining: 3m 15s\n",
      "164:\ttotal: 38.6s\tremaining: 3m 15s\n",
      "165:\ttotal: 38.8s\tremaining: 3m 15s\n",
      "166:\ttotal: 39s\tremaining: 3m 14s\n",
      "167:\ttotal: 39.2s\tremaining: 3m 14s\n",
      "168:\ttotal: 39.4s\tremaining: 3m 13s\n",
      "169:\ttotal: 39.7s\tremaining: 3m 13s\n",
      "170:\ttotal: 39.9s\tremaining: 3m 13s\n",
      "171:\ttotal: 40.1s\tremaining: 3m 12s\n",
      "172:\ttotal: 40.3s\tremaining: 3m 12s\n",
      "173:\ttotal: 40.5s\tremaining: 3m 12s\n",
      "174:\ttotal: 40.7s\tremaining: 3m 11s\n",
      "175:\ttotal: 40.9s\tremaining: 3m 11s\n",
      "176:\ttotal: 41.1s\tremaining: 3m 11s\n",
      "177:\ttotal: 41.3s\tremaining: 3m 10s\n",
      "178:\ttotal: 41.5s\tremaining: 3m 10s\n",
      "179:\ttotal: 41.8s\tremaining: 3m 10s\n",
      "180:\ttotal: 42s\tremaining: 3m 10s\n",
      "181:\ttotal: 42.2s\tremaining: 3m 9s\n",
      "182:\ttotal: 42.4s\tremaining: 3m 9s\n",
      "183:\ttotal: 42.6s\tremaining: 3m 8s\n",
      "184:\ttotal: 42.8s\tremaining: 3m 8s\n",
      "185:\ttotal: 43.1s\tremaining: 3m 8s\n",
      "186:\ttotal: 43.4s\tremaining: 3m 8s\n",
      "187:\ttotal: 43.6s\tremaining: 3m 8s\n",
      "188:\ttotal: 43.9s\tremaining: 3m 8s\n",
      "189:\ttotal: 44.1s\tremaining: 3m 7s\n",
      "190:\ttotal: 44.3s\tremaining: 3m 7s\n",
      "191:\ttotal: 44.5s\tremaining: 3m 7s\n",
      "192:\ttotal: 44.7s\tremaining: 3m 7s\n",
      "193:\ttotal: 44.9s\tremaining: 3m 6s\n",
      "194:\ttotal: 45.2s\tremaining: 3m 6s\n",
      "195:\ttotal: 45.4s\tremaining: 3m 6s\n",
      "196:\ttotal: 45.6s\tremaining: 3m 5s\n",
      "197:\ttotal: 45.8s\tremaining: 3m 5s\n",
      "198:\ttotal: 46s\tremaining: 3m 5s\n",
      "199:\ttotal: 46.2s\tremaining: 3m 4s\n",
      "200:\ttotal: 46.4s\tremaining: 3m 4s\n",
      "201:\ttotal: 46.5s\tremaining: 3m 3s\n",
      "202:\ttotal: 46.7s\tremaining: 3m 3s\n",
      "203:\ttotal: 46.9s\tremaining: 3m 3s\n",
      "204:\ttotal: 47.1s\tremaining: 3m 2s\n",
      "205:\ttotal: 47.3s\tremaining: 3m 2s\n",
      "206:\ttotal: 47.6s\tremaining: 3m 2s\n",
      "207:\ttotal: 47.8s\tremaining: 3m 1s\n",
      "208:\ttotal: 48s\tremaining: 3m 1s\n",
      "209:\ttotal: 48.2s\tremaining: 3m 1s\n",
      "210:\ttotal: 48.4s\tremaining: 3m\n",
      "211:\ttotal: 48.6s\tremaining: 3m\n",
      "212:\ttotal: 48.8s\tremaining: 3m\n",
      "213:\ttotal: 49.2s\tremaining: 3m\n",
      "214:\ttotal: 49.5s\tremaining: 3m\n",
      "215:\ttotal: 49.7s\tremaining: 3m\n",
      "216:\ttotal: 49.9s\tremaining: 3m\n",
      "217:\ttotal: 50.1s\tremaining: 2m 59s\n",
      "218:\ttotal: 50.3s\tremaining: 2m 59s\n",
      "219:\ttotal: 50.4s\tremaining: 2m 58s\n",
      "220:\ttotal: 50.6s\tremaining: 2m 58s\n",
      "221:\ttotal: 50.9s\tremaining: 2m 58s\n",
      "222:\ttotal: 51.1s\tremaining: 2m 57s\n",
      "223:\ttotal: 51.3s\tremaining: 2m 57s\n",
      "224:\ttotal: 51.6s\tremaining: 2m 57s\n",
      "225:\ttotal: 51.7s\tremaining: 2m 57s\n",
      "226:\ttotal: 52s\tremaining: 2m 57s\n",
      "227:\ttotal: 52.3s\tremaining: 2m 57s\n",
      "228:\ttotal: 52.5s\tremaining: 2m 56s\n",
      "229:\ttotal: 52.7s\tremaining: 2m 56s\n",
      "230:\ttotal: 52.9s\tremaining: 2m 56s\n",
      "231:\ttotal: 53.1s\tremaining: 2m 55s\n",
      "232:\ttotal: 53.3s\tremaining: 2m 55s\n",
      "233:\ttotal: 53.5s\tremaining: 2m 55s\n",
      "234:\ttotal: 53.8s\tremaining: 2m 54s\n",
      "235:\ttotal: 54s\tremaining: 2m 54s\n",
      "236:\ttotal: 54.2s\tremaining: 2m 54s\n",
      "237:\ttotal: 54.4s\tremaining: 2m 54s\n",
      "238:\ttotal: 54.6s\tremaining: 2m 54s\n",
      "239:\ttotal: 55s\tremaining: 2m 54s\n",
      "240:\ttotal: 55.3s\tremaining: 2m 54s\n",
      "241:\ttotal: 55.6s\tremaining: 2m 54s\n",
      "242:\ttotal: 55.8s\tremaining: 2m 53s\n",
      "243:\ttotal: 56.1s\tremaining: 2m 53s\n",
      "244:\ttotal: 56.3s\tremaining: 2m 53s\n",
      "245:\ttotal: 56.6s\tremaining: 2m 53s\n",
      "246:\ttotal: 56.8s\tremaining: 2m 53s\n",
      "247:\ttotal: 57s\tremaining: 2m 52s\n",
      "248:\ttotal: 57.1s\tremaining: 2m 52s\n",
      "249:\ttotal: 57.3s\tremaining: 2m 51s\n",
      "250:\ttotal: 57.5s\tremaining: 2m 51s\n",
      "251:\ttotal: 57.7s\tremaining: 2m 51s\n",
      "252:\ttotal: 57.9s\tremaining: 2m 51s\n",
      "253:\ttotal: 58.1s\tremaining: 2m 50s\n",
      "254:\ttotal: 58.3s\tremaining: 2m 50s\n",
      "255:\ttotal: 58.5s\tremaining: 2m 50s\n",
      "256:\ttotal: 58.8s\tremaining: 2m 49s\n",
      "257:\ttotal: 59s\tremaining: 2m 49s\n",
      "258:\ttotal: 59.3s\tremaining: 2m 49s\n",
      "259:\ttotal: 59.5s\tremaining: 2m 49s\n",
      "260:\ttotal: 59.7s\tremaining: 2m 49s\n",
      "261:\ttotal: 60s\tremaining: 2m 48s\n",
      "262:\ttotal: 1m\tremaining: 2m 48s\n",
      "263:\ttotal: 1m\tremaining: 2m 48s\n",
      "264:\ttotal: 1m\tremaining: 2m 48s\n",
      "265:\ttotal: 1m\tremaining: 2m 48s\n",
      "266:\ttotal: 1m 1s\tremaining: 2m 48s\n",
      "267:\ttotal: 1m 1s\tremaining: 2m 47s\n",
      "268:\ttotal: 1m 1s\tremaining: 2m 47s\n",
      "269:\ttotal: 1m 1s\tremaining: 2m 47s\n",
      "270:\ttotal: 1m 2s\tremaining: 2m 47s\n",
      "271:\ttotal: 1m 2s\tremaining: 2m 47s\n",
      "272:\ttotal: 1m 2s\tremaining: 2m 47s\n",
      "273:\ttotal: 1m 3s\tremaining: 2m 47s\n",
      "274:\ttotal: 1m 3s\tremaining: 2m 46s\n",
      "275:\ttotal: 1m 3s\tremaining: 2m 46s\n",
      "276:\ttotal: 1m 3s\tremaining: 2m 46s\n",
      "277:\ttotal: 1m 3s\tremaining: 2m 45s\n",
      "278:\ttotal: 1m 4s\tremaining: 2m 46s\n",
      "279:\ttotal: 1m 4s\tremaining: 2m 45s\n",
      "280:\ttotal: 1m 4s\tremaining: 2m 45s\n",
      "281:\ttotal: 1m 4s\tremaining: 2m 45s\n",
      "282:\ttotal: 1m 5s\tremaining: 2m 45s\n",
      "283:\ttotal: 1m 5s\tremaining: 2m 45s\n",
      "284:\ttotal: 1m 5s\tremaining: 2m 45s\n",
      "285:\ttotal: 1m 6s\tremaining: 2m 45s\n",
      "286:\ttotal: 1m 6s\tremaining: 2m 45s\n",
      "287:\ttotal: 1m 6s\tremaining: 2m 45s\n",
      "288:\ttotal: 1m 7s\tremaining: 2m 45s\n",
      "289:\ttotal: 1m 7s\tremaining: 2m 45s\n",
      "290:\ttotal: 1m 7s\tremaining: 2m 44s\n",
      "291:\ttotal: 1m 7s\tremaining: 2m 44s\n",
      "292:\ttotal: 1m 8s\tremaining: 2m 44s\n",
      "293:\ttotal: 1m 8s\tremaining: 2m 44s\n",
      "294:\ttotal: 1m 8s\tremaining: 2m 44s\n",
      "295:\ttotal: 1m 8s\tremaining: 2m 43s\n",
      "296:\ttotal: 1m 9s\tremaining: 2m 43s\n",
      "297:\ttotal: 1m 9s\tremaining: 2m 43s\n",
      "298:\ttotal: 1m 9s\tremaining: 2m 43s\n",
      "299:\ttotal: 1m 9s\tremaining: 2m 42s\n",
      "300:\ttotal: 1m 10s\tremaining: 2m 42s\n",
      "301:\ttotal: 1m 10s\tremaining: 2m 42s\n",
      "302:\ttotal: 1m 10s\tremaining: 2m 42s\n",
      "303:\ttotal: 1m 10s\tremaining: 2m 41s\n",
      "304:\ttotal: 1m 10s\tremaining: 2m 41s\n",
      "305:\ttotal: 1m 11s\tremaining: 2m 41s\n",
      "306:\ttotal: 1m 11s\tremaining: 2m 41s\n",
      "307:\ttotal: 1m 11s\tremaining: 2m 40s\n",
      "308:\ttotal: 1m 11s\tremaining: 2m 40s\n",
      "309:\ttotal: 1m 11s\tremaining: 2m 40s\n",
      "310:\ttotal: 1m 12s\tremaining: 2m 39s\n",
      "311:\ttotal: 1m 12s\tremaining: 2m 39s\n",
      "312:\ttotal: 1m 12s\tremaining: 2m 39s\n",
      "313:\ttotal: 1m 12s\tremaining: 2m 39s\n",
      "314:\ttotal: 1m 13s\tremaining: 2m 38s\n",
      "315:\ttotal: 1m 13s\tremaining: 2m 38s\n",
      "316:\ttotal: 1m 13s\tremaining: 2m 38s\n",
      "317:\ttotal: 1m 13s\tremaining: 2m 38s\n",
      "318:\ttotal: 1m 14s\tremaining: 2m 38s\n",
      "319:\ttotal: 1m 14s\tremaining: 2m 37s\n",
      "320:\ttotal: 1m 14s\tremaining: 2m 37s\n",
      "321:\ttotal: 1m 14s\tremaining: 2m 37s\n",
      "322:\ttotal: 1m 14s\tremaining: 2m 37s\n",
      "323:\ttotal: 1m 15s\tremaining: 2m 36s\n",
      "324:\ttotal: 1m 15s\tremaining: 2m 36s\n",
      "325:\ttotal: 1m 15s\tremaining: 2m 36s\n",
      "326:\ttotal: 1m 15s\tremaining: 2m 36s\n",
      "327:\ttotal: 1m 16s\tremaining: 2m 36s\n",
      "328:\ttotal: 1m 16s\tremaining: 2m 35s\n",
      "329:\ttotal: 1m 16s\tremaining: 2m 35s\n",
      "330:\ttotal: 1m 16s\tremaining: 2m 35s\n",
      "331:\ttotal: 1m 17s\tremaining: 2m 35s\n",
      "332:\ttotal: 1m 17s\tremaining: 2m 34s\n",
      "333:\ttotal: 1m 17s\tremaining: 2m 34s\n",
      "334:\ttotal: 1m 17s\tremaining: 2m 34s\n",
      "335:\ttotal: 1m 17s\tremaining: 2m 34s\n",
      "336:\ttotal: 1m 18s\tremaining: 2m 33s\n",
      "337:\ttotal: 1m 18s\tremaining: 2m 33s\n",
      "338:\ttotal: 1m 18s\tremaining: 2m 33s\n",
      "339:\ttotal: 1m 19s\tremaining: 2m 33s\n",
      "340:\ttotal: 1m 19s\tremaining: 2m 33s\n",
      "341:\ttotal: 1m 19s\tremaining: 2m 33s\n",
      "342:\ttotal: 1m 19s\tremaining: 2m 32s\n",
      "343:\ttotal: 1m 20s\tremaining: 2m 32s\n",
      "344:\ttotal: 1m 20s\tremaining: 2m 32s\n",
      "345:\ttotal: 1m 20s\tremaining: 2m 32s\n",
      "346:\ttotal: 1m 20s\tremaining: 2m 32s\n",
      "347:\ttotal: 1m 20s\tremaining: 2m 31s\n",
      "348:\ttotal: 1m 21s\tremaining: 2m 31s\n",
      "349:\ttotal: 1m 21s\tremaining: 2m 31s\n",
      "350:\ttotal: 1m 21s\tremaining: 2m 30s\n",
      "351:\ttotal: 1m 21s\tremaining: 2m 30s\n",
      "352:\ttotal: 1m 22s\tremaining: 2m 30s\n",
      "353:\ttotal: 1m 22s\tremaining: 2m 30s\n",
      "354:\ttotal: 1m 22s\tremaining: 2m 29s\n",
      "355:\ttotal: 1m 22s\tremaining: 2m 29s\n",
      "356:\ttotal: 1m 22s\tremaining: 2m 29s\n",
      "357:\ttotal: 1m 23s\tremaining: 2m 29s\n",
      "358:\ttotal: 1m 23s\tremaining: 2m 28s\n",
      "359:\ttotal: 1m 23s\tremaining: 2m 28s\n",
      "360:\ttotal: 1m 23s\tremaining: 2m 28s\n",
      "361:\ttotal: 1m 24s\tremaining: 2m 28s\n",
      "362:\ttotal: 1m 24s\tremaining: 2m 27s\n",
      "363:\ttotal: 1m 24s\tremaining: 2m 27s\n",
      "364:\ttotal: 1m 24s\tremaining: 2m 27s\n",
      "365:\ttotal: 1m 25s\tremaining: 2m 27s\n",
      "366:\ttotal: 1m 25s\tremaining: 2m 27s\n",
      "367:\ttotal: 1m 25s\tremaining: 2m 26s\n",
      "368:\ttotal: 1m 25s\tremaining: 2m 26s\n",
      "369:\ttotal: 1m 26s\tremaining: 2m 26s\n",
      "370:\ttotal: 1m 26s\tremaining: 2m 26s\n",
      "371:\ttotal: 1m 26s\tremaining: 2m 26s\n",
      "372:\ttotal: 1m 26s\tremaining: 2m 25s\n",
      "373:\ttotal: 1m 26s\tremaining: 2m 25s\n",
      "374:\ttotal: 1m 27s\tremaining: 2m 25s\n",
      "375:\ttotal: 1m 27s\tremaining: 2m 25s\n",
      "376:\ttotal: 1m 27s\tremaining: 2m 24s\n",
      "377:\ttotal: 1m 27s\tremaining: 2m 24s\n",
      "378:\ttotal: 1m 28s\tremaining: 2m 24s\n",
      "379:\ttotal: 1m 28s\tremaining: 2m 24s\n",
      "380:\ttotal: 1m 28s\tremaining: 2m 23s\n",
      "381:\ttotal: 1m 28s\tremaining: 2m 23s\n",
      "382:\ttotal: 1m 29s\tremaining: 2m 23s\n",
      "383:\ttotal: 1m 29s\tremaining: 2m 23s\n",
      "384:\ttotal: 1m 29s\tremaining: 2m 23s\n",
      "385:\ttotal: 1m 29s\tremaining: 2m 22s\n",
      "386:\ttotal: 1m 30s\tremaining: 2m 22s\n",
      "387:\ttotal: 1m 30s\tremaining: 2m 22s\n",
      "388:\ttotal: 1m 30s\tremaining: 2m 22s\n",
      "389:\ttotal: 1m 30s\tremaining: 2m 22s\n",
      "390:\ttotal: 1m 31s\tremaining: 2m 21s\n",
      "391:\ttotal: 1m 31s\tremaining: 2m 21s\n",
      "392:\ttotal: 1m 31s\tremaining: 2m 21s\n",
      "393:\ttotal: 1m 31s\tremaining: 2m 21s\n",
      "394:\ttotal: 1m 32s\tremaining: 2m 20s\n",
      "395:\ttotal: 1m 32s\tremaining: 2m 20s\n",
      "396:\ttotal: 1m 32s\tremaining: 2m 20s\n",
      "397:\ttotal: 1m 32s\tremaining: 2m 20s\n",
      "398:\ttotal: 1m 32s\tremaining: 2m 19s\n",
      "399:\ttotal: 1m 33s\tremaining: 2m 19s\n",
      "400:\ttotal: 1m 33s\tremaining: 2m 19s\n",
      "401:\ttotal: 1m 33s\tremaining: 2m 19s\n",
      "402:\ttotal: 1m 33s\tremaining: 2m 19s\n",
      "403:\ttotal: 1m 34s\tremaining: 2m 19s\n",
      "404:\ttotal: 1m 34s\tremaining: 2m 18s\n",
      "405:\ttotal: 1m 34s\tremaining: 2m 18s\n",
      "406:\ttotal: 1m 35s\tremaining: 2m 18s\n",
      "407:\ttotal: 1m 35s\tremaining: 2m 18s\n",
      "408:\ttotal: 1m 35s\tremaining: 2m 18s\n",
      "409:\ttotal: 1m 35s\tremaining: 2m 18s\n",
      "410:\ttotal: 1m 36s\tremaining: 2m 17s\n",
      "411:\ttotal: 1m 36s\tremaining: 2m 17s\n",
      "412:\ttotal: 1m 36s\tremaining: 2m 17s\n",
      "413:\ttotal: 1m 37s\tremaining: 2m 17s\n",
      "414:\ttotal: 1m 37s\tremaining: 2m 17s\n",
      "415:\ttotal: 1m 37s\tremaining: 2m 17s\n",
      "416:\ttotal: 1m 38s\tremaining: 2m 17s\n",
      "417:\ttotal: 1m 38s\tremaining: 2m 17s\n",
      "418:\ttotal: 1m 39s\tremaining: 2m 17s\n",
      "419:\ttotal: 1m 39s\tremaining: 2m 17s\n",
      "420:\ttotal: 1m 40s\tremaining: 2m 17s\n",
      "421:\ttotal: 1m 40s\tremaining: 2m 18s\n",
      "422:\ttotal: 1m 41s\tremaining: 2m 17s\n",
      "423:\ttotal: 1m 41s\tremaining: 2m 17s\n",
      "424:\ttotal: 1m 41s\tremaining: 2m 17s\n",
      "425:\ttotal: 1m 42s\tremaining: 2m 17s\n",
      "426:\ttotal: 1m 42s\tremaining: 2m 17s\n",
      "427:\ttotal: 1m 42s\tremaining: 2m 17s\n",
      "428:\ttotal: 1m 43s\tremaining: 2m 17s\n",
      "429:\ttotal: 1m 43s\tremaining: 2m 17s\n",
      "430:\ttotal: 1m 43s\tremaining: 2m 17s\n",
      "431:\ttotal: 1m 44s\tremaining: 2m 17s\n",
      "432:\ttotal: 1m 44s\tremaining: 2m 17s\n",
      "433:\ttotal: 1m 45s\tremaining: 2m 17s\n",
      "434:\ttotal: 1m 45s\tremaining: 2m 17s\n",
      "435:\ttotal: 1m 45s\tremaining: 2m 16s\n",
      "436:\ttotal: 1m 46s\tremaining: 2m 16s\n",
      "437:\ttotal: 1m 46s\tremaining: 2m 16s\n",
      "438:\ttotal: 1m 46s\tremaining: 2m 16s\n",
      "439:\ttotal: 1m 46s\tremaining: 2m 16s\n",
      "440:\ttotal: 1m 47s\tremaining: 2m 15s\n",
      "441:\ttotal: 1m 47s\tremaining: 2m 15s\n",
      "442:\ttotal: 1m 47s\tremaining: 2m 15s\n",
      "443:\ttotal: 1m 47s\tremaining: 2m 15s\n",
      "444:\ttotal: 1m 48s\tremaining: 2m 14s\n",
      "445:\ttotal: 1m 48s\tremaining: 2m 14s\n",
      "446:\ttotal: 1m 48s\tremaining: 2m 14s\n",
      "447:\ttotal: 1m 48s\tremaining: 2m 14s\n",
      "448:\ttotal: 1m 49s\tremaining: 2m 13s\n",
      "449:\ttotal: 1m 49s\tremaining: 2m 13s\n",
      "450:\ttotal: 1m 49s\tremaining: 2m 13s\n",
      "451:\ttotal: 1m 49s\tremaining: 2m 13s\n",
      "452:\ttotal: 1m 50s\tremaining: 2m 12s\n",
      "453:\ttotal: 1m 50s\tremaining: 2m 12s\n",
      "454:\ttotal: 1m 50s\tremaining: 2m 12s\n",
      "455:\ttotal: 1m 50s\tremaining: 2m 12s\n",
      "456:\ttotal: 1m 51s\tremaining: 2m 12s\n",
      "457:\ttotal: 1m 51s\tremaining: 2m 12s\n",
      "458:\ttotal: 1m 51s\tremaining: 2m 11s\n",
      "459:\ttotal: 1m 52s\tremaining: 2m 11s\n",
      "460:\ttotal: 1m 52s\tremaining: 2m 11s\n",
      "461:\ttotal: 1m 52s\tremaining: 2m 11s\n",
      "462:\ttotal: 1m 52s\tremaining: 2m 10s\n",
      "463:\ttotal: 1m 53s\tremaining: 2m 10s\n",
      "464:\ttotal: 1m 53s\tremaining: 2m 10s\n",
      "465:\ttotal: 1m 53s\tremaining: 2m 10s\n",
      "466:\ttotal: 1m 53s\tremaining: 2m 9s\n",
      "467:\ttotal: 1m 54s\tremaining: 2m 9s\n",
      "468:\ttotal: 1m 54s\tremaining: 2m 9s\n",
      "469:\ttotal: 1m 54s\tremaining: 2m 9s\n",
      "470:\ttotal: 1m 54s\tremaining: 2m 9s\n",
      "471:\ttotal: 1m 55s\tremaining: 2m 8s\n",
      "472:\ttotal: 1m 55s\tremaining: 2m 8s\n",
      "473:\ttotal: 1m 55s\tremaining: 2m 8s\n",
      "474:\ttotal: 1m 55s\tremaining: 2m 8s\n",
      "475:\ttotal: 1m 56s\tremaining: 2m 7s\n",
      "476:\ttotal: 1m 56s\tremaining: 2m 7s\n",
      "477:\ttotal: 1m 56s\tremaining: 2m 7s\n",
      "478:\ttotal: 1m 56s\tremaining: 2m 7s\n",
      "479:\ttotal: 1m 57s\tremaining: 2m 6s\n",
      "480:\ttotal: 1m 57s\tremaining: 2m 6s\n",
      "481:\ttotal: 1m 57s\tremaining: 2m 6s\n",
      "482:\ttotal: 1m 57s\tremaining: 2m 6s\n",
      "483:\ttotal: 1m 58s\tremaining: 2m 5s\n",
      "484:\ttotal: 1m 58s\tremaining: 2m 5s\n",
      "485:\ttotal: 1m 58s\tremaining: 2m 5s\n",
      "486:\ttotal: 1m 58s\tremaining: 2m 5s\n",
      "487:\ttotal: 1m 59s\tremaining: 2m 4s\n",
      "488:\ttotal: 1m 59s\tremaining: 2m 4s\n",
      "489:\ttotal: 1m 59s\tremaining: 2m 4s\n",
      "490:\ttotal: 1m 59s\tremaining: 2m 4s\n",
      "491:\ttotal: 1m 59s\tremaining: 2m 3s\n",
      "492:\ttotal: 2m\tremaining: 2m 3s\n",
      "493:\ttotal: 2m\tremaining: 2m 3s\n",
      "494:\ttotal: 2m\tremaining: 2m 3s\n",
      "495:\ttotal: 2m 1s\tremaining: 2m 3s\n",
      "496:\ttotal: 2m 1s\tremaining: 2m 2s\n",
      "497:\ttotal: 2m 1s\tremaining: 2m 2s\n",
      "498:\ttotal: 2m 1s\tremaining: 2m 2s\n",
      "499:\ttotal: 2m 2s\tremaining: 2m 2s\n",
      "500:\ttotal: 2m 2s\tremaining: 2m 1s\n",
      "501:\ttotal: 2m 2s\tremaining: 2m 1s\n",
      "502:\ttotal: 2m 2s\tremaining: 2m 1s\n",
      "503:\ttotal: 2m 3s\tremaining: 2m 1s\n",
      "504:\ttotal: 2m 3s\tremaining: 2m\n",
      "505:\ttotal: 2m 3s\tremaining: 2m\n",
      "506:\ttotal: 2m 3s\tremaining: 2m\n",
      "507:\ttotal: 2m 4s\tremaining: 2m\n",
      "508:\ttotal: 2m 4s\tremaining: 2m\n",
      "509:\ttotal: 2m 4s\tremaining: 2m\n",
      "510:\ttotal: 2m 5s\tremaining: 1m 59s\n",
      "511:\ttotal: 2m 5s\tremaining: 1m 59s\n",
      "512:\ttotal: 2m 5s\tremaining: 1m 59s\n",
      "513:\ttotal: 2m 6s\tremaining: 1m 59s\n",
      "514:\ttotal: 2m 6s\tremaining: 1m 59s\n",
      "515:\ttotal: 2m 6s\tremaining: 1m 58s\n",
      "516:\ttotal: 2m 6s\tremaining: 1m 58s\n",
      "517:\ttotal: 2m 7s\tremaining: 1m 58s\n",
      "518:\ttotal: 2m 7s\tremaining: 1m 58s\n",
      "519:\ttotal: 2m 7s\tremaining: 1m 58s\n",
      "520:\ttotal: 2m 8s\tremaining: 1m 57s\n",
      "521:\ttotal: 2m 8s\tremaining: 1m 57s\n",
      "522:\ttotal: 2m 8s\tremaining: 1m 57s\n",
      "523:\ttotal: 2m 9s\tremaining: 1m 57s\n",
      "524:\ttotal: 2m 9s\tremaining: 1m 57s\n",
      "525:\ttotal: 2m 9s\tremaining: 1m 57s\n",
      "526:\ttotal: 2m 10s\tremaining: 1m 56s\n",
      "527:\ttotal: 2m 10s\tremaining: 1m 56s\n",
      "528:\ttotal: 2m 10s\tremaining: 1m 56s\n",
      "529:\ttotal: 2m 11s\tremaining: 1m 56s\n",
      "530:\ttotal: 2m 11s\tremaining: 1m 56s\n",
      "531:\ttotal: 2m 11s\tremaining: 1m 55s\n",
      "532:\ttotal: 2m 12s\tremaining: 1m 55s\n",
      "533:\ttotal: 2m 12s\tremaining: 1m 55s\n",
      "534:\ttotal: 2m 12s\tremaining: 1m 55s\n",
      "535:\ttotal: 2m 13s\tremaining: 1m 55s\n",
      "536:\ttotal: 2m 13s\tremaining: 1m 55s\n",
      "537:\ttotal: 2m 13s\tremaining: 1m 54s\n",
      "538:\ttotal: 2m 14s\tremaining: 1m 54s\n",
      "539:\ttotal: 2m 14s\tremaining: 1m 54s\n",
      "540:\ttotal: 2m 14s\tremaining: 1m 54s\n",
      "541:\ttotal: 2m 14s\tremaining: 1m 53s\n",
      "542:\ttotal: 2m 15s\tremaining: 1m 53s\n",
      "543:\ttotal: 2m 15s\tremaining: 1m 53s\n",
      "544:\ttotal: 2m 15s\tremaining: 1m 53s\n",
      "545:\ttotal: 2m 15s\tremaining: 1m 52s\n",
      "546:\ttotal: 2m 15s\tremaining: 1m 52s\n",
      "547:\ttotal: 2m 16s\tremaining: 1m 52s\n",
      "548:\ttotal: 2m 16s\tremaining: 1m 52s\n",
      "549:\ttotal: 2m 16s\tremaining: 1m 51s\n",
      "550:\ttotal: 2m 17s\tremaining: 1m 51s\n",
      "551:\ttotal: 2m 17s\tremaining: 1m 51s\n",
      "552:\ttotal: 2m 17s\tremaining: 1m 51s\n",
      "553:\ttotal: 2m 17s\tremaining: 1m 50s\n",
      "554:\ttotal: 2m 18s\tremaining: 1m 50s\n",
      "555:\ttotal: 2m 18s\tremaining: 1m 50s\n",
      "556:\ttotal: 2m 18s\tremaining: 1m 50s\n",
      "557:\ttotal: 2m 18s\tremaining: 1m 50s\n",
      "558:\ttotal: 2m 19s\tremaining: 1m 49s\n",
      "559:\ttotal: 2m 19s\tremaining: 1m 49s\n",
      "560:\ttotal: 2m 19s\tremaining: 1m 49s\n",
      "561:\ttotal: 2m 19s\tremaining: 1m 49s\n",
      "562:\ttotal: 2m 20s\tremaining: 1m 48s\n",
      "563:\ttotal: 2m 20s\tremaining: 1m 48s\n",
      "564:\ttotal: 2m 20s\tremaining: 1m 48s\n",
      "565:\ttotal: 2m 20s\tremaining: 1m 48s\n",
      "566:\ttotal: 2m 21s\tremaining: 1m 47s\n",
      "567:\ttotal: 2m 21s\tremaining: 1m 47s\n",
      "568:\ttotal: 2m 21s\tremaining: 1m 47s\n",
      "569:\ttotal: 2m 21s\tremaining: 1m 46s\n",
      "570:\ttotal: 2m 22s\tremaining: 1m 46s\n",
      "571:\ttotal: 2m 22s\tremaining: 1m 46s\n",
      "572:\ttotal: 2m 22s\tremaining: 1m 46s\n",
      "573:\ttotal: 2m 22s\tremaining: 1m 46s\n",
      "574:\ttotal: 2m 23s\tremaining: 1m 45s\n",
      "575:\ttotal: 2m 23s\tremaining: 1m 45s\n",
      "576:\ttotal: 2m 23s\tremaining: 1m 45s\n",
      "577:\ttotal: 2m 23s\tremaining: 1m 45s\n",
      "578:\ttotal: 2m 24s\tremaining: 1m 44s\n",
      "579:\ttotal: 2m 24s\tremaining: 1m 44s\n",
      "580:\ttotal: 2m 24s\tremaining: 1m 44s\n",
      "581:\ttotal: 2m 24s\tremaining: 1m 44s\n",
      "582:\ttotal: 2m 25s\tremaining: 1m 43s\n",
      "583:\ttotal: 2m 25s\tremaining: 1m 43s\n",
      "584:\ttotal: 2m 25s\tremaining: 1m 43s\n",
      "585:\ttotal: 2m 26s\tremaining: 1m 43s\n",
      "586:\ttotal: 2m 26s\tremaining: 1m 42s\n",
      "587:\ttotal: 2m 26s\tremaining: 1m 42s\n",
      "588:\ttotal: 2m 26s\tremaining: 1m 42s\n",
      "589:\ttotal: 2m 27s\tremaining: 1m 42s\n",
      "590:\ttotal: 2m 27s\tremaining: 1m 42s\n",
      "591:\ttotal: 2m 27s\tremaining: 1m 41s\n",
      "592:\ttotal: 2m 28s\tremaining: 1m 41s\n",
      "593:\ttotal: 2m 28s\tremaining: 1m 41s\n",
      "594:\ttotal: 2m 28s\tremaining: 1m 41s\n",
      "595:\ttotal: 2m 28s\tremaining: 1m 40s\n",
      "596:\ttotal: 2m 28s\tremaining: 1m 40s\n",
      "597:\ttotal: 2m 29s\tremaining: 1m 40s\n",
      "598:\ttotal: 2m 29s\tremaining: 1m 40s\n",
      "599:\ttotal: 2m 29s\tremaining: 1m 39s\n",
      "600:\ttotal: 2m 29s\tremaining: 1m 39s\n",
      "601:\ttotal: 2m 30s\tremaining: 1m 39s\n",
      "602:\ttotal: 2m 30s\tremaining: 1m 39s\n",
      "603:\ttotal: 2m 30s\tremaining: 1m 38s\n",
      "604:\ttotal: 2m 30s\tremaining: 1m 38s\n",
      "605:\ttotal: 2m 31s\tremaining: 1m 38s\n",
      "606:\ttotal: 2m 31s\tremaining: 1m 38s\n",
      "607:\ttotal: 2m 31s\tremaining: 1m 37s\n",
      "608:\ttotal: 2m 31s\tremaining: 1m 37s\n",
      "609:\ttotal: 2m 32s\tremaining: 1m 37s\n",
      "610:\ttotal: 2m 32s\tremaining: 1m 37s\n",
      "611:\ttotal: 2m 32s\tremaining: 1m 36s\n",
      "612:\ttotal: 2m 32s\tremaining: 1m 36s\n",
      "613:\ttotal: 2m 32s\tremaining: 1m 36s\n",
      "614:\ttotal: 2m 33s\tremaining: 1m 35s\n",
      "615:\ttotal: 2m 33s\tremaining: 1m 35s\n",
      "616:\ttotal: 2m 33s\tremaining: 1m 35s\n",
      "617:\ttotal: 2m 33s\tremaining: 1m 35s\n",
      "618:\ttotal: 2m 34s\tremaining: 1m 34s\n",
      "619:\ttotal: 2m 34s\tremaining: 1m 34s\n",
      "620:\ttotal: 2m 34s\tremaining: 1m 34s\n",
      "621:\ttotal: 2m 34s\tremaining: 1m 34s\n",
      "622:\ttotal: 2m 35s\tremaining: 1m 33s\n",
      "623:\ttotal: 2m 35s\tremaining: 1m 33s\n",
      "624:\ttotal: 2m 35s\tremaining: 1m 33s\n",
      "625:\ttotal: 2m 35s\tremaining: 1m 32s\n",
      "626:\ttotal: 2m 35s\tremaining: 1m 32s\n",
      "627:\ttotal: 2m 36s\tremaining: 1m 32s\n",
      "628:\ttotal: 2m 36s\tremaining: 1m 32s\n",
      "629:\ttotal: 2m 36s\tremaining: 1m 31s\n",
      "630:\ttotal: 2m 36s\tremaining: 1m 31s\n",
      "631:\ttotal: 2m 36s\tremaining: 1m 31s\n",
      "632:\ttotal: 2m 37s\tremaining: 1m 31s\n",
      "633:\ttotal: 2m 37s\tremaining: 1m 30s\n",
      "634:\ttotal: 2m 37s\tremaining: 1m 30s\n",
      "635:\ttotal: 2m 38s\tremaining: 1m 30s\n",
      "636:\ttotal: 2m 38s\tremaining: 1m 30s\n",
      "637:\ttotal: 2m 38s\tremaining: 1m 29s\n",
      "638:\ttotal: 2m 38s\tremaining: 1m 29s\n",
      "639:\ttotal: 2m 38s\tremaining: 1m 29s\n",
      "640:\ttotal: 2m 39s\tremaining: 1m 29s\n",
      "641:\ttotal: 2m 39s\tremaining: 1m 28s\n",
      "642:\ttotal: 2m 39s\tremaining: 1m 28s\n",
      "643:\ttotal: 2m 39s\tremaining: 1m 28s\n",
      "644:\ttotal: 2m 40s\tremaining: 1m 28s\n",
      "645:\ttotal: 2m 40s\tremaining: 1m 27s\n",
      "646:\ttotal: 2m 40s\tremaining: 1m 27s\n",
      "647:\ttotal: 2m 40s\tremaining: 1m 27s\n",
      "648:\ttotal: 2m 40s\tremaining: 1m 27s\n",
      "649:\ttotal: 2m 41s\tremaining: 1m 26s\n",
      "650:\ttotal: 2m 41s\tremaining: 1m 26s\n",
      "651:\ttotal: 2m 41s\tremaining: 1m 26s\n",
      "652:\ttotal: 2m 41s\tremaining: 1m 25s\n",
      "653:\ttotal: 2m 41s\tremaining: 1m 25s\n",
      "654:\ttotal: 2m 42s\tremaining: 1m 25s\n",
      "655:\ttotal: 2m 42s\tremaining: 1m 25s\n",
      "656:\ttotal: 2m 42s\tremaining: 1m 24s\n",
      "657:\ttotal: 2m 42s\tremaining: 1m 24s\n",
      "658:\ttotal: 2m 42s\tremaining: 1m 24s\n",
      "659:\ttotal: 2m 43s\tremaining: 1m 24s\n",
      "660:\ttotal: 2m 43s\tremaining: 1m 23s\n",
      "661:\ttotal: 2m 43s\tremaining: 1m 23s\n",
      "662:\ttotal: 2m 43s\tremaining: 1m 23s\n",
      "663:\ttotal: 2m 44s\tremaining: 1m 23s\n",
      "664:\ttotal: 2m 44s\tremaining: 1m 22s\n",
      "665:\ttotal: 2m 44s\tremaining: 1m 22s\n",
      "666:\ttotal: 2m 44s\tremaining: 1m 22s\n",
      "667:\ttotal: 2m 44s\tremaining: 1m 21s\n",
      "668:\ttotal: 2m 45s\tremaining: 1m 21s\n",
      "669:\ttotal: 2m 45s\tremaining: 1m 21s\n",
      "670:\ttotal: 2m 45s\tremaining: 1m 21s\n",
      "671:\ttotal: 2m 45s\tremaining: 1m 20s\n",
      "672:\ttotal: 2m 46s\tremaining: 1m 20s\n",
      "673:\ttotal: 2m 46s\tremaining: 1m 20s\n",
      "674:\ttotal: 2m 46s\tremaining: 1m 20s\n",
      "675:\ttotal: 2m 47s\tremaining: 1m 20s\n",
      "676:\ttotal: 2m 47s\tremaining: 1m 19s\n",
      "677:\ttotal: 2m 47s\tremaining: 1m 19s\n",
      "678:\ttotal: 2m 48s\tremaining: 1m 19s\n",
      "679:\ttotal: 2m 48s\tremaining: 1m 19s\n",
      "680:\ttotal: 2m 48s\tremaining: 1m 19s\n",
      "681:\ttotal: 2m 49s\tremaining: 1m 18s\n",
      "682:\ttotal: 2m 49s\tremaining: 1m 18s\n",
      "683:\ttotal: 2m 49s\tremaining: 1m 18s\n",
      "684:\ttotal: 2m 49s\tremaining: 1m 18s\n",
      "685:\ttotal: 2m 50s\tremaining: 1m 17s\n",
      "686:\ttotal: 2m 50s\tremaining: 1m 17s\n",
      "687:\ttotal: 2m 50s\tremaining: 1m 17s\n",
      "688:\ttotal: 2m 51s\tremaining: 1m 17s\n",
      "689:\ttotal: 2m 51s\tremaining: 1m 16s\n",
      "690:\ttotal: 2m 51s\tremaining: 1m 16s\n",
      "691:\ttotal: 2m 51s\tremaining: 1m 16s\n",
      "692:\ttotal: 2m 52s\tremaining: 1m 16s\n",
      "693:\ttotal: 2m 52s\tremaining: 1m 16s\n",
      "694:\ttotal: 2m 52s\tremaining: 1m 15s\n",
      "695:\ttotal: 2m 52s\tremaining: 1m 15s\n",
      "696:\ttotal: 2m 53s\tremaining: 1m 15s\n",
      "697:\ttotal: 2m 53s\tremaining: 1m 15s\n",
      "698:\ttotal: 2m 53s\tremaining: 1m 14s\n",
      "699:\ttotal: 2m 54s\tremaining: 1m 14s\n",
      "700:\ttotal: 2m 54s\tremaining: 1m 14s\n",
      "701:\ttotal: 2m 54s\tremaining: 1m 14s\n",
      "702:\ttotal: 2m 54s\tremaining: 1m 13s\n",
      "703:\ttotal: 2m 55s\tremaining: 1m 13s\n",
      "704:\ttotal: 2m 55s\tremaining: 1m 13s\n",
      "705:\ttotal: 2m 55s\tremaining: 1m 13s\n",
      "706:\ttotal: 2m 56s\tremaining: 1m 12s\n",
      "707:\ttotal: 2m 56s\tremaining: 1m 12s\n",
      "708:\ttotal: 2m 56s\tremaining: 1m 12s\n",
      "709:\ttotal: 2m 56s\tremaining: 1m 12s\n",
      "710:\ttotal: 2m 57s\tremaining: 1m 12s\n",
      "711:\ttotal: 2m 57s\tremaining: 1m 11s\n",
      "712:\ttotal: 2m 57s\tremaining: 1m 11s\n",
      "713:\ttotal: 2m 58s\tremaining: 1m 11s\n",
      "714:\ttotal: 2m 58s\tremaining: 1m 11s\n",
      "715:\ttotal: 2m 58s\tremaining: 1m 10s\n",
      "716:\ttotal: 2m 59s\tremaining: 1m 10s\n",
      "717:\ttotal: 2m 59s\tremaining: 1m 10s\n",
      "718:\ttotal: 2m 59s\tremaining: 1m 10s\n",
      "719:\ttotal: 2m 59s\tremaining: 1m 9s\n",
      "720:\ttotal: 3m\tremaining: 1m 9s\n",
      "721:\ttotal: 3m\tremaining: 1m 9s\n",
      "722:\ttotal: 3m\tremaining: 1m 9s\n",
      "723:\ttotal: 3m 1s\tremaining: 1m 9s\n",
      "724:\ttotal: 3m 1s\tremaining: 1m 8s\n",
      "725:\ttotal: 3m 1s\tremaining: 1m 8s\n",
      "726:\ttotal: 3m 2s\tremaining: 1m 8s\n",
      "727:\ttotal: 3m 2s\tremaining: 1m 8s\n",
      "728:\ttotal: 3m 2s\tremaining: 1m 8s\n",
      "729:\ttotal: 3m 3s\tremaining: 1m 7s\n",
      "730:\ttotal: 3m 3s\tremaining: 1m 7s\n",
      "731:\ttotal: 3m 4s\tremaining: 1m 7s\n",
      "732:\ttotal: 3m 4s\tremaining: 1m 7s\n",
      "733:\ttotal: 3m 4s\tremaining: 1m 6s\n",
      "734:\ttotal: 3m 4s\tremaining: 1m 6s\n",
      "735:\ttotal: 3m 5s\tremaining: 1m 6s\n",
      "736:\ttotal: 3m 5s\tremaining: 1m 6s\n",
      "737:\ttotal: 3m 6s\tremaining: 1m 6s\n",
      "738:\ttotal: 3m 6s\tremaining: 1m 5s\n",
      "739:\ttotal: 3m 6s\tremaining: 1m 5s\n",
      "740:\ttotal: 3m 6s\tremaining: 1m 5s\n",
      "741:\ttotal: 3m 7s\tremaining: 1m 5s\n",
      "742:\ttotal: 3m 7s\tremaining: 1m 4s\n",
      "743:\ttotal: 3m 8s\tremaining: 1m 4s\n",
      "744:\ttotal: 3m 8s\tremaining: 1m 4s\n",
      "745:\ttotal: 3m 8s\tremaining: 1m 4s\n",
      "746:\ttotal: 3m 9s\tremaining: 1m 4s\n",
      "747:\ttotal: 3m 9s\tremaining: 1m 3s\n",
      "748:\ttotal: 3m 9s\tremaining: 1m 3s\n",
      "749:\ttotal: 3m 10s\tremaining: 1m 3s\n",
      "750:\ttotal: 3m 10s\tremaining: 1m 3s\n",
      "751:\ttotal: 3m 10s\tremaining: 1m 2s\n",
      "752:\ttotal: 3m 11s\tremaining: 1m 2s\n",
      "753:\ttotal: 3m 11s\tremaining: 1m 2s\n",
      "754:\ttotal: 3m 11s\tremaining: 1m 2s\n",
      "755:\ttotal: 3m 12s\tremaining: 1m 1s\n",
      "756:\ttotal: 3m 12s\tremaining: 1m 1s\n",
      "757:\ttotal: 3m 12s\tremaining: 1m 1s\n",
      "758:\ttotal: 3m 13s\tremaining: 1m 1s\n",
      "759:\ttotal: 3m 13s\tremaining: 1m 1s\n",
      "760:\ttotal: 3m 13s\tremaining: 1m\n",
      "761:\ttotal: 3m 14s\tremaining: 1m\n",
      "762:\ttotal: 3m 14s\tremaining: 1m\n",
      "763:\ttotal: 3m 14s\tremaining: 1m\n",
      "764:\ttotal: 3m 14s\tremaining: 59.9s\n",
      "765:\ttotal: 3m 15s\tremaining: 59.7s\n",
      "766:\ttotal: 3m 15s\tremaining: 59.4s\n",
      "767:\ttotal: 3m 15s\tremaining: 59.2s\n",
      "768:\ttotal: 3m 16s\tremaining: 59s\n",
      "769:\ttotal: 3m 16s\tremaining: 58.7s\n",
      "770:\ttotal: 3m 16s\tremaining: 58.5s\n",
      "771:\ttotal: 3m 17s\tremaining: 58.3s\n",
      "772:\ttotal: 3m 17s\tremaining: 58s\n",
      "773:\ttotal: 3m 17s\tremaining: 57.8s\n",
      "774:\ttotal: 3m 18s\tremaining: 57.5s\n",
      "775:\ttotal: 3m 18s\tremaining: 57.3s\n",
      "776:\ttotal: 3m 18s\tremaining: 57.1s\n",
      "777:\ttotal: 3m 19s\tremaining: 56.8s\n",
      "778:\ttotal: 3m 19s\tremaining: 56.6s\n",
      "779:\ttotal: 3m 19s\tremaining: 56.3s\n",
      "780:\ttotal: 3m 20s\tremaining: 56.1s\n",
      "781:\ttotal: 3m 20s\tremaining: 55.8s\n",
      "782:\ttotal: 3m 20s\tremaining: 55.6s\n",
      "783:\ttotal: 3m 20s\tremaining: 55.3s\n",
      "784:\ttotal: 3m 21s\tremaining: 55.1s\n",
      "785:\ttotal: 3m 21s\tremaining: 54.8s\n",
      "786:\ttotal: 3m 21s\tremaining: 54.6s\n",
      "787:\ttotal: 3m 21s\tremaining: 54.3s\n",
      "788:\ttotal: 3m 22s\tremaining: 54.1s\n",
      "789:\ttotal: 3m 22s\tremaining: 53.9s\n",
      "790:\ttotal: 3m 22s\tremaining: 53.6s\n",
      "791:\ttotal: 3m 23s\tremaining: 53.4s\n",
      "792:\ttotal: 3m 23s\tremaining: 53.1s\n",
      "793:\ttotal: 3m 23s\tremaining: 52.9s\n",
      "794:\ttotal: 3m 24s\tremaining: 52.6s\n",
      "795:\ttotal: 3m 24s\tremaining: 52.4s\n",
      "796:\ttotal: 3m 24s\tremaining: 52.1s\n",
      "797:\ttotal: 3m 24s\tremaining: 51.9s\n",
      "798:\ttotal: 3m 25s\tremaining: 51.6s\n",
      "799:\ttotal: 3m 25s\tremaining: 51.4s\n",
      "800:\ttotal: 3m 25s\tremaining: 51.1s\n",
      "801:\ttotal: 3m 25s\tremaining: 50.8s\n",
      "802:\ttotal: 3m 26s\tremaining: 50.6s\n",
      "803:\ttotal: 3m 26s\tremaining: 50.3s\n",
      "804:\ttotal: 3m 26s\tremaining: 50.1s\n",
      "805:\ttotal: 3m 27s\tremaining: 49.8s\n",
      "806:\ttotal: 3m 27s\tremaining: 49.6s\n",
      "807:\ttotal: 3m 27s\tremaining: 49.3s\n",
      "808:\ttotal: 3m 27s\tremaining: 49.1s\n",
      "809:\ttotal: 3m 28s\tremaining: 48.8s\n",
      "810:\ttotal: 3m 28s\tremaining: 48.6s\n",
      "811:\ttotal: 3m 28s\tremaining: 48.3s\n",
      "812:\ttotal: 3m 29s\tremaining: 48.1s\n",
      "813:\ttotal: 3m 29s\tremaining: 47.8s\n",
      "814:\ttotal: 3m 29s\tremaining: 47.6s\n",
      "815:\ttotal: 3m 29s\tremaining: 47.3s\n",
      "816:\ttotal: 3m 30s\tremaining: 47.1s\n",
      "817:\ttotal: 3m 30s\tremaining: 46.8s\n",
      "818:\ttotal: 3m 30s\tremaining: 46.6s\n",
      "819:\ttotal: 3m 31s\tremaining: 46.3s\n",
      "820:\ttotal: 3m 31s\tremaining: 46.1s\n",
      "821:\ttotal: 3m 31s\tremaining: 45.8s\n",
      "822:\ttotal: 3m 31s\tremaining: 45.5s\n",
      "823:\ttotal: 3m 32s\tremaining: 45.3s\n",
      "824:\ttotal: 3m 32s\tremaining: 45.1s\n",
      "825:\ttotal: 3m 32s\tremaining: 44.8s\n",
      "826:\ttotal: 3m 33s\tremaining: 44.6s\n",
      "827:\ttotal: 3m 33s\tremaining: 44.3s\n",
      "828:\ttotal: 3m 33s\tremaining: 44.1s\n",
      "829:\ttotal: 3m 33s\tremaining: 43.8s\n",
      "830:\ttotal: 3m 34s\tremaining: 43.6s\n",
      "831:\ttotal: 3m 34s\tremaining: 43.3s\n",
      "832:\ttotal: 3m 34s\tremaining: 43s\n",
      "833:\ttotal: 3m 34s\tremaining: 42.8s\n",
      "834:\ttotal: 3m 35s\tremaining: 42.5s\n",
      "835:\ttotal: 3m 35s\tremaining: 42.3s\n",
      "836:\ttotal: 3m 35s\tremaining: 42s\n",
      "837:\ttotal: 3m 36s\tremaining: 41.8s\n",
      "838:\ttotal: 3m 36s\tremaining: 41.5s\n",
      "839:\ttotal: 3m 36s\tremaining: 41.3s\n",
      "840:\ttotal: 3m 37s\tremaining: 41s\n",
      "841:\ttotal: 3m 37s\tremaining: 40.8s\n",
      "842:\ttotal: 3m 37s\tremaining: 40.5s\n",
      "843:\ttotal: 3m 37s\tremaining: 40.3s\n",
      "844:\ttotal: 3m 38s\tremaining: 40s\n",
      "845:\ttotal: 3m 38s\tremaining: 39.8s\n",
      "846:\ttotal: 3m 38s\tremaining: 39.5s\n",
      "847:\ttotal: 3m 39s\tremaining: 39.3s\n",
      "848:\ttotal: 3m 39s\tremaining: 39s\n",
      "849:\ttotal: 3m 39s\tremaining: 38.8s\n",
      "850:\ttotal: 3m 40s\tremaining: 38.5s\n",
      "851:\ttotal: 3m 40s\tremaining: 38.3s\n",
      "852:\ttotal: 3m 40s\tremaining: 38s\n",
      "853:\ttotal: 3m 41s\tremaining: 37.8s\n",
      "854:\ttotal: 3m 41s\tremaining: 37.5s\n",
      "855:\ttotal: 3m 41s\tremaining: 37.3s\n",
      "856:\ttotal: 3m 41s\tremaining: 37s\n",
      "857:\ttotal: 3m 42s\tremaining: 36.8s\n",
      "858:\ttotal: 3m 42s\tremaining: 36.5s\n",
      "859:\ttotal: 3m 42s\tremaining: 36.3s\n",
      "860:\ttotal: 3m 43s\tremaining: 36s\n",
      "861:\ttotal: 3m 43s\tremaining: 35.8s\n",
      "862:\ttotal: 3m 44s\tremaining: 35.6s\n",
      "863:\ttotal: 3m 44s\tremaining: 35.3s\n",
      "864:\ttotal: 3m 44s\tremaining: 35.1s\n",
      "865:\ttotal: 3m 45s\tremaining: 34.9s\n",
      "866:\ttotal: 3m 45s\tremaining: 34.6s\n",
      "867:\ttotal: 3m 45s\tremaining: 34.4s\n",
      "868:\ttotal: 3m 46s\tremaining: 34.1s\n",
      "869:\ttotal: 3m 46s\tremaining: 33.9s\n",
      "870:\ttotal: 3m 46s\tremaining: 33.6s\n",
      "871:\ttotal: 3m 47s\tremaining: 33.3s\n",
      "872:\ttotal: 3m 47s\tremaining: 33.1s\n",
      "873:\ttotal: 3m 47s\tremaining: 32.8s\n",
      "874:\ttotal: 3m 47s\tremaining: 32.6s\n",
      "875:\ttotal: 3m 48s\tremaining: 32.3s\n",
      "876:\ttotal: 3m 48s\tremaining: 32.1s\n",
      "877:\ttotal: 3m 48s\tremaining: 31.8s\n",
      "878:\ttotal: 3m 49s\tremaining: 31.5s\n",
      "879:\ttotal: 3m 49s\tremaining: 31.3s\n",
      "880:\ttotal: 3m 49s\tremaining: 31.1s\n",
      "881:\ttotal: 3m 50s\tremaining: 30.8s\n",
      "882:\ttotal: 3m 50s\tremaining: 30.6s\n",
      "883:\ttotal: 3m 51s\tremaining: 30.3s\n",
      "884:\ttotal: 3m 51s\tremaining: 30.1s\n",
      "885:\ttotal: 3m 51s\tremaining: 29.8s\n",
      "886:\ttotal: 3m 51s\tremaining: 29.5s\n",
      "887:\ttotal: 3m 52s\tremaining: 29.3s\n",
      "888:\ttotal: 3m 52s\tremaining: 29s\n",
      "889:\ttotal: 3m 52s\tremaining: 28.8s\n",
      "890:\ttotal: 3m 53s\tremaining: 28.5s\n",
      "891:\ttotal: 3m 53s\tremaining: 28.3s\n",
      "892:\ttotal: 3m 53s\tremaining: 28s\n",
      "893:\ttotal: 3m 54s\tremaining: 27.8s\n",
      "894:\ttotal: 3m 54s\tremaining: 27.5s\n",
      "895:\ttotal: 3m 54s\tremaining: 27.3s\n",
      "896:\ttotal: 3m 55s\tremaining: 27s\n",
      "897:\ttotal: 3m 55s\tremaining: 26.7s\n",
      "898:\ttotal: 3m 55s\tremaining: 26.5s\n",
      "899:\ttotal: 3m 55s\tremaining: 26.2s\n",
      "900:\ttotal: 3m 56s\tremaining: 26s\n",
      "901:\ttotal: 3m 56s\tremaining: 25.7s\n",
      "902:\ttotal: 3m 56s\tremaining: 25.5s\n",
      "903:\ttotal: 3m 57s\tremaining: 25.2s\n",
      "904:\ttotal: 3m 57s\tremaining: 24.9s\n",
      "905:\ttotal: 3m 57s\tremaining: 24.7s\n",
      "906:\ttotal: 3m 58s\tremaining: 24.4s\n",
      "907:\ttotal: 3m 58s\tremaining: 24.2s\n",
      "908:\ttotal: 3m 59s\tremaining: 23.9s\n",
      "909:\ttotal: 3m 59s\tremaining: 23.7s\n",
      "910:\ttotal: 3m 59s\tremaining: 23.4s\n",
      "911:\ttotal: 3m 59s\tremaining: 23.2s\n",
      "912:\ttotal: 4m\tremaining: 22.9s\n",
      "913:\ttotal: 4m\tremaining: 22.6s\n",
      "914:\ttotal: 4m 1s\tremaining: 22.4s\n",
      "915:\ttotal: 4m 1s\tremaining: 22.1s\n",
      "916:\ttotal: 4m 1s\tremaining: 21.9s\n",
      "917:\ttotal: 4m 1s\tremaining: 21.6s\n",
      "918:\ttotal: 4m 2s\tremaining: 21.4s\n",
      "919:\ttotal: 4m 2s\tremaining: 21.1s\n",
      "920:\ttotal: 4m 3s\tremaining: 20.8s\n",
      "921:\ttotal: 4m 3s\tremaining: 20.6s\n",
      "922:\ttotal: 4m 3s\tremaining: 20.3s\n",
      "923:\ttotal: 4m 3s\tremaining: 20.1s\n",
      "924:\ttotal: 4m 4s\tremaining: 19.8s\n",
      "925:\ttotal: 4m 4s\tremaining: 19.6s\n",
      "926:\ttotal: 4m 4s\tremaining: 19.3s\n",
      "927:\ttotal: 4m 5s\tremaining: 19s\n",
      "928:\ttotal: 4m 5s\tremaining: 18.8s\n",
      "929:\ttotal: 4m 5s\tremaining: 18.5s\n",
      "930:\ttotal: 4m 6s\tremaining: 18.2s\n",
      "931:\ttotal: 4m 6s\tremaining: 18s\n",
      "932:\ttotal: 4m 6s\tremaining: 17.7s\n",
      "933:\ttotal: 4m 7s\tremaining: 17.5s\n",
      "934:\ttotal: 4m 7s\tremaining: 17.2s\n",
      "935:\ttotal: 4m 7s\tremaining: 16.9s\n",
      "936:\ttotal: 4m 8s\tremaining: 16.7s\n",
      "937:\ttotal: 4m 8s\tremaining: 16.4s\n",
      "938:\ttotal: 4m 8s\tremaining: 16.2s\n",
      "939:\ttotal: 4m 9s\tremaining: 15.9s\n",
      "940:\ttotal: 4m 9s\tremaining: 15.6s\n",
      "941:\ttotal: 4m 9s\tremaining: 15.4s\n",
      "942:\ttotal: 4m 10s\tremaining: 15.1s\n",
      "943:\ttotal: 4m 10s\tremaining: 14.9s\n",
      "944:\ttotal: 4m 10s\tremaining: 14.6s\n",
      "945:\ttotal: 4m 11s\tremaining: 14.3s\n",
      "946:\ttotal: 4m 11s\tremaining: 14.1s\n",
      "947:\ttotal: 4m 11s\tremaining: 13.8s\n",
      "948:\ttotal: 4m 12s\tremaining: 13.5s\n",
      "949:\ttotal: 4m 12s\tremaining: 13.3s\n",
      "950:\ttotal: 4m 12s\tremaining: 13s\n",
      "951:\ttotal: 4m 12s\tremaining: 12.8s\n",
      "952:\ttotal: 4m 13s\tremaining: 12.5s\n",
      "953:\ttotal: 4m 13s\tremaining: 12.2s\n",
      "954:\ttotal: 4m 13s\tremaining: 12s\n",
      "955:\ttotal: 4m 14s\tremaining: 11.7s\n",
      "956:\ttotal: 4m 14s\tremaining: 11.4s\n",
      "957:\ttotal: 4m 14s\tremaining: 11.2s\n",
      "958:\ttotal: 4m 14s\tremaining: 10.9s\n",
      "959:\ttotal: 4m 15s\tremaining: 10.6s\n",
      "960:\ttotal: 4m 15s\tremaining: 10.4s\n",
      "961:\ttotal: 4m 15s\tremaining: 10.1s\n",
      "962:\ttotal: 4m 15s\tremaining: 9.84s\n",
      "963:\ttotal: 4m 16s\tremaining: 9.57s\n",
      "964:\ttotal: 4m 16s\tremaining: 9.31s\n",
      "965:\ttotal: 4m 16s\tremaining: 9.04s\n",
      "966:\ttotal: 4m 17s\tremaining: 8.78s\n",
      "967:\ttotal: 4m 17s\tremaining: 8.51s\n",
      "968:\ttotal: 4m 17s\tremaining: 8.25s\n",
      "969:\ttotal: 4m 18s\tremaining: 7.98s\n",
      "970:\ttotal: 4m 18s\tremaining: 7.72s\n",
      "971:\ttotal: 4m 18s\tremaining: 7.45s\n",
      "972:\ttotal: 4m 19s\tremaining: 7.19s\n",
      "973:\ttotal: 4m 19s\tremaining: 6.92s\n",
      "974:\ttotal: 4m 19s\tremaining: 6.66s\n",
      "975:\ttotal: 4m 20s\tremaining: 6.4s\n",
      "976:\ttotal: 4m 20s\tremaining: 6.13s\n",
      "977:\ttotal: 4m 21s\tremaining: 5.87s\n",
      "978:\ttotal: 4m 21s\tremaining: 5.61s\n",
      "979:\ttotal: 4m 21s\tremaining: 5.35s\n",
      "980:\ttotal: 4m 22s\tremaining: 5.08s\n",
      "981:\ttotal: 4m 22s\tremaining: 4.81s\n",
      "982:\ttotal: 4m 23s\tremaining: 4.55s\n",
      "983:\ttotal: 4m 23s\tremaining: 4.28s\n",
      "984:\ttotal: 4m 23s\tremaining: 4.01s\n",
      "985:\ttotal: 4m 23s\tremaining: 3.75s\n",
      "986:\ttotal: 4m 24s\tremaining: 3.48s\n",
      "987:\ttotal: 4m 24s\tremaining: 3.21s\n",
      "988:\ttotal: 4m 24s\tremaining: 2.95s\n",
      "989:\ttotal: 4m 25s\tremaining: 2.68s\n",
      "990:\ttotal: 4m 25s\tremaining: 2.41s\n",
      "991:\ttotal: 4m 26s\tremaining: 2.15s\n",
      "992:\ttotal: 4m 26s\tremaining: 1.88s\n",
      "993:\ttotal: 4m 26s\tremaining: 1.61s\n",
      "994:\ttotal: 4m 26s\tremaining: 1.34s\n",
      "995:\ttotal: 4m 27s\tremaining: 1.07s\n",
      "996:\ttotal: 4m 27s\tremaining: 805ms\n",
      "997:\ttotal: 4m 28s\tremaining: 537ms\n",
      "998:\ttotal: 4m 28s\tremaining: 269ms\n",
      "999:\ttotal: 4m 28s\tremaining: 0us\n"
     ]
    },
    {
     "data": {
      "text/plain": [
       "<catboost.core.CatBoostClassifier at 0x232aa253748>"
      ]
     },
     "execution_count": 208,
     "metadata": {},
     "output_type": "execute_result"
    }
   ],
   "source": [
    "model.fit(X_train, y_train,cat_features=cat_features)"
   ]
  },
  {
   "cell_type": "code",
   "execution_count": 209,
   "metadata": {},
   "outputs": [],
   "source": [
    "y_train_pred = model.predict_proba(X_train)"
   ]
  },
  {
   "cell_type": "code",
   "execution_count": 210,
   "metadata": {},
   "outputs": [],
   "source": [
    "y_pred = model.predict_proba(X_test)"
   ]
  },
  {
   "cell_type": "code",
   "execution_count": 211,
   "metadata": {},
   "outputs": [
    {
     "data": {
      "text/plain": [
       "array([[0.95657311, 0.04342689],\n",
       "       [0.74686801, 0.25313199],\n",
       "       [0.9274392 , 0.0725608 ],\n",
       "       ...,\n",
       "       [0.5530077 , 0.4469923 ],\n",
       "       [0.5200388 , 0.4799612 ],\n",
       "       [0.93364215, 0.06635785]])"
      ]
     },
     "execution_count": 211,
     "metadata": {},
     "output_type": "execute_result"
    }
   ],
   "source": [
    "y_pred"
   ]
  },
  {
   "cell_type": "code",
   "execution_count": 212,
   "metadata": {},
   "outputs": [],
   "source": [
    "probs = model.predict_proba(X_train)\n",
    "preds = probs[:,1]\n",
    "fpr, tpr, threshold = metrics.roc_curve(y_train, preds)\n",
    "roc_auc = metrics.auc(fpr, tpr)"
   ]
  },
  {
   "cell_type": "code",
   "execution_count": 213,
   "metadata": {},
   "outputs": [
    {
     "data": {
      "image/png": "[encoded data removed]",
      "text/plain": [
       "<Figure size 432x288 with 1 Axes>"
      ]
     },
     "metadata": {
      "needs_background": "light"
     },
     "output_type": "display_data"
    }
   ],
   "source": [
    "import matplotlib.pyplot as plt\n",
    "plt.title('Receiver Operating Characteristic')\n",
    "plt.plot(fpr, tpr, 'b', label = 'AUC = %0.2f' % roc_auc)\n",
    "plt.legend(loc = 'lower right')\n",
    "plt.plot([0, 1], [0, 1],'r--')\n",
    "plt.xlim([0, 1])\n",
    "plt.ylim([0, 1])\n",
    "plt.ylabel('True Positive Rate')\n",
    "plt.xlabel('False Positive Rate')\n",
    "plt.show()"
   ]
  },
  {
   "cell_type": "code",
   "execution_count": 214,
   "metadata": {},
   "outputs": [],
   "source": [
    "pred = model.predict_proba (X_test) [:,1]"
   ]
  },
  {
   "cell_type": "code",
   "execution_count": 215,
   "metadata": {},
   "outputs": [
    {
     "data": {
      "text/html": [
       "<div>\n",
       "<style scoped>\n",
       "    .dataframe tbody tr th:only-of-type {\n",
       "        vertical-align: middle;\n",
       "    }\n",
       "\n",
       "    .dataframe tbody tr th {\n",
       "        vertical-align: top;\n",
       "    }\n",
       "\n",
       "    .dataframe thead th {\n",
       "        text-align: right;\n",
       "    }\n",
       "</style>\n",
       "<table border=\"1\" class=\"dataframe\">\n",
       "  <thead>\n",
       "    <tr style=\"text-align: right;\">\n",
       "      <th></th>\n",
       "      <th>0</th>\n",
       "    </tr>\n",
       "  </thead>\n",
       "  <tbody>\n",
       "    <tr>\n",
       "      <th>0</th>\n",
       "      <td>0.043427</td>\n",
       "    </tr>\n",
       "    <tr>\n",
       "      <th>1</th>\n",
       "      <td>0.253132</td>\n",
       "    </tr>\n",
       "    <tr>\n",
       "      <th>2</th>\n",
       "      <td>0.072561</td>\n",
       "    </tr>\n",
       "    <tr>\n",
       "      <th>3</th>\n",
       "      <td>0.033116</td>\n",
       "    </tr>\n",
       "    <tr>\n",
       "      <th>4</th>\n",
       "      <td>0.029731</td>\n",
       "    </tr>\n",
       "  </tbody>\n",
       "</table>\n",
       "</div>"
      ],
      "text/plain": [
       "          0\n",
       "0  0.043427\n",
       "1  0.253132\n",
       "2  0.072561\n",
       "3  0.033116\n",
       "4  0.029731"
      ]
     },
     "execution_count": 215,
     "metadata": {},
     "output_type": "execute_result"
    }
   ],
   "source": [
    "pred = pd.DataFrame(pred)\n",
    "pred.head()"
   ]
  },
  {
   "cell_type": "code",
   "execution_count": null,
   "metadata": {},
   "outputs": [],
   "source": []
  },
  {
   "cell_type": "code",
   "execution_count": null,
   "metadata": {},
   "outputs": [],
   "source": []
  },
  {
   "cell_type": "markdown",
   "metadata": {},
   "source": [
    "### Saving the predicted values along with ID and Response"
   ]
  },
  {
   "cell_type": "code",
   "execution_count": 216,
   "metadata": {},
   "outputs": [],
   "source": [
    "df = pd.DataFrame(pred, columns = ['ID', 'Is_Lead'],index= None)"
   ]
  },
  {
   "cell_type": "code",
   "execution_count": 217,
   "metadata": {},
   "outputs": [],
   "source": [
    "df['Is_Lead'] = pred"
   ]
  },
  {
   "cell_type": "code",
   "execution_count": 218,
   "metadata": {},
   "outputs": [
    {
     "data": {
      "text/html": [
       "<div>\n",
       "<style scoped>\n",
       "    .dataframe tbody tr th:only-of-type {\n",
       "        vertical-align: middle;\n",
       "    }\n",
       "\n",
       "    .dataframe tbody tr th {\n",
       "        vertical-align: top;\n",
       "    }\n",
       "\n",
       "    .dataframe thead th {\n",
       "        text-align: right;\n",
       "    }\n",
       "</style>\n",
       "<table border=\"1\" class=\"dataframe\">\n",
       "  <thead>\n",
       "    <tr style=\"text-align: right;\">\n",
       "      <th></th>\n",
       "      <th>ID</th>\n",
       "      <th>Is_Lead</th>\n",
       "    </tr>\n",
       "  </thead>\n",
       "  <tbody>\n",
       "    <tr>\n",
       "      <th>0</th>\n",
       "      <td>NaN</td>\n",
       "      <td>0.043427</td>\n",
       "    </tr>\n",
       "    <tr>\n",
       "      <th>1</th>\n",
       "      <td>NaN</td>\n",
       "      <td>0.253132</td>\n",
       "    </tr>\n",
       "    <tr>\n",
       "      <th>2</th>\n",
       "      <td>NaN</td>\n",
       "      <td>0.072561</td>\n",
       "    </tr>\n",
       "    <tr>\n",
       "      <th>3</th>\n",
       "      <td>NaN</td>\n",
       "      <td>0.033116</td>\n",
       "    </tr>\n",
       "    <tr>\n",
       "      <th>4</th>\n",
       "      <td>NaN</td>\n",
       "      <td>0.029731</td>\n",
       "    </tr>\n",
       "  </tbody>\n",
       "</table>\n",
       "</div>"
      ],
      "text/plain": [
       "   ID   Is_Lead\n",
       "0 NaN  0.043427\n",
       "1 NaN  0.253132\n",
       "2 NaN  0.072561\n",
       "3 NaN  0.033116\n",
       "4 NaN  0.029731"
      ]
     },
     "execution_count": 218,
     "metadata": {},
     "output_type": "execute_result"
    }
   ],
   "source": [
    "df.head()"
   ]
  },
  {
   "cell_type": "code",
   "execution_count": 219,
   "metadata": {},
   "outputs": [
    {
     "data": {
      "text/plain": [
       "(105312, 2)"
      ]
     },
     "execution_count": 219,
     "metadata": {},
     "output_type": "execute_result"
    }
   ],
   "source": [
    "df.shape"
   ]
  },
  {
   "cell_type": "code",
   "execution_count": 220,
   "metadata": {},
   "outputs": [],
   "source": [
    "data_test = pd.read_csv(r\"C:\\Users\\Admin\\Downloads\\test_set.csv\")"
   ]
  },
  {
   "cell_type": "code",
   "execution_count": 221,
   "metadata": {},
   "outputs": [],
   "source": [
    "Id = data_test[\"ID\"]"
   ]
  },
  {
   "cell_type": "code",
   "execution_count": 222,
   "metadata": {},
   "outputs": [],
   "source": [
    "df[\"ID\"] = Id"
   ]
  },
  {
   "cell_type": "code",
   "execution_count": 223,
   "metadata": {
    "scrolled": true
   },
   "outputs": [
    {
     "data": {
      "text/html": [
       "<div>\n",
       "<style scoped>\n",
       "    .dataframe tbody tr th:only-of-type {\n",
       "        vertical-align: middle;\n",
       "    }\n",
       "\n",
       "    .dataframe tbody tr th {\n",
       "        vertical-align: top;\n",
       "    }\n",
       "\n",
       "    .dataframe thead th {\n",
       "        text-align: right;\n",
       "    }\n",
       "</style>\n",
       "<table border=\"1\" class=\"dataframe\">\n",
       "  <thead>\n",
       "    <tr style=\"text-align: right;\">\n",
       "      <th></th>\n",
       "      <th>ID</th>\n",
       "      <th>Is_Lead</th>\n",
       "    </tr>\n",
       "  </thead>\n",
       "  <tbody>\n",
       "    <tr>\n",
       "      <th>0</th>\n",
       "      <td>VBENBARO</td>\n",
       "      <td>0.043427</td>\n",
       "    </tr>\n",
       "    <tr>\n",
       "      <th>1</th>\n",
       "      <td>CCMEWNKY</td>\n",
       "      <td>0.253132</td>\n",
       "    </tr>\n",
       "    <tr>\n",
       "      <th>2</th>\n",
       "      <td>VK3KGA9M</td>\n",
       "      <td>0.072561</td>\n",
       "    </tr>\n",
       "    <tr>\n",
       "      <th>3</th>\n",
       "      <td>TT8RPZVC</td>\n",
       "      <td>0.033116</td>\n",
       "    </tr>\n",
       "    <tr>\n",
       "      <th>4</th>\n",
       "      <td>SHQZEYTZ</td>\n",
       "      <td>0.029731</td>\n",
       "    </tr>\n",
       "  </tbody>\n",
       "</table>\n",
       "</div>"
      ],
      "text/plain": [
       "         ID   Is_Lead\n",
       "0  VBENBARO  0.043427\n",
       "1  CCMEWNKY  0.253132\n",
       "2  VK3KGA9M  0.072561\n",
       "3  TT8RPZVC  0.033116\n",
       "4  SHQZEYTZ  0.029731"
      ]
     },
     "execution_count": 223,
     "metadata": {},
     "output_type": "execute_result"
    }
   ],
   "source": [
    "df.head()"
   ]
  },
  {
   "cell_type": "code",
   "execution_count": 224,
   "metadata": {},
   "outputs": [
    {
     "data": {
      "text/plain": [
       "(105312, 2)"
      ]
     },
     "execution_count": 224,
     "metadata": {},
     "output_type": "execute_result"
    }
   ],
   "source": [
    "df.shape"
   ]
  },
  {
   "cell_type": "code",
   "execution_count": 225,
   "metadata": {},
   "outputs": [],
   "source": [
    "df.to_csv('AV_bank_lead_prediction(7).csv', index = False) "
   ]
  },
  {
   "cell_type": "code",
   "execution_count": null,
   "metadata": {},
   "outputs": [],
   "source": []
  },
  {
   "cell_type": "code",
   "execution_count": null,
   "metadata": {},
   "outputs": [],
   "source": []
  },
  {
   "cell_type": "code",
   "execution_count": null,
   "metadata": {},
   "outputs": [],
   "source": []
  },
  {
   "cell_type": "code",
   "execution_count": null,
   "metadata": {},
   "outputs": [],
   "source": []
  }
 ],
 "metadata": {
  "kernelspec": {
   "display_name": "Python 3",
   "language": "python",
   "name": "python3"
  },
  "language_info": {
   "codemirror_mode": {
    "name": "ipython",
    "version": 3
   },
   "file_extension": ".py",
   "mimetype": "text/x-python",
   "name": "python",
   "nbconvert_exporter": "python",
   "pygments_lexer": "ipython3",
   "version": "3.7.4"
  }
 },
 "nbformat": 4,
 "nbformat_minor": 2
}
